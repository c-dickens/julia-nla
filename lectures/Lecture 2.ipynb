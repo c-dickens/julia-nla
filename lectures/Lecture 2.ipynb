{
 "cells": [
  {
   "cell_type": "markdown",
   "metadata": {},
   "source": [
    "# Lecture 2"
   ]
  },
  {
   "cell_type": "markdown",
   "metadata": {
    "collapsed": true
   },
   "source": [
    "Help for functions or commands is written with a `?...`."
   ]
  },
  {
   "cell_type": "code",
   "execution_count": 1,
   "metadata": {},
   "outputs": [
    {
     "name": "stdout",
     "output_type": "stream",
     "text": [
      "search: \u001b[1m+\u001b[22m .\u001b[1m+\u001b[22m\n",
      "\n"
     ]
    },
    {
     "data": {
      "text/markdown": [
       "```\n",
       "+(x, y...)\n",
       "```\n",
       "\n",
       "Addition operator. `x+y+z+...` calls this function with all arguments, i.e. `+(x, y, z, ...)`.\n",
       "\n",
       "```\n",
       "dt::Date + t::Time -> DateTime\n",
       "```\n",
       "\n",
       "The addition of a `Date` with a `Time` produces a `DateTime`. The hour, minute, second, and millisecond parts of the `Time` are used along with the year, month, and day of the `Date` to create the new `DateTime`. Non-zero microseconds or nanoseconds in the `Time` type will result in an `InexactError` being thrown.\n"
      ],
      "text/plain": [
       "```\n",
       "+(x, y...)\n",
       "```\n",
       "\n",
       "Addition operator. `x+y+z+...` calls this function with all arguments, i.e. `+(x, y, z, ...)`.\n",
       "\n",
       "```\n",
       "dt::Date + t::Time -> DateTime\n",
       "```\n",
       "\n",
       "The addition of a `Date` with a `Time` produces a `DateTime`. The hour, minute, second, and millisecond parts of the `Time` are used along with the year, month, and day of the `Date` to create the new `DateTime`. Non-zero microseconds or nanoseconds in the `Time` type will result in an `InexactError` being thrown.\n"
      ]
     },
     "execution_count": 1,
     "metadata": {},
     "output_type": "execute_result"
    }
   ],
   "source": [
    "?+"
   ]
  },
  {
   "cell_type": "code",
   "execution_count": 2,
   "metadata": {},
   "outputs": [
    {
     "name": "stdout",
     "output_type": "stream",
     "text": [
      "search: \u001b[1m*\u001b[22m .\u001b[1m*\u001b[22m\n",
      "\n"
     ]
    },
    {
     "data": {
      "text/markdown": [
       "```\n",
       "*(s::AbstractString, t::AbstractString)\n",
       "```\n",
       "\n",
       "Concatenate strings. The `*` operator is an alias to this function.\n",
       "\n",
       "# Example\n",
       "\n",
       "```jldoctest\n",
       "julia> \"Hello \" * \"world\"\n",
       "\"Hello world\"\n",
       "```\n",
       "\n",
       "```\n",
       "*(x, y...)\n",
       "```\n",
       "\n",
       "Multiplication operator. `x*y*z*...` calls this function with all arguments, i.e. `*(x, y, z, ...)`.\n",
       "\n",
       "```\n",
       "*(A::AbstractMatrix, B::AbstractMatrix)\n",
       "```\n",
       "\n",
       "Matrix multiplication.\n",
       "\n",
       "# Example\n",
       "\n",
       "```jldoctest\n",
       "julia> [1 1; 0 1] * [1 0; 1 1]\n",
       "2×2 Array{Int64,2}:\n",
       " 2  1\n",
       " 1  1\n",
       "```\n"
      ],
      "text/plain": [
       "```\n",
       "*(s::AbstractString, t::AbstractString)\n",
       "```\n",
       "\n",
       "Concatenate strings. The `*` operator is an alias to this function.\n",
       "\n",
       "# Example\n",
       "\n",
       "```jldoctest\n",
       "julia> \"Hello \" * \"world\"\n",
       "\"Hello world\"\n",
       "```\n",
       "\n",
       "```\n",
       "*(x, y...)\n",
       "```\n",
       "\n",
       "Multiplication operator. `x*y*z*...` calls this function with all arguments, i.e. `*(x, y, z, ...)`.\n",
       "\n",
       "```\n",
       "*(A::AbstractMatrix, B::AbstractMatrix)\n",
       "```\n",
       "\n",
       "Matrix multiplication.\n",
       "\n",
       "# Example\n",
       "\n",
       "```jldoctest\n",
       "julia> [1 1; 0 1] * [1 0; 1 1]\n",
       "2×2 Array{Int64,2}:\n",
       " 2  1\n",
       " 1  1\n",
       "```\n"
      ]
     },
     "execution_count": 2,
     "metadata": {},
     "output_type": "execute_result"
    }
   ],
   "source": [
    "?*"
   ]
  },
  {
   "cell_type": "markdown",
   "metadata": {},
   "source": [
    "Julia methods have _multiple dispatch_ which means that the methods depend on the name and the input.  That is, the method will behave differently under different input parameters.  For example, `methods(+)` shows a different perspective on how `+` acts."
   ]
  },
  {
   "cell_type": "code",
   "execution_count": 3,
   "metadata": {
    "scrolled": true
   },
   "outputs": [
    {
     "data": {
      "text/html": [
       "180 methods for generic function <b>+</b>:<ul><li> +(x::<b>Bool</b>, z::<b>Complex{Bool}</b>) at <a href=\"https://github.com/JuliaLang/julia/tree/0d7248e2ff65bd6886ba3f003bf5aeab929edab5/base/complex.jl#L232\" target=\"_blank\">complex.jl:232</a></li> <li> +(x::<b>Bool</b>, y::<b>Bool</b>) at <a href=\"https://github.com/JuliaLang/julia/tree/0d7248e2ff65bd6886ba3f003bf5aeab929edab5/base/bool.jl#L89\" target=\"_blank\">bool.jl:89</a></li> <li> +(x::<b>Bool</b>) at <a href=\"https://github.com/JuliaLang/julia/tree/0d7248e2ff65bd6886ba3f003bf5aeab929edab5/base/bool.jl#L86\" target=\"_blank\">bool.jl:86</a></li> <li> +<i>{T<:AbstractFloat}</i>(x::<b>Bool</b>, y::<b>T</b>) at <a href=\"https://github.com/JuliaLang/julia/tree/0d7248e2ff65bd6886ba3f003bf5aeab929edab5/base/bool.jl#L96\" target=\"_blank\">bool.jl:96</a></li> <li> +(x::<b>Bool</b>, z::<b>Complex</b>) at <a href=\"https://github.com/JuliaLang/julia/tree/0d7248e2ff65bd6886ba3f003bf5aeab929edab5/base/complex.jl#L239\" target=\"_blank\">complex.jl:239</a></li> <li> +(a::<b>Float16</b>, b::<b>Float16</b>) at <a href=\"https://github.com/JuliaLang/julia/tree/0d7248e2ff65bd6886ba3f003bf5aeab929edab5/base/float.jl#L372\" target=\"_blank\">float.jl:372</a></li> <li> +(x::<b>Float32</b>, y::<b>Float32</b>) at <a href=\"https://github.com/JuliaLang/julia/tree/0d7248e2ff65bd6886ba3f003bf5aeab929edab5/base/float.jl#L374\" target=\"_blank\">float.jl:374</a></li> <li> +(x::<b>Float64</b>, y::<b>Float64</b>) at <a href=\"https://github.com/JuliaLang/julia/tree/0d7248e2ff65bd6886ba3f003bf5aeab929edab5/base/float.jl#L375\" target=\"_blank\">float.jl:375</a></li> <li> +(z::<b>Complex{Bool}</b>, x::<b>Bool</b>) at <a href=\"https://github.com/JuliaLang/julia/tree/0d7248e2ff65bd6886ba3f003bf5aeab929edab5/base/complex.jl#L233\" target=\"_blank\">complex.jl:233</a></li> <li> +(z::<b>Complex{Bool}</b>, x::<b>Real</b>) at <a href=\"https://github.com/JuliaLang/julia/tree/0d7248e2ff65bd6886ba3f003bf5aeab929edab5/base/complex.jl#L247\" target=\"_blank\">complex.jl:247</a></li> <li> +(x::<b>Char</b>, y::<b>Integer</b>) at <a href=\"https://github.com/JuliaLang/julia/tree/0d7248e2ff65bd6886ba3f003bf5aeab929edab5/base/char.jl#L40\" target=\"_blank\">char.jl:40</a></li> <li> +(c::<b>BigInt</b>, x::<b>BigFloat</b>) at <a href=\"https://github.com/JuliaLang/julia/tree/0d7248e2ff65bd6886ba3f003bf5aeab929edab5/base/mpfr.jl#L312\" target=\"_blank\">mpfr.jl:312</a></li> <li> +(a::<b>BigInt</b>, b::<b>BigInt</b>, c::<b>BigInt</b>, d::<b>BigInt</b>, e::<b>BigInt</b>) at <a href=\"https://github.com/JuliaLang/julia/tree/0d7248e2ff65bd6886ba3f003bf5aeab929edab5/base/gmp.jl#L334\" target=\"_blank\">gmp.jl:334</a></li> <li> +(a::<b>BigInt</b>, b::<b>BigInt</b>, c::<b>BigInt</b>, d::<b>BigInt</b>) at <a href=\"https://github.com/JuliaLang/julia/tree/0d7248e2ff65bd6886ba3f003bf5aeab929edab5/base/gmp.jl#L327\" target=\"_blank\">gmp.jl:327</a></li> <li> +(a::<b>BigInt</b>, b::<b>BigInt</b>, c::<b>BigInt</b>) at <a href=\"https://github.com/JuliaLang/julia/tree/0d7248e2ff65bd6886ba3f003bf5aeab929edab5/base/gmp.jl#L321\" target=\"_blank\">gmp.jl:321</a></li> <li> +(x::<b>BigInt</b>, y::<b>BigInt</b>) at <a href=\"https://github.com/JuliaLang/julia/tree/0d7248e2ff65bd6886ba3f003bf5aeab929edab5/base/gmp.jl#L289\" target=\"_blank\">gmp.jl:289</a></li> <li> +(x::<b>BigInt</b>, c::<b>Union{UInt16, UInt32, UInt64, UInt8}</b>) at <a href=\"https://github.com/JuliaLang/julia/tree/0d7248e2ff65bd6886ba3f003bf5aeab929edab5/base/gmp.jl#L346\" target=\"_blank\">gmp.jl:346</a></li> <li> +(x::<b>BigInt</b>, c::<b>Union{Int16, Int32, Int64, Int8}</b>) at <a href=\"https://github.com/JuliaLang/julia/tree/0d7248e2ff65bd6886ba3f003bf5aeab929edab5/base/gmp.jl#L362\" target=\"_blank\">gmp.jl:362</a></li> <li> +(a::<b>BigFloat</b>, b::<b>BigFloat</b>, c::<b>BigFloat</b>, d::<b>BigFloat</b>, e::<b>BigFloat</b>) at <a href=\"https://github.com/JuliaLang/julia/tree/0d7248e2ff65bd6886ba3f003bf5aeab929edab5/base/mpfr.jl#L460\" target=\"_blank\">mpfr.jl:460</a></li> <li> +(a::<b>BigFloat</b>, b::<b>BigFloat</b>, c::<b>BigFloat</b>, d::<b>BigFloat</b>) at <a href=\"https://github.com/JuliaLang/julia/tree/0d7248e2ff65bd6886ba3f003bf5aeab929edab5/base/mpfr.jl#L453\" target=\"_blank\">mpfr.jl:453</a></li> <li> +(a::<b>BigFloat</b>, b::<b>BigFloat</b>, c::<b>BigFloat</b>) at <a href=\"https://github.com/JuliaLang/julia/tree/0d7248e2ff65bd6886ba3f003bf5aeab929edab5/base/mpfr.jl#L447\" target=\"_blank\">mpfr.jl:447</a></li> <li> +(x::<b>BigFloat</b>, c::<b>BigInt</b>) at <a href=\"https://github.com/JuliaLang/julia/tree/0d7248e2ff65bd6886ba3f003bf5aeab929edab5/base/mpfr.jl#L308\" target=\"_blank\">mpfr.jl:308</a></li> <li> +(x::<b>BigFloat</b>, y::<b>BigFloat</b>) at <a href=\"https://github.com/JuliaLang/julia/tree/0d7248e2ff65bd6886ba3f003bf5aeab929edab5/base/mpfr.jl#L277\" target=\"_blank\">mpfr.jl:277</a></li> <li> +(x::<b>BigFloat</b>, c::<b>Union{UInt16, UInt32, UInt64, UInt8}</b>) at <a href=\"https://github.com/JuliaLang/julia/tree/0d7248e2ff65bd6886ba3f003bf5aeab929edab5/base/mpfr.jl#L284\" target=\"_blank\">mpfr.jl:284</a></li> <li> +(x::<b>BigFloat</b>, c::<b>Union{Int16, Int32, Int64, Int8}</b>) at <a href=\"https://github.com/JuliaLang/julia/tree/0d7248e2ff65bd6886ba3f003bf5aeab929edab5/base/mpfr.jl#L292\" target=\"_blank\">mpfr.jl:292</a></li> <li> +(x::<b>BigFloat</b>, c::<b>Union{Float16, Float32, Float64}</b>) at <a href=\"https://github.com/JuliaLang/julia/tree/0d7248e2ff65bd6886ba3f003bf5aeab929edab5/base/mpfr.jl#L300\" target=\"_blank\">mpfr.jl:300</a></li> <li> +(B::<b>BitArray{2}</b>, J::<b>UniformScaling</b>) at <a href=\"https://github.com/JuliaLang/julia/tree/0d7248e2ff65bd6886ba3f003bf5aeab929edab5/base/linalg/uniformscaling.jl#L59\" target=\"_blank\">linalg/uniformscaling.jl:59</a></li> <li> +(a::<b>Base.Pkg.Resolve.VersionWeights.VWPreBuildItem</b>, b::<b>Base.Pkg.Resolve.VersionWeights.VWPreBuildItem</b>) at <a href=\"https://github.com/JuliaLang/julia/tree/0d7248e2ff65bd6886ba3f003bf5aeab929edab5/base/pkg/resolve/versionweight.jl#L87\" target=\"_blank\">pkg/resolve/versionweight.jl:87</a></li> <li> +(a::<b>Base.Pkg.Resolve.VersionWeights.VWPreBuild</b>, b::<b>Base.Pkg.Resolve.VersionWeights.VWPreBuild</b>) at <a href=\"https://github.com/JuliaLang/julia/tree/0d7248e2ff65bd6886ba3f003bf5aeab929edab5/base/pkg/resolve/versionweight.jl#L135\" target=\"_blank\">pkg/resolve/versionweight.jl:135</a></li> <li> +(a::<b>Base.Pkg.Resolve.VersionWeights.VersionWeight</b>, b::<b>Base.Pkg.Resolve.VersionWeights.VersionWeight</b>) at <a href=\"https://github.com/JuliaLang/julia/tree/0d7248e2ff65bd6886ba3f003bf5aeab929edab5/base/pkg/resolve/versionweight.jl#L197\" target=\"_blank\">pkg/resolve/versionweight.jl:197</a></li> <li> +(a::<b>Base.Pkg.Resolve.MaxSum.FieldValues.FieldValue</b>, b::<b>Base.Pkg.Resolve.MaxSum.FieldValues.FieldValue</b>) at <a href=\"https://github.com/JuliaLang/julia/tree/0d7248e2ff65bd6886ba3f003bf5aeab929edab5/base/pkg/resolve/fieldvalue.jl#L44\" target=\"_blank\">pkg/resolve/fieldvalue.jl:44</a></li> <li> +(x::<b>Base.Dates.CompoundPeriod</b>, y::<b>Base.Dates.CompoundPeriod</b>) at <a href=\"https://github.com/JuliaLang/julia/tree/0d7248e2ff65bd6886ba3f003bf5aeab929edab5/base/dates/periods.jl#L349\" target=\"_blank\">dates/periods.jl:349</a></li> <li> +(x::<b>Base.Dates.CompoundPeriod</b>, y::<b>Base.Dates.Period</b>) at <a href=\"https://github.com/JuliaLang/julia/tree/0d7248e2ff65bd6886ba3f003bf5aeab929edab5/base/dates/periods.jl#L347\" target=\"_blank\">dates/periods.jl:347</a></li> <li> +(x::<b>Base.Dates.CompoundPeriod</b>, y::<b>Base.Dates.TimeType</b>) at <a href=\"https://github.com/JuliaLang/julia/tree/0d7248e2ff65bd6886ba3f003bf5aeab929edab5/base/dates/periods.jl#L387\" target=\"_blank\">dates/periods.jl:387</a></li> <li> +(x::<b>Date</b>, y::<b>Base.Dates.Day</b>) at <a href=\"https://github.com/JuliaLang/julia/tree/0d7248e2ff65bd6886ba3f003bf5aeab929edab5/base/dates/arithmetic.jl#L77\" target=\"_blank\">dates/arithmetic.jl:77</a></li> <li> +(x::<b>Date</b>, y::<b>Base.Dates.Week</b>) at <a href=\"https://github.com/JuliaLang/julia/tree/0d7248e2ff65bd6886ba3f003bf5aeab929edab5/base/dates/arithmetic.jl#L75\" target=\"_blank\">dates/arithmetic.jl:75</a></li> <li> +(dt::<b>Date</b>, z::<b>Base.Dates.Month</b>) at <a href=\"https://github.com/JuliaLang/julia/tree/0d7248e2ff65bd6886ba3f003bf5aeab929edab5/base/dates/arithmetic.jl#L58\" target=\"_blank\">dates/arithmetic.jl:58</a></li> <li> +(dt::<b>Date</b>, y::<b>Base.Dates.Year</b>) at <a href=\"https://github.com/JuliaLang/julia/tree/0d7248e2ff65bd6886ba3f003bf5aeab929edab5/base/dates/arithmetic.jl#L32\" target=\"_blank\">dates/arithmetic.jl:32</a></li> <li> +(dt::<b>Date</b>, t::<b>Base.Dates.Time</b>) at <a href=\"https://github.com/JuliaLang/julia/tree/0d7248e2ff65bd6886ba3f003bf5aeab929edab5/base/dates/arithmetic.jl#L20\" target=\"_blank\">dates/arithmetic.jl:20</a></li> <li> +(t::<b>Base.Dates.Time</b>, dt::<b>Date</b>) at <a href=\"https://github.com/JuliaLang/julia/tree/0d7248e2ff65bd6886ba3f003bf5aeab929edab5/base/dates/arithmetic.jl#L24\" target=\"_blank\">dates/arithmetic.jl:24</a></li> <li> +(x::<b>Base.Dates.Time</b>, y::<b>Base.Dates.TimePeriod</b>) at <a href=\"https://github.com/JuliaLang/julia/tree/0d7248e2ff65bd6886ba3f003bf5aeab929edab5/base/dates/arithmetic.jl#L81\" target=\"_blank\">dates/arithmetic.jl:81</a></li> <li> +(dt::<b>DateTime</b>, z::<b>Base.Dates.Month</b>) at <a href=\"https://github.com/JuliaLang/julia/tree/0d7248e2ff65bd6886ba3f003bf5aeab929edab5/base/dates/arithmetic.jl#L52\" target=\"_blank\">dates/arithmetic.jl:52</a></li> <li> +(dt::<b>DateTime</b>, y::<b>Base.Dates.Year</b>) at <a href=\"https://github.com/JuliaLang/julia/tree/0d7248e2ff65bd6886ba3f003bf5aeab929edab5/base/dates/arithmetic.jl#L28\" target=\"_blank\">dates/arithmetic.jl:28</a></li> <li> +(x::<b>DateTime</b>, y::<b>Base.Dates.Period</b>) at <a href=\"https://github.com/JuliaLang/julia/tree/0d7248e2ff65bd6886ba3f003bf5aeab929edab5/base/dates/arithmetic.jl#L79\" target=\"_blank\">dates/arithmetic.jl:79</a></li> <li> +(y::<b>AbstractFloat</b>, x::<b>Bool</b>) at <a href=\"https://github.com/JuliaLang/julia/tree/0d7248e2ff65bd6886ba3f003bf5aeab929edab5/base/bool.jl#L98\" target=\"_blank\">bool.jl:98</a></li> <li> +<i>{T<:Union{Int128, Int16, Int32, Int64, Int8, UInt128, UInt16, UInt32, UInt64, UInt8}}</i>(x::<b>T</b>, y::<b>T</b>) at <a href=\"https://github.com/JuliaLang/julia/tree/0d7248e2ff65bd6886ba3f003bf5aeab929edab5/base/int.jl#L32\" target=\"_blank\">int.jl:32</a></li> <li> +(x::<b>Integer</b>, y::<b>Ptr</b>) at <a href=\"https://github.com/JuliaLang/julia/tree/0d7248e2ff65bd6886ba3f003bf5aeab929edab5/base/pointer.jl#L128\" target=\"_blank\">pointer.jl:128</a></li> <li> +(z::<b>Complex</b>, w::<b>Complex</b>) at <a href=\"https://github.com/JuliaLang/julia/tree/0d7248e2ff65bd6886ba3f003bf5aeab929edab5/base/complex.jl#L221\" target=\"_blank\">complex.jl:221</a></li> <li> +(z::<b>Complex</b>, x::<b>Bool</b>) at <a href=\"https://github.com/JuliaLang/julia/tree/0d7248e2ff65bd6886ba3f003bf5aeab929edab5/base/complex.jl#L240\" target=\"_blank\">complex.jl:240</a></li> <li> +(x::<b>Real</b>, z::<b>Complex{Bool}</b>) at <a href=\"https://github.com/JuliaLang/julia/tree/0d7248e2ff65bd6886ba3f003bf5aeab929edab5/base/complex.jl#L246\" target=\"_blank\">complex.jl:246</a></li> <li> +(x::<b>Real</b>, z::<b>Complex</b>) at <a href=\"https://github.com/JuliaLang/julia/tree/0d7248e2ff65bd6886ba3f003bf5aeab929edab5/base/complex.jl#L258\" target=\"_blank\">complex.jl:258</a></li> <li> +(z::<b>Complex</b>, x::<b>Real</b>) at <a href=\"https://github.com/JuliaLang/julia/tree/0d7248e2ff65bd6886ba3f003bf5aeab929edab5/base/complex.jl#L259\" target=\"_blank\">complex.jl:259</a></li> <li> +(x::<b>Rational</b>, y::<b>Rational</b>) at <a href=\"https://github.com/JuliaLang/julia/tree/0d7248e2ff65bd6886ba3f003bf5aeab929edab5/base/rational.jl#L245\" target=\"_blank\">rational.jl:245</a></li> <li> +(x::<b>Integer</b>, y::<b>Char</b>) at <a href=\"https://github.com/JuliaLang/julia/tree/0d7248e2ff65bd6886ba3f003bf5aeab929edab5/base/char.jl#L41\" target=\"_blank\">char.jl:41</a></li> <li> +(i::<b>Integer</b>, index::<b>CartesianIndex</b>) at <a href=\"https://github.com/JuliaLang/julia/tree/0d7248e2ff65bd6886ba3f003bf5aeab929edab5/base/multidimensional.jl#L110\" target=\"_blank\">multidimensional.jl:110</a></li> <li> +(c::<b>Union{UInt16, UInt32, UInt64, UInt8}</b>, x::<b>BigInt</b>) at <a href=\"https://github.com/JuliaLang/julia/tree/0d7248e2ff65bd6886ba3f003bf5aeab929edab5/base/gmp.jl#L350\" target=\"_blank\">gmp.jl:350</a></li> <li> +(c::<b>Union{Int16, Int32, Int64, Int8}</b>, x::<b>BigInt</b>) at <a href=\"https://github.com/JuliaLang/julia/tree/0d7248e2ff65bd6886ba3f003bf5aeab929edab5/base/gmp.jl#L363\" target=\"_blank\">gmp.jl:363</a></li> <li> +(c::<b>Union{UInt16, UInt32, UInt64, UInt8}</b>, x::<b>BigFloat</b>) at <a href=\"https://github.com/JuliaLang/julia/tree/0d7248e2ff65bd6886ba3f003bf5aeab929edab5/base/mpfr.jl#L288\" target=\"_blank\">mpfr.jl:288</a></li> <li> +(c::<b>Union{Int16, Int32, Int64, Int8}</b>, x::<b>BigFloat</b>) at <a href=\"https://github.com/JuliaLang/julia/tree/0d7248e2ff65bd6886ba3f003bf5aeab929edab5/base/mpfr.jl#L296\" target=\"_blank\">mpfr.jl:296</a></li> <li> +(c::<b>Union{Float16, Float32, Float64}</b>, x::<b>BigFloat</b>) at <a href=\"https://github.com/JuliaLang/julia/tree/0d7248e2ff65bd6886ba3f003bf5aeab929edab5/base/mpfr.jl#L304\" target=\"_blank\">mpfr.jl:304</a></li> <li> +(x::<b>Irrational</b>, y::<b>Irrational</b>) at <a href=\"https://github.com/JuliaLang/julia/tree/0d7248e2ff65bd6886ba3f003bf5aeab929edab5/base/irrationals.jl#L109\" target=\"_blank\">irrationals.jl:109</a></li> <li> +(x::<b>Real</b>, r::<b>Base.Use_StepRangeLen_Instead</b>) at <a href=\"https://github.com/JuliaLang/julia/tree/0d7248e2ff65bd6886ba3f003bf5aeab929edab5/base/deprecated.jl#L1232\" target=\"_blank\">deprecated.jl:1232</a></li> <li> +(x::<b>Number</b>) at <a href=\"https://github.com/JuliaLang/julia/tree/0d7248e2ff65bd6886ba3f003bf5aeab929edab5/base/operators.jl#L399\" target=\"_blank\">operators.jl:399</a></li> <li> +<i>{T<:Number}</i>(x::<b>T</b>, y::<b>T</b>) at <a href=\"https://github.com/JuliaLang/julia/tree/0d7248e2ff65bd6886ba3f003bf5aeab929edab5/base/promotion.jl#L335\" target=\"_blank\">promotion.jl:335</a></li> <li> +(x::<b>Number</b>, y::<b>Number</b>) at <a href=\"https://github.com/JuliaLang/julia/tree/0d7248e2ff65bd6886ba3f003bf5aeab929edab5/base/promotion.jl#L249\" target=\"_blank\">promotion.jl:249</a></li> <li> +(x::<b>Real</b>, r::<b>AbstractUnitRange</b>) at <a href=\"https://github.com/JuliaLang/julia/tree/0d7248e2ff65bd6886ba3f003bf5aeab929edab5/base/range.jl#L721\" target=\"_blank\">range.jl:721</a></li> <li> +(x::<b>Number</b>, r::<b>AbstractUnitRange</b>) at <a href=\"https://github.com/JuliaLang/julia/tree/0d7248e2ff65bd6886ba3f003bf5aeab929edab5/base/range.jl#L723\" target=\"_blank\">range.jl:723</a></li> <li> +(x::<b>Number</b>, r::<b>StepRangeLen</b>) at <a href=\"https://github.com/JuliaLang/julia/tree/0d7248e2ff65bd6886ba3f003bf5aeab929edab5/base/range.jl#L726\" target=\"_blank\">range.jl:726</a></li> <li> +(x::<b>Number</b>, r::<b>LinSpace</b>) at <a href=\"https://github.com/JuliaLang/julia/tree/0d7248e2ff65bd6886ba3f003bf5aeab929edab5/base/range.jl#L730\" target=\"_blank\">range.jl:730</a></li> <li> +(x::<b>Number</b>, r::<b>Range</b>) at <a href=\"https://github.com/JuliaLang/julia/tree/0d7248e2ff65bd6886ba3f003bf5aeab929edab5/base/range.jl#L724\" target=\"_blank\">range.jl:724</a></li> <li> +(r::<b>Range</b>, x::<b>Number</b>) at <a href=\"https://github.com/JuliaLang/julia/tree/0d7248e2ff65bd6886ba3f003bf5aeab929edab5/base/range.jl#L732\" target=\"_blank\">range.jl:732</a></li> <li> +(r1::<b>OrdinalRange</b>, r2::<b>OrdinalRange</b>) at <a href=\"https://github.com/JuliaLang/julia/tree/0d7248e2ff65bd6886ba3f003bf5aeab929edab5/base/range.jl#L882\" target=\"_blank\">range.jl:882</a></li> <li> +<i>{T}</i>(r1::<b>LinSpace{T}</b>, r2::<b>LinSpace{T}</b>) at <a href=\"https://github.com/JuliaLang/julia/tree/0d7248e2ff65bd6886ba3f003bf5aeab929edab5/base/range.jl#L889\" target=\"_blank\">range.jl:889</a></li> <li> +<i>{R<:Base.TwicePrecision, T}</i>(r1::<b>StepRangeLen{T,R,S} where S</b>, r2::<b>StepRangeLen{T,R,S} where S</b>) at <a href=\"https://github.com/JuliaLang/julia/tree/0d7248e2ff65bd6886ba3f003bf5aeab929edab5/base/twiceprecision.jl#L300\" target=\"_blank\">twiceprecision.jl:300</a></li> <li> +<i>{T, S}</i>(r1::<b>StepRangeLen{T,S,S} where S</b>, r2::<b>StepRangeLen{T,S,S} where S</b>) at <a href=\"https://github.com/JuliaLang/julia/tree/0d7248e2ff65bd6886ba3f003bf5aeab929edab5/base/range.jl#L905\" target=\"_blank\">range.jl:905</a></li> <li> +(r1::<b>Union{LinSpace, OrdinalRange, StepRangeLen}</b>, r2::<b>Union{LinSpace, OrdinalRange, StepRangeLen}</b>) at <a href=\"https://github.com/JuliaLang/julia/tree/0d7248e2ff65bd6886ba3f003bf5aeab929edab5/base/range.jl#L897\" target=\"_blank\">range.jl:897</a></li> <li> +(x::<b>Base.TwicePrecision</b>, y::<b>Number</b>) at <a href=\"https://github.com/JuliaLang/julia/tree/0d7248e2ff65bd6886ba3f003bf5aeab929edab5/base/twiceprecision.jl#L455\" target=\"_blank\">twiceprecision.jl:455</a></li> <li> +(x::<b>Number</b>, y::<b>Base.TwicePrecision</b>) at <a href=\"https://github.com/JuliaLang/julia/tree/0d7248e2ff65bd6886ba3f003bf5aeab929edab5/base/twiceprecision.jl#L458\" target=\"_blank\">twiceprecision.jl:458</a></li> <li> +<i>{T}</i>(x::<b>Base.TwicePrecision{T}</b>, y::<b>Base.TwicePrecision{T}</b>) at <a href=\"https://github.com/JuliaLang/julia/tree/0d7248e2ff65bd6886ba3f003bf5aeab929edab5/base/twiceprecision.jl#L461\" target=\"_blank\">twiceprecision.jl:461</a></li> <li> +(x::<b>Base.TwicePrecision</b>, y::<b>Base.TwicePrecision</b>) at <a href=\"https://github.com/JuliaLang/julia/tree/0d7248e2ff65bd6886ba3f003bf5aeab929edab5/base/twiceprecision.jl#L465\" target=\"_blank\">twiceprecision.jl:465</a></li> <li> +(x::<b>Ptr</b>, y::<b>Integer</b>) at <a href=\"https://github.com/JuliaLang/julia/tree/0d7248e2ff65bd6886ba3f003bf5aeab929edab5/base/pointer.jl#L126\" target=\"_blank\">pointer.jl:126</a></li> <li> +(A::<b>BitArray</b>, B::<b>BitArray</b>) at <a href=\"https://github.com/JuliaLang/julia/tree/0d7248e2ff65bd6886ba3f003bf5aeab929edab5/base/bitarray.jl#L1177\" target=\"_blank\">bitarray.jl:1177</a></li> <li> +(A::<b>SymTridiagonal</b>, B::<b>SymTridiagonal</b>) at <a href=\"https://github.com/JuliaLang/julia/tree/0d7248e2ff65bd6886ba3f003bf5aeab929edab5/base/linalg/tridiag.jl#L128\" target=\"_blank\">linalg/tridiag.jl:128</a></li> <li> +(A::<b>Tridiagonal</b>, B::<b>Tridiagonal</b>) at <a href=\"https://github.com/JuliaLang/julia/tree/0d7248e2ff65bd6886ba3f003bf5aeab929edab5/base/linalg/tridiag.jl#L624\" target=\"_blank\">linalg/tridiag.jl:624</a></li> <li> +(A::<b>UpperTriangular</b>, B::<b>UpperTriangular</b>) at <a href=\"https://github.com/JuliaLang/julia/tree/0d7248e2ff65bd6886ba3f003bf5aeab929edab5/base/linalg/triangular.jl#L419\" target=\"_blank\">linalg/triangular.jl:419</a></li> <li> +(A::<b>LowerTriangular</b>, B::<b>LowerTriangular</b>) at <a href=\"https://github.com/JuliaLang/julia/tree/0d7248e2ff65bd6886ba3f003bf5aeab929edab5/base/linalg/triangular.jl#L420\" target=\"_blank\">linalg/triangular.jl:420</a></li> <li> +(A::<b>UpperTriangular</b>, B::<b>Base.LinAlg.UnitUpperTriangular</b>) at <a href=\"https://github.com/JuliaLang/julia/tree/0d7248e2ff65bd6886ba3f003bf5aeab929edab5/base/linalg/triangular.jl#L421\" target=\"_blank\">linalg/triangular.jl:421</a></li> <li> +(A::<b>LowerTriangular</b>, B::<b>Base.LinAlg.UnitLowerTriangular</b>) at <a href=\"https://github.com/JuliaLang/julia/tree/0d7248e2ff65bd6886ba3f003bf5aeab929edab5/base/linalg/triangular.jl#L422\" target=\"_blank\">linalg/triangular.jl:422</a></li> <li> +(A::<b>Base.LinAlg.UnitUpperTriangular</b>, B::<b>UpperTriangular</b>) at <a href=\"https://github.com/JuliaLang/julia/tree/0d7248e2ff65bd6886ba3f003bf5aeab929edab5/base/linalg/triangular.jl#L423\" target=\"_blank\">linalg/triangular.jl:423</a></li> <li> +(A::<b>Base.LinAlg.UnitLowerTriangular</b>, B::<b>LowerTriangular</b>) at <a href=\"https://github.com/JuliaLang/julia/tree/0d7248e2ff65bd6886ba3f003bf5aeab929edab5/base/linalg/triangular.jl#L424\" target=\"_blank\">linalg/triangular.jl:424</a></li> <li> +(A::<b>Base.LinAlg.UnitUpperTriangular</b>, B::<b>Base.LinAlg.UnitUpperTriangular</b>) at <a href=\"https://github.com/JuliaLang/julia/tree/0d7248e2ff65bd6886ba3f003bf5aeab929edab5/base/linalg/triangular.jl#L425\" target=\"_blank\">linalg/triangular.jl:425</a></li> <li> +(A::<b>Base.LinAlg.UnitLowerTriangular</b>, B::<b>Base.LinAlg.UnitLowerTriangular</b>) at <a href=\"https://github.com/JuliaLang/julia/tree/0d7248e2ff65bd6886ba3f003bf5aeab929edab5/base/linalg/triangular.jl#L426\" target=\"_blank\">linalg/triangular.jl:426</a></li> <li> +(A::<b>Base.LinAlg.AbstractTriangular</b>, B::<b>Base.LinAlg.AbstractTriangular</b>) at <a href=\"https://github.com/JuliaLang/julia/tree/0d7248e2ff65bd6886ba3f003bf5aeab929edab5/base/linalg/triangular.jl#L427\" target=\"_blank\">linalg/triangular.jl:427</a></li> <li> +(A::<b>Symmetric</b>, x::<b>Bool</b>) at <a href=\"https://github.com/JuliaLang/julia/tree/0d7248e2ff65bd6886ba3f003bf5aeab929edab5/base/linalg/symmetric.jl#L274\" target=\"_blank\">linalg/symmetric.jl:274</a></li> <li> +(A::<b>Symmetric</b>, x::<b>Number</b>) at <a href=\"https://github.com/JuliaLang/julia/tree/0d7248e2ff65bd6886ba3f003bf5aeab929edab5/base/linalg/symmetric.jl#L276\" target=\"_blank\">linalg/symmetric.jl:276</a></li> <li> +(A::<b>Hermitian</b>, x::<b>Bool</b>) at <a href=\"https://github.com/JuliaLang/julia/tree/0d7248e2ff65bd6886ba3f003bf5aeab929edab5/base/linalg/symmetric.jl#L274\" target=\"_blank\">linalg/symmetric.jl:274</a></li> <li> +(A::<b>Hermitian</b>, x::<b>Real</b>) at <a href=\"https://github.com/JuliaLang/julia/tree/0d7248e2ff65bd6886ba3f003bf5aeab929edab5/base/linalg/symmetric.jl#L276\" target=\"_blank\">linalg/symmetric.jl:276</a></li> <li> +(Da::<b>Diagonal</b>, Db::<b>Diagonal</b>) at <a href=\"https://github.com/JuliaLang/julia/tree/0d7248e2ff65bd6886ba3f003bf5aeab929edab5/base/linalg/diagonal.jl#L140\" target=\"_blank\">linalg/diagonal.jl:140</a></li> <li> +(A::<b>Bidiagonal</b>, B::<b>Bidiagonal</b>) at <a href=\"https://github.com/JuliaLang/julia/tree/0d7248e2ff65bd6886ba3f003bf5aeab929edab5/base/linalg/bidiag.jl#L330\" target=\"_blank\">linalg/bidiag.jl:330</a></li> <li> +(UL::<b>UpperTriangular</b>, J::<b>UniformScaling</b>) at <a href=\"https://github.com/JuliaLang/julia/tree/0d7248e2ff65bd6886ba3f003bf5aeab929edab5/base/linalg/uniformscaling.jl#L72\" target=\"_blank\">linalg/uniformscaling.jl:72</a></li> <li> +(UL::<b>Base.LinAlg.UnitUpperTriangular</b>, J::<b>UniformScaling</b>) at <a href=\"https://github.com/JuliaLang/julia/tree/0d7248e2ff65bd6886ba3f003bf5aeab929edab5/base/linalg/uniformscaling.jl#L75\" target=\"_blank\">linalg/uniformscaling.jl:75</a></li> <li> +(UL::<b>LowerTriangular</b>, J::<b>UniformScaling</b>) at <a href=\"https://github.com/JuliaLang/julia/tree/0d7248e2ff65bd6886ba3f003bf5aeab929edab5/base/linalg/uniformscaling.jl#L72\" target=\"_blank\">linalg/uniformscaling.jl:72</a></li> <li> +(UL::<b>Base.LinAlg.UnitLowerTriangular</b>, J::<b>UniformScaling</b>) at <a href=\"https://github.com/JuliaLang/julia/tree/0d7248e2ff65bd6886ba3f003bf5aeab929edab5/base/linalg/uniformscaling.jl#L75\" target=\"_blank\">linalg/uniformscaling.jl:75</a></li> <li> +(A::<b>Array</b>, B::<b>SparseMatrixCSC</b>) at <a href=\"https://github.com/JuliaLang/julia/tree/0d7248e2ff65bd6886ba3f003bf5aeab929edab5/base/sparse/sparsematrix.jl#L1541\" target=\"_blank\">sparse/sparsematrix.jl:1541</a></li> <li> +(x::<b>Union{Base.ReshapedArray{T,1,A,MI} where MI<:Tuple{Vararg{Base.MultiplicativeInverses.SignedMultiplicativeInverse{Int64},N} where N} where A<:Union{DenseArray, SubArray{T,N,P,I,true} where I<:Tuple{Union{Base.Slice, UnitRange},Vararg{Any,N} where N} where P where N where T}, DenseArray{T,1}, SubArray{T,1,A,I,L} where L} where I<:Tuple{Vararg{Union{Base.AbstractCartesianIndex, Int64, Range{Int64}},N} where N} where A<:Union{Base.ReshapedArray{T,N,A,MI} where MI<:Tuple{Vararg{Base.MultiplicativeInverses.SignedMultiplicativeInverse{Int64},N} where N} where A<:Union{DenseArray, SubArray{T,N,P,I,true} where I<:Tuple{Union{Base.Slice, UnitRange},Vararg{Any,N} where N} where P where N where T} where N where T, DenseArray} where T</b>, y::<b>AbstractSparseArray{Tv,Ti,1} where Ti where Tv</b>) at <a href=\"https://github.com/JuliaLang/julia/tree/0d7248e2ff65bd6886ba3f003bf5aeab929edab5/base/sparse/sparsevector.jl#L1340\" target=\"_blank\">sparse/sparsevector.jl:1340</a></li> <li> +(x::<b>Union{Base.ReshapedArray{#s268,N,A,MI} where MI<:Tuple{Vararg{Base.MultiplicativeInverses.SignedMultiplicativeInverse{Int64},N} where N} where A<:Union{DenseArray, SubArray{T,N,P,I,true} where I<:Tuple{Union{Base.Slice, UnitRange},Vararg{Any,N} where N} where P where N where T}, DenseArray{#s268,N}, SubArray{#s268,N,A,I,L} where L} where I<:Tuple{Vararg{Union{Base.AbstractCartesianIndex, Int64, Range{Int64}},N} where N} where A<:Union{Base.ReshapedArray{T,N,A,MI} where MI<:Tuple{Vararg{Base.MultiplicativeInverses.SignedMultiplicativeInverse{Int64},N} where N} where A<:Union{DenseArray, SubArray{T,N,P,I,true} where I<:Tuple{Union{Base.Slice, UnitRange},Vararg{Any,N} where N} where P where N where T} where N where T, DenseArray} where N where #s268<:Union{Base.Dates.CompoundPeriod, Base.Dates.Period}</b>) at <a href=\"https://github.com/JuliaLang/julia/tree/0d7248e2ff65bd6886ba3f003bf5aeab929edab5/base/dates/periods.jl#L358\" target=\"_blank\">dates/periods.jl:358</a></li> <li> +(A::<b>SparseMatrixCSC</b>, J::<b>UniformScaling</b>) at <a href=\"https://github.com/JuliaLang/julia/tree/0d7248e2ff65bd6886ba3f003bf5aeab929edab5/base/sparse/sparsematrix.jl#L3608\" target=\"_blank\">sparse/sparsematrix.jl:3608</a></li> <li> +<i>{TA, TJ}</i>(A::<b>AbstractArray{TA,2}</b>, J::<b>UniformScaling{TJ}</b>) at <a href=\"https://github.com/JuliaLang/julia/tree/0d7248e2ff65bd6886ba3f003bf5aeab929edab5/base/linalg/uniformscaling.jl#L119\" target=\"_blank\">linalg/uniformscaling.jl:119</a></li> <li> +(A::<b>Diagonal</b>, B::<b>Bidiagonal</b>) at <a href=\"https://github.com/JuliaLang/julia/tree/0d7248e2ff65bd6886ba3f003bf5aeab929edab5/base/linalg/special.jl#L113\" target=\"_blank\">linalg/special.jl:113</a></li> <li> +(A::<b>Bidiagonal</b>, B::<b>Diagonal</b>) at <a href=\"https://github.com/JuliaLang/julia/tree/0d7248e2ff65bd6886ba3f003bf5aeab929edab5/base/linalg/special.jl#L114\" target=\"_blank\">linalg/special.jl:114</a></li> <li> +(A::<b>Diagonal</b>, B::<b>Tridiagonal</b>) at <a href=\"https://github.com/JuliaLang/julia/tree/0d7248e2ff65bd6886ba3f003bf5aeab929edab5/base/linalg/special.jl#L113\" target=\"_blank\">linalg/special.jl:113</a></li> <li> +(A::<b>Tridiagonal</b>, B::<b>Diagonal</b>) at <a href=\"https://github.com/JuliaLang/julia/tree/0d7248e2ff65bd6886ba3f003bf5aeab929edab5/base/linalg/special.jl#L114\" target=\"_blank\">linalg/special.jl:114</a></li> <li> +(A::<b>Diagonal</b>, B::<b>Array{T,2} where T</b>) at <a href=\"https://github.com/JuliaLang/julia/tree/0d7248e2ff65bd6886ba3f003bf5aeab929edab5/base/linalg/special.jl#L113\" target=\"_blank\">linalg/special.jl:113</a></li> <li> +(A::<b>Array{T,2} where T</b>, B::<b>Diagonal</b>) at <a href=\"https://github.com/JuliaLang/julia/tree/0d7248e2ff65bd6886ba3f003bf5aeab929edab5/base/linalg/special.jl#L114\" target=\"_blank\">linalg/special.jl:114</a></li> <li> +(A::<b>Bidiagonal</b>, B::<b>Tridiagonal</b>) at <a href=\"https://github.com/JuliaLang/julia/tree/0d7248e2ff65bd6886ba3f003bf5aeab929edab5/base/linalg/special.jl#L113\" target=\"_blank\">linalg/special.jl:113</a></li> <li> +(A::<b>Tridiagonal</b>, B::<b>Bidiagonal</b>) at <a href=\"https://github.com/JuliaLang/julia/tree/0d7248e2ff65bd6886ba3f003bf5aeab929edab5/base/linalg/special.jl#L114\" target=\"_blank\">linalg/special.jl:114</a></li> <li> +(A::<b>Bidiagonal</b>, B::<b>Array{T,2} where T</b>) at <a href=\"https://github.com/JuliaLang/julia/tree/0d7248e2ff65bd6886ba3f003bf5aeab929edab5/base/linalg/special.jl#L113\" target=\"_blank\">linalg/special.jl:113</a></li> <li> +(A::<b>Array{T,2} where T</b>, B::<b>Bidiagonal</b>) at <a href=\"https://github.com/JuliaLang/julia/tree/0d7248e2ff65bd6886ba3f003bf5aeab929edab5/base/linalg/special.jl#L114\" target=\"_blank\">linalg/special.jl:114</a></li> <li> +(A::<b>Tridiagonal</b>, B::<b>Array{T,2} where T</b>) at <a href=\"https://github.com/JuliaLang/julia/tree/0d7248e2ff65bd6886ba3f003bf5aeab929edab5/base/linalg/special.jl#L113\" target=\"_blank\">linalg/special.jl:113</a></li> <li> +(A::<b>Array{T,2} where T</b>, B::<b>Tridiagonal</b>) at <a href=\"https://github.com/JuliaLang/julia/tree/0d7248e2ff65bd6886ba3f003bf5aeab929edab5/base/linalg/special.jl#L114\" target=\"_blank\">linalg/special.jl:114</a></li> <li> +(A::<b>SymTridiagonal</b>, B::<b>Tridiagonal</b>) at <a href=\"https://github.com/JuliaLang/julia/tree/0d7248e2ff65bd6886ba3f003bf5aeab929edab5/base/linalg/special.jl#L122\" target=\"_blank\">linalg/special.jl:122</a></li> <li> +(A::<b>Tridiagonal</b>, B::<b>SymTridiagonal</b>) at <a href=\"https://github.com/JuliaLang/julia/tree/0d7248e2ff65bd6886ba3f003bf5aeab929edab5/base/linalg/special.jl#L123\" target=\"_blank\">linalg/special.jl:123</a></li> <li> +(A::<b>SymTridiagonal</b>, B::<b>Array{T,2} where T</b>) at <a href=\"https://github.com/JuliaLang/julia/tree/0d7248e2ff65bd6886ba3f003bf5aeab929edab5/base/linalg/special.jl#L122\" target=\"_blank\">linalg/special.jl:122</a></li> <li> +(A::<b>Array{T,2} where T</b>, B::<b>SymTridiagonal</b>) at <a href=\"https://github.com/JuliaLang/julia/tree/0d7248e2ff65bd6886ba3f003bf5aeab929edab5/base/linalg/special.jl#L123\" target=\"_blank\">linalg/special.jl:123</a></li> <li> +(A::<b>Diagonal</b>, B::<b>SymTridiagonal</b>) at <a href=\"https://github.com/JuliaLang/julia/tree/0d7248e2ff65bd6886ba3f003bf5aeab929edab5/base/linalg/special.jl#L131\" target=\"_blank\">linalg/special.jl:131</a></li> <li> +(A::<b>SymTridiagonal</b>, B::<b>Diagonal</b>) at <a href=\"https://github.com/JuliaLang/julia/tree/0d7248e2ff65bd6886ba3f003bf5aeab929edab5/base/linalg/special.jl#L132\" target=\"_blank\">linalg/special.jl:132</a></li> <li> +(A::<b>Bidiagonal</b>, B::<b>SymTridiagonal</b>) at <a href=\"https://github.com/JuliaLang/julia/tree/0d7248e2ff65bd6886ba3f003bf5aeab929edab5/base/linalg/special.jl#L131\" target=\"_blank\">linalg/special.jl:131</a></li> <li> +(A::<b>SymTridiagonal</b>, B::<b>Bidiagonal</b>) at <a href=\"https://github.com/JuliaLang/julia/tree/0d7248e2ff65bd6886ba3f003bf5aeab929edab5/base/linalg/special.jl#L132\" target=\"_blank\">linalg/special.jl:132</a></li> <li> +(A::<b>Diagonal</b>, B::<b>UpperTriangular</b>) at <a href=\"https://github.com/JuliaLang/julia/tree/0d7248e2ff65bd6886ba3f003bf5aeab929edab5/base/linalg/special.jl#L143\" target=\"_blank\">linalg/special.jl:143</a></li> <li> +(A::<b>UpperTriangular</b>, B::<b>Diagonal</b>) at <a href=\"https://github.com/JuliaLang/julia/tree/0d7248e2ff65bd6886ba3f003bf5aeab929edab5/base/linalg/special.jl#L144\" target=\"_blank\">linalg/special.jl:144</a></li> <li> +(A::<b>Diagonal</b>, B::<b>Base.LinAlg.UnitUpperTriangular</b>) at <a href=\"https://github.com/JuliaLang/julia/tree/0d7248e2ff65bd6886ba3f003bf5aeab929edab5/base/linalg/special.jl#L143\" target=\"_blank\">linalg/special.jl:143</a></li> <li> +(A::<b>Base.LinAlg.UnitUpperTriangular</b>, B::<b>Diagonal</b>) at <a href=\"https://github.com/JuliaLang/julia/tree/0d7248e2ff65bd6886ba3f003bf5aeab929edab5/base/linalg/special.jl#L144\" target=\"_blank\">linalg/special.jl:144</a></li> <li> +(A::<b>Diagonal</b>, B::<b>LowerTriangular</b>) at <a href=\"https://github.com/JuliaLang/julia/tree/0d7248e2ff65bd6886ba3f003bf5aeab929edab5/base/linalg/special.jl#L143\" target=\"_blank\">linalg/special.jl:143</a></li> <li> +(A::<b>LowerTriangular</b>, B::<b>Diagonal</b>) at <a href=\"https://github.com/JuliaLang/julia/tree/0d7248e2ff65bd6886ba3f003bf5aeab929edab5/base/linalg/special.jl#L144\" target=\"_blank\">linalg/special.jl:144</a></li> <li> +(A::<b>Diagonal</b>, B::<b>Base.LinAlg.UnitLowerTriangular</b>) at <a href=\"https://github.com/JuliaLang/julia/tree/0d7248e2ff65bd6886ba3f003bf5aeab929edab5/base/linalg/special.jl#L143\" target=\"_blank\">linalg/special.jl:143</a></li> <li> +(A::<b>Base.LinAlg.UnitLowerTriangular</b>, B::<b>Diagonal</b>) at <a href=\"https://github.com/JuliaLang/julia/tree/0d7248e2ff65bd6886ba3f003bf5aeab929edab5/base/linalg/special.jl#L144\" target=\"_blank\">linalg/special.jl:144</a></li> <li> +(A::<b>Base.LinAlg.AbstractTriangular</b>, B::<b>SymTridiagonal</b>) at <a href=\"https://github.com/JuliaLang/julia/tree/0d7248e2ff65bd6886ba3f003bf5aeab929edab5/base/linalg/special.jl#L150\" target=\"_blank\">linalg/special.jl:150</a></li> <li> +(A::<b>SymTridiagonal</b>, B::<b>Base.LinAlg.AbstractTriangular</b>) at <a href=\"https://github.com/JuliaLang/julia/tree/0d7248e2ff65bd6886ba3f003bf5aeab929edab5/base/linalg/special.jl#L151\" target=\"_blank\">linalg/special.jl:151</a></li> <li> +(A::<b>Base.LinAlg.AbstractTriangular</b>, B::<b>Tridiagonal</b>) at <a href=\"https://github.com/JuliaLang/julia/tree/0d7248e2ff65bd6886ba3f003bf5aeab929edab5/base/linalg/special.jl#L150\" target=\"_blank\">linalg/special.jl:150</a></li> <li> +(A::<b>Tridiagonal</b>, B::<b>Base.LinAlg.AbstractTriangular</b>) at <a href=\"https://github.com/JuliaLang/julia/tree/0d7248e2ff65bd6886ba3f003bf5aeab929edab5/base/linalg/special.jl#L151\" target=\"_blank\">linalg/special.jl:151</a></li> <li> +(A::<b>Base.LinAlg.AbstractTriangular</b>, B::<b>Bidiagonal</b>) at <a href=\"https://github.com/JuliaLang/julia/tree/0d7248e2ff65bd6886ba3f003bf5aeab929edab5/base/linalg/special.jl#L150\" target=\"_blank\">linalg/special.jl:150</a></li> <li> +(A::<b>Bidiagonal</b>, B::<b>Base.LinAlg.AbstractTriangular</b>) at <a href=\"https://github.com/JuliaLang/julia/tree/0d7248e2ff65bd6886ba3f003bf5aeab929edab5/base/linalg/special.jl#L151\" target=\"_blank\">linalg/special.jl:151</a></li> <li> +(A::<b>Base.LinAlg.AbstractTriangular</b>, B::<b>Array{T,2} where T</b>) at <a href=\"https://github.com/JuliaLang/julia/tree/0d7248e2ff65bd6886ba3f003bf5aeab929edab5/base/linalg/special.jl#L150\" target=\"_blank\">linalg/special.jl:150</a></li> <li> +(A::<b>Array{T,2} where T</b>, B::<b>Base.LinAlg.AbstractTriangular</b>) at <a href=\"https://github.com/JuliaLang/julia/tree/0d7248e2ff65bd6886ba3f003bf5aeab929edab5/base/linalg/special.jl#L151\" target=\"_blank\">linalg/special.jl:151</a></li> <li> +(Y::<b>Union{Base.ReshapedArray{#s267,N,A,MI} where MI<:Tuple{Vararg{Base.MultiplicativeInverses.SignedMultiplicativeInverse{Int64},N} where N} where A<:Union{DenseArray, SubArray{T,N,P,I,true} where I<:Tuple{Union{Base.Slice, UnitRange},Vararg{Any,N} where N} where P where N where T}, DenseArray{#s267,N}, SubArray{#s267,N,A,I,L} where L} where I<:Tuple{Vararg{Union{Base.AbstractCartesianIndex, Int64, Range{Int64}},N} where N} where A<:Union{Base.ReshapedArray{T,N,A,MI} where MI<:Tuple{Vararg{Base.MultiplicativeInverses.SignedMultiplicativeInverse{Int64},N} where N} where A<:Union{DenseArray, SubArray{T,N,P,I,true} where I<:Tuple{Union{Base.Slice, UnitRange},Vararg{Any,N} where N} where P where N where T} where N where T, DenseArray} where N where #s267<:Union{Base.Dates.CompoundPeriod, Base.Dates.Period}</b>, x::<b>Union{Base.Dates.CompoundPeriod, Base.Dates.Period}</b>) at <a href=\"https://github.com/JuliaLang/julia/tree/0d7248e2ff65bd6886ba3f003bf5aeab929edab5/base/dates/periods.jl#L363\" target=\"_blank\">dates/periods.jl:363</a></li> <li> +(X::<b>Union{Base.ReshapedArray{#s266,N,A,MI} where MI<:Tuple{Vararg{Base.MultiplicativeInverses.SignedMultiplicativeInverse{Int64},N} where N} where A<:Union{DenseArray, SubArray{T,N,P,I,true} where I<:Tuple{Union{Base.Slice, UnitRange},Vararg{Any,N} where N} where P where N where T}, DenseArray{#s266,N}, SubArray{#s266,N,A,I,L} where L} where I<:Tuple{Vararg{Union{Base.AbstractCartesianIndex, Int64, Range{Int64}},N} where N} where A<:Union{Base.ReshapedArray{T,N,A,MI} where MI<:Tuple{Vararg{Base.MultiplicativeInverses.SignedMultiplicativeInverse{Int64},N} where N} where A<:Union{DenseArray, SubArray{T,N,P,I,true} where I<:Tuple{Union{Base.Slice, UnitRange},Vararg{Any,N} where N} where P where N where T} where N where T, DenseArray} where N where #s266<:Union{Base.Dates.CompoundPeriod, Base.Dates.Period}</b>, Y::<b>Union{Base.ReshapedArray{#s265,N,A,MI} where MI<:Tuple{Vararg{Base.MultiplicativeInverses.SignedMultiplicativeInverse{Int64},N} where N} where A<:Union{DenseArray, SubArray{T,N,P,I,true} where I<:Tuple{Union{Base.Slice, UnitRange},Vararg{Any,N} where N} where P where N where T}, DenseArray{#s265,N}, SubArray{#s265,N,A,I,L} where L} where I<:Tuple{Vararg{Union{Base.AbstractCartesianIndex, Int64, Range{Int64}},N} where N} where A<:Union{Base.ReshapedArray{T,N,A,MI} where MI<:Tuple{Vararg{Base.MultiplicativeInverses.SignedMultiplicativeInverse{Int64},N} where N} where A<:Union{DenseArray, SubArray{T,N,P,I,true} where I<:Tuple{Union{Base.Slice, UnitRange},Vararg{Any,N} where N} where P where N where T} where N where T, DenseArray} where N where #s265<:Union{Base.Dates.CompoundPeriod, Base.Dates.Period}</b>) at <a href=\"https://github.com/JuliaLang/julia/tree/0d7248e2ff65bd6886ba3f003bf5aeab929edab5/base/dates/periods.jl#L364\" target=\"_blank\">dates/periods.jl:364</a></li> <li> +(x::<b>Union{Base.ReshapedArray{#s268,N,A,MI} where MI<:Tuple{Vararg{Base.MultiplicativeInverses.SignedMultiplicativeInverse{Int64},N} where N} where A<:Union{DenseArray, SubArray{T,N,P,I,true} where I<:Tuple{Union{Base.Slice, UnitRange},Vararg{Any,N} where N} where P where N where T}, DenseArray{#s268,N}, SubArray{#s268,N,A,I,L} where L} where I<:Tuple{Vararg{Union{Base.AbstractCartesianIndex, Int64, Range{Int64}},N} where N} where A<:Union{Base.ReshapedArray{T,N,A,MI} where MI<:Tuple{Vararg{Base.MultiplicativeInverses.SignedMultiplicativeInverse{Int64},N} where N} where A<:Union{DenseArray, SubArray{T,N,P,I,true} where I<:Tuple{Union{Base.Slice, UnitRange},Vararg{Any,N} where N} where P where N where T} where N where T, DenseArray} where N where #s268<:Union{Base.Dates.CompoundPeriod, Base.Dates.Period}</b>, y::<b>Base.Dates.TimeType</b>) at <a href=\"https://github.com/JuliaLang/julia/tree/0d7248e2ff65bd6886ba3f003bf5aeab929edab5/base/dates/arithmetic.jl#L86\" target=\"_blank\">dates/arithmetic.jl:86</a></li> <li> +(r::<b>Range{#s268} where #s268<:Base.Dates.TimeType</b>, x::<b>Base.Dates.Period</b>) at <a href=\"https://github.com/JuliaLang/julia/tree/0d7248e2ff65bd6886ba3f003bf5aeab929edab5/base/dates/ranges.jl#L47\" target=\"_blank\">dates/ranges.jl:47</a></li> <li> +(A::<b>SparseMatrixCSC</b>, B::<b>SparseMatrixCSC</b>) at <a href=\"https://github.com/JuliaLang/julia/tree/0d7248e2ff65bd6886ba3f003bf5aeab929edab5/base/sparse/sparsematrix.jl#L1537\" target=\"_blank\">sparse/sparsematrix.jl:1537</a></li> <li> +(A::<b>SparseMatrixCSC</b>, B::<b>Array</b>) at <a href=\"https://github.com/JuliaLang/julia/tree/0d7248e2ff65bd6886ba3f003bf5aeab929edab5/base/sparse/sparsematrix.jl#L1540\" target=\"_blank\">sparse/sparsematrix.jl:1540</a></li> <li> +(x::<b>AbstractSparseArray{Tv,Ti,1} where Ti where Tv</b>, y::<b>AbstractSparseArray{Tv,Ti,1} where Ti where Tv</b>) at <a href=\"https://github.com/JuliaLang/julia/tree/0d7248e2ff65bd6886ba3f003bf5aeab929edab5/base/sparse/sparsevector.jl#L1339\" target=\"_blank\">sparse/sparsevector.jl:1339</a></li> <li> +(x::<b>AbstractSparseArray{Tv,Ti,1} where Ti where Tv</b>, y::<b>Union{Base.ReshapedArray{T,1,A,MI} where MI<:Tuple{Vararg{Base.MultiplicativeInverses.SignedMultiplicativeInverse{Int64},N} where N} where A<:Union{DenseArray, SubArray{T,N,P,I,true} where I<:Tuple{Union{Base.Slice, UnitRange},Vararg{Any,N} where N} where P where N where T}, DenseArray{T,1}, SubArray{T,1,A,I,L} where L} where I<:Tuple{Vararg{Union{Base.AbstractCartesianIndex, Int64, Range{Int64}},N} where N} where A<:Union{Base.ReshapedArray{T,N,A,MI} where MI<:Tuple{Vararg{Base.MultiplicativeInverses.SignedMultiplicativeInverse{Int64},N} where N} where A<:Union{DenseArray, SubArray{T,N,P,I,true} where I<:Tuple{Union{Base.Slice, UnitRange},Vararg{Any,N} where N} where P where N where T} where N where T, DenseArray} where T</b>) at <a href=\"https://github.com/JuliaLang/julia/tree/0d7248e2ff65bd6886ba3f003bf5aeab929edab5/base/sparse/sparsevector.jl#L1341\" target=\"_blank\">sparse/sparsevector.jl:1341</a></li> <li> +(x::<b>AbstractArray{#s45,N} where N where #s45<:Number</b>) at <a href=\"https://github.com/JuliaLang/julia/tree/0d7248e2ff65bd6886ba3f003bf5aeab929edab5/base/abstractarraymath.jl#L95\" target=\"_blank\">abstractarraymath.jl:95</a></li> <li> +(A::<b>AbstractArray</b>, B::<b>AbstractArray</b>) at <a href=\"https://github.com/JuliaLang/julia/tree/0d7248e2ff65bd6886ba3f003bf5aeab929edab5/base/arraymath.jl#L38\" target=\"_blank\">arraymath.jl:38</a></li> <li> +(A::<b>Number</b>, B::<b>AbstractArray</b>) at <a href=\"https://github.com/JuliaLang/julia/tree/0d7248e2ff65bd6886ba3f003bf5aeab929edab5/base/arraymath.jl#L45\" target=\"_blank\">arraymath.jl:45</a></li> <li> +(A::<b>AbstractArray</b>, B::<b>Number</b>) at <a href=\"https://github.com/JuliaLang/julia/tree/0d7248e2ff65bd6886ba3f003bf5aeab929edab5/base/arraymath.jl#L48\" target=\"_blank\">arraymath.jl:48</a></li> <li> +<i>{N}</i>(index1::<b>CartesianIndex{N}</b>, index2::<b>CartesianIndex{N}</b>) at <a href=\"https://github.com/JuliaLang/julia/tree/0d7248e2ff65bd6886ba3f003bf5aeab929edab5/base/multidimensional.jl#L101\" target=\"_blank\">multidimensional.jl:101</a></li> <li> +<i>{N}</i>(index::<b>CartesianIndex{N}</b>, i::<b>Integer</b>) at <a href=\"https://github.com/JuliaLang/julia/tree/0d7248e2ff65bd6886ba3f003bf5aeab929edab5/base/multidimensional.jl#L111\" target=\"_blank\">multidimensional.jl:111</a></li> <li> +(J1::<b>UniformScaling</b>, J2::<b>UniformScaling</b>) at <a href=\"https://github.com/JuliaLang/julia/tree/0d7248e2ff65bd6886ba3f003bf5aeab929edab5/base/linalg/uniformscaling.jl#L58\" target=\"_blank\">linalg/uniformscaling.jl:58</a></li> <li> +(J::<b>UniformScaling</b>, B::<b>BitArray{2}</b>) at <a href=\"https://github.com/JuliaLang/julia/tree/0d7248e2ff65bd6886ba3f003bf5aeab929edab5/base/linalg/uniformscaling.jl#L60\" target=\"_blank\">linalg/uniformscaling.jl:60</a></li> <li> +(J::<b>UniformScaling</b>, A::<b>AbstractArray{T,2} where T</b>) at <a href=\"https://github.com/JuliaLang/julia/tree/0d7248e2ff65bd6886ba3f003bf5aeab929edab5/base/linalg/uniformscaling.jl#L61\" target=\"_blank\">linalg/uniformscaling.jl:61</a></li> <li> +<i>{T}</i>(a::<b>Base.Pkg.Resolve.VersionWeights.HierarchicalValue{T}</b>, b::<b>Base.Pkg.Resolve.VersionWeights.HierarchicalValue{T}</b>) at <a href=\"https://github.com/JuliaLang/julia/tree/0d7248e2ff65bd6886ba3f003bf5aeab929edab5/base/pkg/resolve/versionweight.jl#L23\" target=\"_blank\">pkg/resolve/versionweight.jl:23</a></li> <li> +<i>{P<:Base.Dates.Period}</i>(x::<b>P</b>, y::<b>P</b>) at <a href=\"https://github.com/JuliaLang/julia/tree/0d7248e2ff65bd6886ba3f003bf5aeab929edab5/base/dates/periods.jl#L70\" target=\"_blank\">dates/periods.jl:70</a></li> <li> +(x::<b>Base.Dates.Period</b>, y::<b>Base.Dates.Period</b>) at <a href=\"https://github.com/JuliaLang/julia/tree/0d7248e2ff65bd6886ba3f003bf5aeab929edab5/base/dates/periods.jl#L346\" target=\"_blank\">dates/periods.jl:346</a></li> <li> +(y::<b>Base.Dates.Period</b>, x::<b>Base.Dates.CompoundPeriod</b>) at <a href=\"https://github.com/JuliaLang/julia/tree/0d7248e2ff65bd6886ba3f003bf5aeab929edab5/base/dates/periods.jl#L348\" target=\"_blank\">dates/periods.jl:348</a></li> <li> +(x::<b>Union{Base.Dates.CompoundPeriod, Base.Dates.Period}</b>) at <a href=\"https://github.com/JuliaLang/julia/tree/0d7248e2ff65bd6886ba3f003bf5aeab929edab5/base/dates/periods.jl#L357\" target=\"_blank\">dates/periods.jl:357</a></li> <li> +(x::<b>Union{Base.Dates.CompoundPeriod, Base.Dates.Period}</b>, Y::<b>Union{Base.ReshapedArray{#s268,N,A,MI} where MI<:Tuple{Vararg{Base.MultiplicativeInverses.SignedMultiplicativeInverse{Int64},N} where N} where A<:Union{DenseArray, SubArray{T,N,P,I,true} where I<:Tuple{Union{Base.Slice, UnitRange},Vararg{Any,N} where N} where P where N where T}, DenseArray{#s268,N}, SubArray{#s268,N,A,I,L} where L} where I<:Tuple{Vararg{Union{Base.AbstractCartesianIndex, Int64, Range{Int64}},N} where N} where A<:Union{Base.ReshapedArray{T,N,A,MI} where MI<:Tuple{Vararg{Base.MultiplicativeInverses.SignedMultiplicativeInverse{Int64},N} where N} where A<:Union{DenseArray, SubArray{T,N,P,I,true} where I<:Tuple{Union{Base.Slice, UnitRange},Vararg{Any,N} where N} where P where N where T} where N where T, DenseArray} where N where #s268<:Union{Base.Dates.CompoundPeriod, Base.Dates.Period}</b>) at <a href=\"https://github.com/JuliaLang/julia/tree/0d7248e2ff65bd6886ba3f003bf5aeab929edab5/base/dates/periods.jl#L362\" target=\"_blank\">dates/periods.jl:362</a></li> <li> +(x::<b>Base.Dates.TimeType</b>) at <a href=\"https://github.com/JuliaLang/julia/tree/0d7248e2ff65bd6886ba3f003bf5aeab929edab5/base/dates/arithmetic.jl#L8\" target=\"_blank\">dates/arithmetic.jl:8</a></li> <li> +(a::<b>Base.Dates.TimeType</b>, b::<b>Base.Dates.Period</b>, c::<b>Base.Dates.Period</b>) at <a href=\"https://github.com/JuliaLang/julia/tree/0d7248e2ff65bd6886ba3f003bf5aeab929edab5/base/dates/periods.jl#L378\" target=\"_blank\">dates/periods.jl:378</a></li> <li> +(a::<b>Base.Dates.TimeType</b>, b::<b>Base.Dates.Period</b>, c::<b>Base.Dates.Period</b>, d::<b>Base.Dates.Period...</b>) at <a href=\"https://github.com/JuliaLang/julia/tree/0d7248e2ff65bd6886ba3f003bf5aeab929edab5/base/dates/periods.jl#L379\" target=\"_blank\">dates/periods.jl:379</a></li> <li> +(x::<b>Base.Dates.TimeType</b>, y::<b>Base.Dates.CompoundPeriod</b>) at <a href=\"https://github.com/JuliaLang/julia/tree/0d7248e2ff65bd6886ba3f003bf5aeab929edab5/base/dates/periods.jl#L382\" target=\"_blank\">dates/periods.jl:382</a></li> <li> +(x::<b>Base.Dates.Instant</b>) at <a href=\"https://github.com/JuliaLang/julia/tree/0d7248e2ff65bd6886ba3f003bf5aeab929edab5/base/dates/arithmetic.jl#L4\" target=\"_blank\">dates/arithmetic.jl:4</a></li> <li> +(y::<b>Base.Dates.Period</b>, x::<b>Base.Dates.TimeType</b>) at <a href=\"https://github.com/JuliaLang/julia/tree/0d7248e2ff65bd6886ba3f003bf5aeab929edab5/base/dates/arithmetic.jl#L83\" target=\"_blank\">dates/arithmetic.jl:83</a></li> <li> +(x::<b>AbstractArray{#s268,N} where N where #s268<:Base.Dates.TimeType</b>, y::<b>Union{Base.Dates.CompoundPeriod, Base.Dates.Period}</b>) at <a href=\"https://github.com/JuliaLang/julia/tree/0d7248e2ff65bd6886ba3f003bf5aeab929edab5/base/dates/arithmetic.jl#L85\" target=\"_blank\">dates/arithmetic.jl:85</a></li> <li> +(x::<b>Base.Dates.Period</b>, r::<b>Range{#s268} where #s268<:Base.Dates.TimeType</b>) at <a href=\"https://github.com/JuliaLang/julia/tree/0d7248e2ff65bd6886ba3f003bf5aeab929edab5/base/dates/ranges.jl#L46\" target=\"_blank\">dates/ranges.jl:46</a></li> <li> +(y::<b>Union{Base.Dates.CompoundPeriod, Base.Dates.Period}</b>, x::<b>AbstractArray{#s268,N} where N where #s268<:Base.Dates.TimeType</b>) at <a href=\"https://github.com/JuliaLang/julia/tree/0d7248e2ff65bd6886ba3f003bf5aeab929edab5/base/dates/arithmetic.jl#L87\" target=\"_blank\">dates/arithmetic.jl:87</a></li> <li> +(y::<b>Base.Dates.TimeType</b>, x::<b>Union{Base.ReshapedArray{#s268,N,A,MI} where MI<:Tuple{Vararg{Base.MultiplicativeInverses.SignedMultiplicativeInverse{Int64},N} where N} where A<:Union{DenseArray, SubArray{T,N,P,I,true} where I<:Tuple{Union{Base.Slice, UnitRange},Vararg{Any,N} where N} where P where N where T}, DenseArray{#s268,N}, SubArray{#s268,N,A,I,L} where L} where I<:Tuple{Vararg{Union{Base.AbstractCartesianIndex, Int64, Range{Int64}},N} where N} where A<:Union{Base.ReshapedArray{T,N,A,MI} where MI<:Tuple{Vararg{Base.MultiplicativeInverses.SignedMultiplicativeInverse{Int64},N} where N} where A<:Union{DenseArray, SubArray{T,N,P,I,true} where I<:Tuple{Union{Base.Slice, UnitRange},Vararg{Any,N} where N} where P where N where T} where N where T, DenseArray} where N where #s268<:Union{Base.Dates.CompoundPeriod, Base.Dates.Period}</b>) at <a href=\"https://github.com/JuliaLang/julia/tree/0d7248e2ff65bd6886ba3f003bf5aeab929edab5/base/dates/arithmetic.jl#L88\" target=\"_blank\">dates/arithmetic.jl:88</a></li> <li> +(J::<b>UniformScaling</b>, x::<b>Number</b>) at <a href=\"https://github.com/JuliaLang/julia/tree/0d7248e2ff65bd6886ba3f003bf5aeab929edab5/base/deprecated.jl#L56\" target=\"_blank\">deprecated.jl:56</a></li> <li> +(x::<b>Number</b>, J::<b>UniformScaling</b>) at <a href=\"https://github.com/JuliaLang/julia/tree/0d7248e2ff65bd6886ba3f003bf5aeab929edab5/base/deprecated.jl#L56\" target=\"_blank\">deprecated.jl:56</a></li> <li> +(a, b, c, xs...) at <a href=\"https://github.com/JuliaLang/julia/tree/0d7248e2ff65bd6886ba3f003bf5aeab929edab5/base/operators.jl#L424\" target=\"_blank\">operators.jl:424</a></li> </ul>"
      ],
      "text/plain": [
       "# 180 methods for generic function \"+\":\n",
       "+(x::Bool, z::Complex{Bool}) in Base at complex.jl:232\n",
       "+(x::Bool, y::Bool) in Base at bool.jl:89\n",
       "+(x::Bool) in Base at bool.jl:86\n",
       "+(x::Bool, y::T) where T<:AbstractFloat in Base at bool.jl:96\n",
       "+(x::Bool, z::Complex) in Base at complex.jl:239\n",
       "+(a::Float16, b::Float16) in Base at float.jl:372\n",
       "+(x::Float32, y::Float32) in Base at float.jl:374\n",
       "+(x::Float64, y::Float64) in Base at float.jl:375\n",
       "+(z::Complex{Bool}, x::Bool) in Base at complex.jl:233\n",
       "+(z::Complex{Bool}, x::Real) in Base at complex.jl:247\n",
       "+(x::Char, y::Integer) in Base at char.jl:40\n",
       "+(c::BigInt, x::BigFloat) in Base.MPFR at mpfr.jl:312\n",
       "+(a::BigInt, b::BigInt, c::BigInt, d::BigInt, e::BigInt) in Base.GMP at gmp.jl:334\n",
       "+(a::BigInt, b::BigInt, c::BigInt, d::BigInt) in Base.GMP at gmp.jl:327\n",
       "+(a::BigInt, b::BigInt, c::BigInt) in Base.GMP at gmp.jl:321\n",
       "+(x::BigInt, y::BigInt) in Base.GMP at gmp.jl:289\n",
       "+(x::BigInt, c::Union{UInt16, UInt32, UInt64, UInt8}) in Base.GMP at gmp.jl:346\n",
       "+(x::BigInt, c::Union{Int16, Int32, Int64, Int8}) in Base.GMP at gmp.jl:362\n",
       "+(a::BigFloat, b::BigFloat, c::BigFloat, d::BigFloat, e::BigFloat) in Base.MPFR at mpfr.jl:460\n",
       "+(a::BigFloat, b::BigFloat, c::BigFloat, d::BigFloat) in Base.MPFR at mpfr.jl:453\n",
       "+(a::BigFloat, b::BigFloat, c::BigFloat) in Base.MPFR at mpfr.jl:447\n",
       "+(x::BigFloat, c::BigInt) in Base.MPFR at mpfr.jl:308\n",
       "+(x::BigFloat, y::BigFloat) in Base.MPFR at mpfr.jl:277\n",
       "+(x::BigFloat, c::Union{UInt16, UInt32, UInt64, UInt8}) in Base.MPFR at mpfr.jl:284\n",
       "+(x::BigFloat, c::Union{Int16, Int32, Int64, Int8}) in Base.MPFR at mpfr.jl:292\n",
       "+(x::BigFloat, c::Union{Float16, Float32, Float64}) in Base.MPFR at mpfr.jl:300\n",
       "+(B::BitArray{2}, J::UniformScaling) in Base.LinAlg at linalg/uniformscaling.jl:59\n",
       "+(a::Base.Pkg.Resolve.VersionWeights.VWPreBuildItem, b::Base.Pkg.Resolve.VersionWeights.VWPreBuildItem) in Base.Pkg.Resolve.VersionWeights at pkg/resolve/versionweight.jl:87\n",
       "+(a::Base.Pkg.Resolve.VersionWeights.VWPreBuild, b::Base.Pkg.Resolve.VersionWeights.VWPreBuild) in Base.Pkg.Resolve.VersionWeights at pkg/resolve/versionweight.jl:135\n",
       "+(a::Base.Pkg.Resolve.VersionWeights.VersionWeight, b::Base.Pkg.Resolve.VersionWeights.VersionWeight) in Base.Pkg.Resolve.VersionWeights at pkg/resolve/versionweight.jl:197\n",
       "+(a::Base.Pkg.Resolve.MaxSum.FieldValues.FieldValue, b::Base.Pkg.Resolve.MaxSum.FieldValues.FieldValue) in Base.Pkg.Resolve.MaxSum.FieldValues at pkg/resolve/fieldvalue.jl:44\n",
       "+(x::Base.Dates.CompoundPeriod, y::Base.Dates.CompoundPeriod) in Base.Dates at dates/periods.jl:349\n",
       "+(x::Base.Dates.CompoundPeriod, y::Base.Dates.Period) in Base.Dates at dates/periods.jl:347\n",
       "+(x::Base.Dates.CompoundPeriod, y::Base.Dates.TimeType) in Base.Dates at dates/periods.jl:387\n",
       "+(x::Date, y::Base.Dates.Day) in Base.Dates at dates/arithmetic.jl:77\n",
       "+(x::Date, y::Base.Dates.Week) in Base.Dates at dates/arithmetic.jl:75\n",
       "+(dt::Date, z::Base.Dates.Month) in Base.Dates at dates/arithmetic.jl:58\n",
       "+(dt::Date, y::Base.Dates.Year) in Base.Dates at dates/arithmetic.jl:32\n",
       "+(dt::Date, t::Base.Dates.Time) in Base.Dates at dates/arithmetic.jl:20\n",
       "+(t::Base.Dates.Time, dt::Date) in Base.Dates at dates/arithmetic.jl:24\n",
       "+(x::Base.Dates.Time, y::Base.Dates.TimePeriod) in Base.Dates at dates/arithmetic.jl:81\n",
       "+(dt::DateTime, z::Base.Dates.Month) in Base.Dates at dates/arithmetic.jl:52\n",
       "+(dt::DateTime, y::Base.Dates.Year) in Base.Dates at dates/arithmetic.jl:28\n",
       "+(x::DateTime, y::Base.Dates.Period) in Base.Dates at dates/arithmetic.jl:79\n",
       "+(y::AbstractFloat, x::Bool) in Base at bool.jl:98\n",
       "+(x::T, y::T) where T<:Union{Int128, Int16, Int32, Int64, Int8, UInt128, UInt16, UInt32, UInt64, UInt8} in Base at int.jl:32\n",
       "+(x::Integer, y::Ptr) in Base at pointer.jl:128\n",
       "+(z::Complex, w::Complex) in Base at complex.jl:221\n",
       "+(z::Complex, x::Bool) in Base at complex.jl:240\n",
       "+(x::Real, z::Complex{Bool}) in Base at complex.jl:246\n",
       "+(x::Real, z::Complex) in Base at complex.jl:258\n",
       "+(z::Complex, x::Real) in Base at complex.jl:259\n",
       "+(x::Rational, y::Rational) in Base at rational.jl:245\n",
       "+(x::Integer, y::Char) in Base at char.jl:41\n",
       "+(i::Integer, index::CartesianIndex) in Base.IteratorsMD at multidimensional.jl:110\n",
       "+(c::Union{UInt16, UInt32, UInt64, UInt8}, x::BigInt) in Base.GMP at gmp.jl:350\n",
       "+(c::Union{Int16, Int32, Int64, Int8}, x::BigInt) in Base.GMP at gmp.jl:363\n",
       "+(c::Union{UInt16, UInt32, UInt64, UInt8}, x::BigFloat) in Base.MPFR at mpfr.jl:288\n",
       "+(c::Union{Int16, Int32, Int64, Int8}, x::BigFloat) in Base.MPFR at mpfr.jl:296\n",
       "+(c::Union{Float16, Float32, Float64}, x::BigFloat) in Base.MPFR at mpfr.jl:304\n",
       "+(x::Irrational, y::Irrational) in Base at irrationals.jl:109\n",
       "+(x::Real, r::Base.Use_StepRangeLen_Instead) in Base at deprecated.jl:1232\n",
       "+(x::Number) in Base at operators.jl:399\n",
       "+(x::T, y::T) where T<:Number in Base at promotion.jl:335\n",
       "+(x::Number, y::Number) in Base at promotion.jl:249\n",
       "+(x::Real, r::AbstractUnitRange) in Base at range.jl:721\n",
       "+(x::Number, r::AbstractUnitRange) in Base at range.jl:723\n",
       "+(x::Number, r::StepRangeLen) in Base at range.jl:726\n",
       "+(x::Number, r::LinSpace) in Base at range.jl:730\n",
       "+(x::Number, r::Range) in Base at range.jl:724\n",
       "+(r::Range, x::Number) in Base at range.jl:732\n",
       "+(r1::OrdinalRange, r2::OrdinalRange) in Base at range.jl:882\n",
       "+(r1::LinSpace{T}, r2::LinSpace{T}) where T in Base at range.jl:889\n",
       "+(r1::StepRangeLen{T,R,S} where S, r2::StepRangeLen{T,R,S} where S) where {R<:Base.TwicePrecision, T} in Base at twiceprecision.jl:300\n",
       "+(r1::StepRangeLen{T,S,S} where S, r2::StepRangeLen{T,S,S} where S) where {T, S} in Base at range.jl:905\n",
       "+(r1::Union{LinSpace, OrdinalRange, StepRangeLen}, r2::Union{LinSpace, OrdinalRange, StepRangeLen}) in Base at range.jl:897\n",
       "+(x::Base.TwicePrecision, y::Number) in Base at twiceprecision.jl:455\n",
       "+(x::Number, y::Base.TwicePrecision) in Base at twiceprecision.jl:458\n",
       "+(x::Base.TwicePrecision{T}, y::Base.TwicePrecision{T}) where T in Base at twiceprecision.jl:461\n",
       "+(x::Base.TwicePrecision, y::Base.TwicePrecision) in Base at twiceprecision.jl:465\n",
       "+(x::Ptr, y::Integer) in Base at pointer.jl:126\n",
       "+(A::BitArray, B::BitArray) in Base at bitarray.jl:1177\n",
       "+(A::SymTridiagonal, B::SymTridiagonal) in Base.LinAlg at linalg/tridiag.jl:128\n",
       "+(A::Tridiagonal, B::Tridiagonal) in Base.LinAlg at linalg/tridiag.jl:624\n",
       "+(A::UpperTriangular, B::UpperTriangular) in Base.LinAlg at linalg/triangular.jl:419\n",
       "+(A::LowerTriangular, B::LowerTriangular) in Base.LinAlg at linalg/triangular.jl:420\n",
       "+(A::UpperTriangular, B::Base.LinAlg.UnitUpperTriangular) in Base.LinAlg at linalg/triangular.jl:421\n",
       "+(A::LowerTriangular, B::Base.LinAlg.UnitLowerTriangular) in Base.LinAlg at linalg/triangular.jl:422\n",
       "+(A::Base.LinAlg.UnitUpperTriangular, B::UpperTriangular) in Base.LinAlg at linalg/triangular.jl:423\n",
       "+(A::Base.LinAlg.UnitLowerTriangular, B::LowerTriangular) in Base.LinAlg at linalg/triangular.jl:424\n",
       "+(A::Base.LinAlg.UnitUpperTriangular, B::Base.LinAlg.UnitUpperTriangular) in Base.LinAlg at linalg/triangular.jl:425\n",
       "+(A::Base.LinAlg.UnitLowerTriangular, B::Base.LinAlg.UnitLowerTriangular) in Base.LinAlg at linalg/triangular.jl:426\n",
       "+(A::Base.LinAlg.AbstractTriangular, B::Base.LinAlg.AbstractTriangular) in Base.LinAlg at linalg/triangular.jl:427\n",
       "+(A::Symmetric, x::Bool) in Base.LinAlg at linalg/symmetric.jl:274\n",
       "+(A::Symmetric, x::Number) in Base.LinAlg at linalg/symmetric.jl:276\n",
       "+(A::Hermitian, x::Bool) in Base.LinAlg at linalg/symmetric.jl:274\n",
       "+(A::Hermitian, x::Real) in Base.LinAlg at linalg/symmetric.jl:276\n",
       "+(Da::Diagonal, Db::Diagonal) in Base.LinAlg at linalg/diagonal.jl:140\n",
       "+(A::Bidiagonal, B::Bidiagonal) in Base.LinAlg at linalg/bidiag.jl:330\n",
       "+(UL::UpperTriangular, J::UniformScaling) in Base.LinAlg at linalg/uniformscaling.jl:72\n",
       "+(UL::Base.LinAlg.UnitUpperTriangular, J::UniformScaling) in Base.LinAlg at linalg/uniformscaling.jl:75\n",
       "+(UL::LowerTriangular, J::UniformScaling) in Base.LinAlg at linalg/uniformscaling.jl:72\n",
       "+(UL::Base.LinAlg.UnitLowerTriangular, J::UniformScaling) in Base.LinAlg at linalg/uniformscaling.jl:75\n",
       "+(A::Array, B::SparseMatrixCSC) in Base.SparseArrays at sparse/sparsematrix.jl:1541\n",
       "+(x::Union{Base.ReshapedArray{T,1,A,MI} where MI<:Tuple{Vararg{Base.MultiplicativeInverses.SignedMultiplicativeInverse{Int64},N} where N} where A<:Union{DenseArray, SubArray{T,N,P,I,true} where I<:Tuple{Union{Base.Slice, UnitRange},Vararg{Any,N} where N} where P where N where T}, DenseArray{T,1}, SubArray{T,1,A,I,L} where L} where I<:Tuple{Vararg{Union{Base.AbstractCartesianIndex, Int64, Range{Int64}},N} where N} where A<:Union{Base.ReshapedArray{T,N,A,MI} where MI<:Tuple{Vararg{Base.MultiplicativeInverses.SignedMultiplicativeInverse{Int64},N} where N} where A<:Union{DenseArray, SubArray{T,N,P,I,true} where I<:Tuple{Union{Base.Slice, UnitRange},Vararg{Any,N} where N} where P where N where T} where N where T, DenseArray} where T, y::AbstractSparseArray{Tv,Ti,1} where Ti where Tv) in Base.SparseArrays at sparse/sparsevector.jl:1340\n",
       "+(x::Union{Base.ReshapedArray{#s268,N,A,MI} where MI<:Tuple{Vararg{Base.MultiplicativeInverses.SignedMultiplicativeInverse{Int64},N} where N} where A<:Union{DenseArray, SubArray{T,N,P,I,true} where I<:Tuple{Union{Base.Slice, UnitRange},Vararg{Any,N} where N} where P where N where T}, DenseArray{#s268,N}, SubArray{#s268,N,A,I,L} where L} where I<:Tuple{Vararg{Union{Base.AbstractCartesianIndex, Int64, Range{Int64}},N} where N} where A<:Union{Base.ReshapedArray{T,N,A,MI} where MI<:Tuple{Vararg{Base.MultiplicativeInverses.SignedMultiplicativeInverse{Int64},N} where N} where A<:Union{DenseArray, SubArray{T,N,P,I,true} where I<:Tuple{Union{Base.Slice, UnitRange},Vararg{Any,N} where N} where P where N where T} where N where T, DenseArray} where N where #s268<:Union{Base.Dates.CompoundPeriod, Base.Dates.Period}) in Base.Dates at dates/periods.jl:358\n",
       "+(A::SparseMatrixCSC, J::UniformScaling) in Base.SparseArrays at sparse/sparsematrix.jl:3608\n",
       "+(A::AbstractArray{TA,2}, J::UniformScaling{TJ}) where {TA, TJ} in Base.LinAlg at linalg/uniformscaling.jl:119\n",
       "+(A::Diagonal, B::Bidiagonal) in Base.LinAlg at linalg/special.jl:113\n",
       "+(A::Bidiagonal, B::Diagonal) in Base.LinAlg at linalg/special.jl:114\n",
       "+(A::Diagonal, B::Tridiagonal) in Base.LinAlg at linalg/special.jl:113\n",
       "+(A::Tridiagonal, B::Diagonal) in Base.LinAlg at linalg/special.jl:114\n",
       "+(A::Diagonal, B::Array{T,2} where T) in Base.LinAlg at linalg/special.jl:113\n",
       "+(A::Array{T,2} where T, B::Diagonal) in Base.LinAlg at linalg/special.jl:114\n",
       "+(A::Bidiagonal, B::Tridiagonal) in Base.LinAlg at linalg/special.jl:113\n",
       "+(A::Tridiagonal, B::Bidiagonal) in Base.LinAlg at linalg/special.jl:114\n",
       "+(A::Bidiagonal, B::Array{T,2} where T) in Base.LinAlg at linalg/special.jl:113\n",
       "+(A::Array{T,2} where T, B::Bidiagonal) in Base.LinAlg at linalg/special.jl:114\n",
       "+(A::Tridiagonal, B::Array{T,2} where T) in Base.LinAlg at linalg/special.jl:113\n",
       "+(A::Array{T,2} where T, B::Tridiagonal) in Base.LinAlg at linalg/special.jl:114\n",
       "+(A::SymTridiagonal, B::Tridiagonal) in Base.LinAlg at linalg/special.jl:122\n",
       "+(A::Tridiagonal, B::SymTridiagonal) in Base.LinAlg at linalg/special.jl:123\n",
       "+(A::SymTridiagonal, B::Array{T,2} where T) in Base.LinAlg at linalg/special.jl:122\n",
       "+(A::Array{T,2} where T, B::SymTridiagonal) in Base.LinAlg at linalg/special.jl:123\n",
       "+(A::Diagonal, B::SymTridiagonal) in Base.LinAlg at linalg/special.jl:131\n",
       "+(A::SymTridiagonal, B::Diagonal) in Base.LinAlg at linalg/special.jl:132\n",
       "+(A::Bidiagonal, B::SymTridiagonal) in Base.LinAlg at linalg/special.jl:131\n",
       "+(A::SymTridiagonal, B::Bidiagonal) in Base.LinAlg at linalg/special.jl:132\n",
       "+(A::Diagonal, B::UpperTriangular) in Base.LinAlg at linalg/special.jl:143\n",
       "+(A::UpperTriangular, B::Diagonal) in Base.LinAlg at linalg/special.jl:144\n",
       "+(A::Diagonal, B::Base.LinAlg.UnitUpperTriangular) in Base.LinAlg at linalg/special.jl:143\n",
       "+(A::Base.LinAlg.UnitUpperTriangular, B::Diagonal) in Base.LinAlg at linalg/special.jl:144\n",
       "+(A::Diagonal, B::LowerTriangular) in Base.LinAlg at linalg/special.jl:143\n",
       "+(A::LowerTriangular, B::Diagonal) in Base.LinAlg at linalg/special.jl:144\n",
       "+(A::Diagonal, B::Base.LinAlg.UnitLowerTriangular) in Base.LinAlg at linalg/special.jl:143\n",
       "+(A::Base.LinAlg.UnitLowerTriangular, B::Diagonal) in Base.LinAlg at linalg/special.jl:144\n",
       "+(A::Base.LinAlg.AbstractTriangular, B::SymTridiagonal) in Base.LinAlg at linalg/special.jl:150\n",
       "+(A::SymTridiagonal, B::Base.LinAlg.AbstractTriangular) in Base.LinAlg at linalg/special.jl:151\n",
       "+(A::Base.LinAlg.AbstractTriangular, B::Tridiagonal) in Base.LinAlg at linalg/special.jl:150\n",
       "+(A::Tridiagonal, B::Base.LinAlg.AbstractTriangular) in Base.LinAlg at linalg/special.jl:151\n",
       "+(A::Base.LinAlg.AbstractTriangular, B::Bidiagonal) in Base.LinAlg at linalg/special.jl:150\n",
       "+(A::Bidiagonal, B::Base.LinAlg.AbstractTriangular) in Base.LinAlg at linalg/special.jl:151\n",
       "+(A::Base.LinAlg.AbstractTriangular, B::Array{T,2} where T) in Base.LinAlg at linalg/special.jl:150\n",
       "+(A::Array{T,2} where T, B::Base.LinAlg.AbstractTriangular) in Base.LinAlg at linalg/special.jl:151\n",
       "+(Y::Union{Base.ReshapedArray{#s267,N,A,MI} where MI<:Tuple{Vararg{Base.MultiplicativeInverses.SignedMultiplicativeInverse{Int64},N} where N} where A<:Union{DenseArray, SubArray{T,N,P,I,true} where I<:Tuple{Union{Base.Slice, UnitRange},Vararg{Any,N} where N} where P where N where T}, DenseArray{#s267,N}, SubArray{#s267,N,A,I,L} where L} where I<:Tuple{Vararg{Union{Base.AbstractCartesianIndex, Int64, Range{Int64}},N} where N} where A<:Union{Base.ReshapedArray{T,N,A,MI} where MI<:Tuple{Vararg{Base.MultiplicativeInverses.SignedMultiplicativeInverse{Int64},N} where N} where A<:Union{DenseArray, SubArray{T,N,P,I,true} where I<:Tuple{Union{Base.Slice, UnitRange},Vararg{Any,N} where N} where P where N where T} where N where T, DenseArray} where N where #s267<:Union{Base.Dates.CompoundPeriod, Base.Dates.Period}, x::Union{Base.Dates.CompoundPeriod, Base.Dates.Period}) in Base.Dates at dates/periods.jl:363\n",
       "+(X::Union{Base.ReshapedArray{#s266,N,A,MI} where MI<:Tuple{Vararg{Base.MultiplicativeInverses.SignedMultiplicativeInverse{Int64},N} where N} where A<:Union{DenseArray, SubArray{T,N,P,I,true} where I<:Tuple{Union{Base.Slice, UnitRange},Vararg{Any,N} where N} where P where N where T}, DenseArray{#s266,N}, SubArray{#s266,N,A,I,L} where L} where I<:Tuple{Vararg{Union{Base.AbstractCartesianIndex, Int64, Range{Int64}},N} where N} where A<:Union{Base.ReshapedArray{T,N,A,MI} where MI<:Tuple{Vararg{Base.MultiplicativeInverses.SignedMultiplicativeInverse{Int64},N} where N} where A<:Union{DenseArray, SubArray{T,N,P,I,true} where I<:Tuple{Union{Base.Slice, UnitRange},Vararg{Any,N} where N} where P where N where T} where N where T, DenseArray} where N where #s266<:Union{Base.Dates.CompoundPeriod, Base.Dates.Period}, Y::Union{Base.ReshapedArray{#s265,N,A,MI} where MI<:Tuple{Vararg{Base.MultiplicativeInverses.SignedMultiplicativeInverse{Int64},N} where N} where A<:Union{DenseArray, SubArray{T,N,P,I,true} where I<:Tuple{Union{Base.Slice, UnitRange},Vararg{Any,N} where N} where P where N where T}, DenseArray{#s265,N}, SubArray{#s265,N,A,I,L} where L} where I<:Tuple{Vararg{Union{Base.AbstractCartesianIndex, Int64, Range{Int64}},N} where N} where A<:Union{Base.ReshapedArray{T,N,A,MI} where MI<:Tuple{Vararg{Base.MultiplicativeInverses.SignedMultiplicativeInverse{Int64},N} where N} where A<:Union{DenseArray, SubArray{T,N,P,I,true} where I<:Tuple{Union{Base.Slice, UnitRange},Vararg{Any,N} where N} where P where N where T} where N where T, DenseArray} where N where #s265<:Union{Base.Dates.CompoundPeriod, Base.Dates.Period}) in Base.Dates at dates/periods.jl:364\n",
       "+(x::Union{Base.ReshapedArray{#s268,N,A,MI} where MI<:Tuple{Vararg{Base.MultiplicativeInverses.SignedMultiplicativeInverse{Int64},N} where N} where A<:Union{DenseArray, SubArray{T,N,P,I,true} where I<:Tuple{Union{Base.Slice, UnitRange},Vararg{Any,N} where N} where P where N where T}, DenseArray{#s268,N}, SubArray{#s268,N,A,I,L} where L} where I<:Tuple{Vararg{Union{Base.AbstractCartesianIndex, Int64, Range{Int64}},N} where N} where A<:Union{Base.ReshapedArray{T,N,A,MI} where MI<:Tuple{Vararg{Base.MultiplicativeInverses.SignedMultiplicativeInverse{Int64},N} where N} where A<:Union{DenseArray, SubArray{T,N,P,I,true} where I<:Tuple{Union{Base.Slice, UnitRange},Vararg{Any,N} where N} where P where N where T} where N where T, DenseArray} where N where #s268<:Union{Base.Dates.CompoundPeriod, Base.Dates.Period}, y::Base.Dates.TimeType) in Base.Dates at dates/arithmetic.jl:86\n",
       "+(r::Range{#s268} where #s268<:Base.Dates.TimeType, x::Base.Dates.Period) in Base.Dates at dates/ranges.jl:47\n",
       "+(A::SparseMatrixCSC, B::SparseMatrixCSC) in Base.SparseArrays at sparse/sparsematrix.jl:1537\n",
       "+(A::SparseMatrixCSC, B::Array) in Base.SparseArrays at sparse/sparsematrix.jl:1540\n",
       "+(x::AbstractSparseArray{Tv,Ti,1} where Ti where Tv, y::AbstractSparseArray{Tv,Ti,1} where Ti where Tv) in Base.SparseArrays at sparse/sparsevector.jl:1339\n",
       "+(x::AbstractSparseArray{Tv,Ti,1} where Ti where Tv, y::Union{Base.ReshapedArray{T,1,A,MI} where MI<:Tuple{Vararg{Base.MultiplicativeInverses.SignedMultiplicativeInverse{Int64},N} where N} where A<:Union{DenseArray, SubArray{T,N,P,I,true} where I<:Tuple{Union{Base.Slice, UnitRange},Vararg{Any,N} where N} where P where N where T}, DenseArray{T,1}, SubArray{T,1,A,I,L} where L} where I<:Tuple{Vararg{Union{Base.AbstractCartesianIndex, Int64, Range{Int64}},N} where N} where A<:Union{Base.ReshapedArray{T,N,A,MI} where MI<:Tuple{Vararg{Base.MultiplicativeInverses.SignedMultiplicativeInverse{Int64},N} where N} where A<:Union{DenseArray, SubArray{T,N,P,I,true} where I<:Tuple{Union{Base.Slice, UnitRange},Vararg{Any,N} where N} where P where N where T} where N where T, DenseArray} where T) in Base.SparseArrays at sparse/sparsevector.jl:1341\n",
       "+(x::AbstractArray{#s45,N} where N where #s45<:Number) in Base at abstractarraymath.jl:95\n",
       "+(A::AbstractArray, B::AbstractArray) in Base at arraymath.jl:38\n",
       "+(A::Number, B::AbstractArray) in Base at arraymath.jl:45\n",
       "+(A::AbstractArray, B::Number) in Base at arraymath.jl:48\n",
       "+(index1::CartesianIndex{N}, index2::CartesianIndex{N}) where N in Base.IteratorsMD at multidimensional.jl:101\n",
       "+(index::CartesianIndex{N}, i::Integer) where N in Base.IteratorsMD at multidimensional.jl:111\n",
       "+(J1::UniformScaling, J2::UniformScaling) in Base.LinAlg at linalg/uniformscaling.jl:58\n",
       "+(J::UniformScaling, B::BitArray{2}) in Base.LinAlg at linalg/uniformscaling.jl:60\n",
       "+(J::UniformScaling, A::AbstractArray{T,2} where T) in Base.LinAlg at linalg/uniformscaling.jl:61\n",
       "+(a::Base.Pkg.Resolve.VersionWeights.HierarchicalValue{T}, b::Base.Pkg.Resolve.VersionWeights.HierarchicalValue{T}) where T in Base.Pkg.Resolve.VersionWeights at pkg/resolve/versionweight.jl:23\n",
       "+(x::P, y::P) where P<:Base.Dates.Period in Base.Dates at dates/periods.jl:70\n",
       "+(x::Base.Dates.Period, y::Base.Dates.Period) in Base.Dates at dates/periods.jl:346\n",
       "+(y::Base.Dates.Period, x::Base.Dates.CompoundPeriod) in Base.Dates at dates/periods.jl:348\n",
       "+(x::Union{Base.Dates.CompoundPeriod, Base.Dates.Period}) in Base.Dates at dates/periods.jl:357\n",
       "+(x::Union{Base.Dates.CompoundPeriod, Base.Dates.Period}, Y::Union{Base.ReshapedArray{#s268,N,A,MI} where MI<:Tuple{Vararg{Base.MultiplicativeInverses.SignedMultiplicativeInverse{Int64},N} where N} where A<:Union{DenseArray, SubArray{T,N,P,I,true} where I<:Tuple{Union{Base.Slice, UnitRange},Vararg{Any,N} where N} where P where N where T}, DenseArray{#s268,N}, SubArray{#s268,N,A,I,L} where L} where I<:Tuple{Vararg{Union{Base.AbstractCartesianIndex, Int64, Range{Int64}},N} where N} where A<:Union{Base.ReshapedArray{T,N,A,MI} where MI<:Tuple{Vararg{Base.MultiplicativeInverses.SignedMultiplicativeInverse{Int64},N} where N} where A<:Union{DenseArray, SubArray{T,N,P,I,true} where I<:Tuple{Union{Base.Slice, UnitRange},Vararg{Any,N} where N} where P where N where T} where N where T, DenseArray} where N where #s268<:Union{Base.Dates.CompoundPeriod, Base.Dates.Period}) in Base.Dates at dates/periods.jl:362\n",
       "+(x::Base.Dates.TimeType) in Base.Dates at dates/arithmetic.jl:8\n",
       "+(a::Base.Dates.TimeType, b::Base.Dates.Period, c::Base.Dates.Period) in Base.Dates at dates/periods.jl:378\n",
       "+(a::Base.Dates.TimeType, b::Base.Dates.Period, c::Base.Dates.Period, d::Base.Dates.Period...) in Base.Dates at dates/periods.jl:379\n",
       "+(x::Base.Dates.TimeType, y::Base.Dates.CompoundPeriod) in Base.Dates at dates/periods.jl:382\n",
       "+(x::Base.Dates.Instant) in Base.Dates at dates/arithmetic.jl:4\n",
       "+(y::Base.Dates.Period, x::Base.Dates.TimeType) in Base.Dates at dates/arithmetic.jl:83\n",
       "+(x::AbstractArray{#s268,N} where N where #s268<:Base.Dates.TimeType, y::Union{Base.Dates.CompoundPeriod, Base.Dates.Period}) in Base.Dates at dates/arithmetic.jl:85\n",
       "+(x::Base.Dates.Period, r::Range{#s268} where #s268<:Base.Dates.TimeType) in Base.Dates at dates/ranges.jl:46\n",
       "+(y::Union{Base.Dates.CompoundPeriod, Base.Dates.Period}, x::AbstractArray{#s268,N} where N where #s268<:Base.Dates.TimeType) in Base.Dates at dates/arithmetic.jl:87\n",
       "+(y::Base.Dates.TimeType, x::Union{Base.ReshapedArray{#s268,N,A,MI} where MI<:Tuple{Vararg{Base.MultiplicativeInverses.SignedMultiplicativeInverse{Int64},N} where N} where A<:Union{DenseArray, SubArray{T,N,P,I,true} where I<:Tuple{Union{Base.Slice, UnitRange},Vararg{Any,N} where N} where P where N where T}, DenseArray{#s268,N}, SubArray{#s268,N,A,I,L} where L} where I<:Tuple{Vararg{Union{Base.AbstractCartesianIndex, Int64, Range{Int64}},N} where N} where A<:Union{Base.ReshapedArray{T,N,A,MI} where MI<:Tuple{Vararg{Base.MultiplicativeInverses.SignedMultiplicativeInverse{Int64},N} where N} where A<:Union{DenseArray, SubArray{T,N,P,I,true} where I<:Tuple{Union{Base.Slice, UnitRange},Vararg{Any,N} where N} where P where N where T} where N where T, DenseArray} where N where #s268<:Union{Base.Dates.CompoundPeriod, Base.Dates.Period}) in Base.Dates at dates/arithmetic.jl:88\n",
       "+(J::UniformScaling, x::Number) in Base at deprecated.jl:56\n",
       "+(x::Number, J::UniformScaling) in Base at deprecated.jl:56\n",
       "+(a, b, c, xs...) in Base at operators.jl:424"
      ]
     },
     "execution_count": 3,
     "metadata": {},
     "output_type": "execute_result"
    }
   ],
   "source": [
    "methods(+)"
   ]
  },
  {
   "cell_type": "markdown",
   "metadata": {},
   "source": [
    "So in the above we see that dates can be added.  See the following example."
   ]
  },
  {
   "cell_type": "code",
   "execution_count": 4,
   "metadata": {},
   "outputs": [
    {
     "data": {
      "text/plain": [
       "2017-11-06"
      ]
     },
     "execution_count": 4,
     "metadata": {},
     "output_type": "execute_result"
    }
   ],
   "source": [
    "Dates.today()"
   ]
  },
  {
   "cell_type": "code",
   "execution_count": 5,
   "metadata": {},
   "outputs": [
    {
     "data": {
      "text/plain": [
       "2018-03-21"
      ]
     },
     "execution_count": 5,
     "metadata": {},
     "output_type": "execute_result"
    }
   ],
   "source": [
    "dd = Dates.today()+Dates.Day(135)"
   ]
  },
  {
   "cell_type": "code",
   "execution_count": 6,
   "metadata": {},
   "outputs": [
    {
     "data": {
      "text/plain": [
       "Date"
      ]
     },
     "execution_count": 6,
     "metadata": {},
     "output_type": "execute_result"
    }
   ],
   "source": [
    "typeof(dd)"
   ]
  },
  {
   "cell_type": "markdown",
   "metadata": {},
   "source": [
    "### Adding tridiagonal matrices"
   ]
  },
  {
   "cell_type": "code",
   "execution_count": 7,
   "metadata": {},
   "outputs": [
    {
     "data": {
      "text/html": [
       "6 methods for generic function <b>Type</b>:<ul><li> (::<b>Type{Tridiagonal}</b>)<i>{T}</i>(dl::<b>Array{T,1}</b>, d::<b>Array{T,1}</b>, du::<b>Array{T,1}</b>) at <a href=\"https://github.com/JuliaLang/julia/tree/0d7248e2ff65bd6886ba3f003bf5aeab929edab5/base/linalg/tridiag.jl#L436\" target=\"_blank\">linalg/tridiag.jl:436</a></li> <li> (::<b>Type{Tridiagonal}</b>)<i>{T}</i>(dl::<b>Array{T,1}</b>, d::<b>Array{T,1}</b>, du::<b>Array{T,1}</b>, du2::<b>Array{T,1}</b>) at <a href=\"https://github.com/JuliaLang/julia/tree/0d7248e2ff65bd6886ba3f003bf5aeab929edab5/base/linalg/tridiag.jl#L389\" target=\"_blank\">linalg/tridiag.jl:389</a></li> <li> (::<b>Type{Tridiagonal}</b>)<i>{T}</i>(M::<b>Bidiagonal{T}</b>) at <a href=\"https://github.com/JuliaLang/julia/tree/0d7248e2ff65bd6886ba3f003bf5aeab929edab5/base/linalg/bidiag.jl#L205\" target=\"_blank\">linalg/bidiag.jl:205</a></li> <li> (::<b>Type{Tridiagonal}</b>)<i>{Tl, Td, Tu}</i>(dl::<b>AbstractArray{Tl,1}</b>, d::<b>AbstractArray{Td,1}</b>, du::<b>AbstractArray{Tu,1}</b>) at <a href=\"https://github.com/JuliaLang/julia/tree/0d7248e2ff65bd6886ba3f003bf5aeab929edab5/base/linalg/tridiag.jl#L445\" target=\"_blank\">linalg/tridiag.jl:445</a></li> <li> (::<b>Type{Tridiagonal}</b>)(A::<b>AbstractArray{T,2} where T</b>) at <a href=\"https://github.com/JuliaLang/julia/tree/0d7248e2ff65bd6886ba3f003bf5aeab929edab5/base/linalg/tridiag.jl#L474\" target=\"_blank\">linalg/tridiag.jl:474</a></li> <li> (::<b>Type{T}</b>)<i>{T}</i>(arg) at <a href=\"https://github.com/JuliaLang/julia/tree/0d7248e2ff65bd6886ba3f003bf5aeab929edab5/base/sysimg.jl#L77\" target=\"_blank\">sysimg.jl:77</a></li> </ul>"
      ],
      "text/plain": [
       "# 6 methods for generic function \"(::Type)\":\n",
       "(::Type{Tridiagonal})(dl::Array{T,1}, d::Array{T,1}, du::Array{T,1}) where T in Base.LinAlg at linalg/tridiag.jl:436\n",
       "(::Type{Tridiagonal})(dl::Array{T,1}, d::Array{T,1}, du::Array{T,1}, du2::Array{T,1}) where T in Base.LinAlg at linalg/tridiag.jl:389\n",
       "(::Type{Tridiagonal})(M::Bidiagonal{T}) where T in Base.LinAlg at linalg/bidiag.jl:205\n",
       "(::Type{Tridiagonal})(dl::AbstractArray{Tl,1}, d::AbstractArray{Td,1}, du::AbstractArray{Tu,1}) where {Tl, Td, Tu} in Base.LinAlg at linalg/tridiag.jl:445\n",
       "(::Type{Tridiagonal})(A::AbstractArray{T,2} where T) in Base.LinAlg at linalg/tridiag.jl:474\n",
       "(::Type{T})(arg) where T in Base at sysimg.jl:77"
      ]
     },
     "execution_count": 7,
     "metadata": {},
     "output_type": "execute_result"
    }
   ],
   "source": [
    "methods(Tridiagonal)"
   ]
  },
  {
   "cell_type": "code",
   "execution_count": 8,
   "metadata": {},
   "outputs": [
    {
     "data": {
      "text/plain": [
       "7×7 Tridiagonal{Float64}:\n",
       " 0.0930483  0.665637    ⋅          ⋅          ⋅          ⋅         ⋅      \n",
       " 0.0894266  0.0705192  0.0107994   ⋅          ⋅          ⋅         ⋅      \n",
       "  ⋅         0.161493   0.589888   0.998918    ⋅          ⋅         ⋅      \n",
       "  ⋅          ⋅         0.908057   0.418693   0.0142942   ⋅         ⋅      \n",
       "  ⋅          ⋅          ⋅         0.0937068  0.171499   0.442291   ⋅      \n",
       "  ⋅          ⋅          ⋅          ⋅         0.790658   0.224327  0.975084\n",
       "  ⋅          ⋅          ⋅          ⋅          ⋅         0.501454  0.820116"
      ]
     },
     "execution_count": 8,
     "metadata": {},
     "output_type": "execute_result"
    }
   ],
   "source": [
    "T1 = Tridiagonal(rand(6), rand(7), rand(6))"
   ]
  },
  {
   "cell_type": "code",
   "execution_count": 9,
   "metadata": {},
   "outputs": [
    {
     "data": {
      "text/plain": [
       "7×7 Array{Float64,2}:\n",
       " 0.0930483  0.665637   0.0        0.0        0.0        0.0       0.0     \n",
       " 0.0894266  0.0705192  0.0107994  0.0        0.0        0.0       0.0     \n",
       " 0.0        0.161493   0.589888   0.998918   0.0        0.0       0.0     \n",
       " 0.0        0.0        0.908057   0.418693   0.0142942  0.0       0.0     \n",
       " 0.0        0.0        0.0        0.0937068  0.171499   0.442291  0.0     \n",
       " 0.0        0.0        0.0        0.0        0.790658   0.224327  0.975084\n",
       " 0.0        0.0        0.0        0.0        0.0        0.501454  0.820116"
      ]
     },
     "execution_count": 9,
     "metadata": {},
     "output_type": "execute_result"
    }
   ],
   "source": [
    "full(T1)"
   ]
  },
  {
   "cell_type": "code",
   "execution_count": 10,
   "metadata": {},
   "outputs": [
    {
     "data": {
      "text/plain": [
       "7×7 Tridiagonal{Float64}:\n",
       "  0.219195  -2.0         ⋅          ⋅          ⋅          ⋅          ⋅     \n",
       " -1.0        0.641626  -7.0         ⋅          ⋅          ⋅          ⋅     \n",
       "   ⋅        -1.0        0.362087  -8.0         ⋅          ⋅          ⋅     \n",
       "   ⋅          ⋅         1.0        0.160808  -5.0         ⋅          ⋅     \n",
       "   ⋅          ⋅          ⋅         2.0        0.181028  -3.0         ⋅     \n",
       "   ⋅          ⋅          ⋅          ⋅        -5.0        0.392962  -1.0    \n",
       "   ⋅          ⋅          ⋅          ⋅          ⋅         3.0        0.28115"
      ]
     },
     "execution_count": 10,
     "metadata": {},
     "output_type": "execute_result"
    }
   ],
   "source": [
    "T2 = Tridiagonal(rand(-5:5,6), rand(7), rand(-9:0,6))"
   ]
  },
  {
   "cell_type": "code",
   "execution_count": 11,
   "metadata": {},
   "outputs": [
    {
     "data": {
      "text/plain": [
       "7×7 Tridiagonal{Float64}:\n",
       "  0.312243  -1.33436     ⋅          ⋅          ⋅          ⋅          ⋅       \n",
       " -0.910573   0.712145  -6.9892      ⋅          ⋅          ⋅          ⋅       \n",
       "   ⋅        -0.838507   0.951976  -7.00108     ⋅          ⋅          ⋅       \n",
       "   ⋅          ⋅         1.90806    0.579501  -4.98571     ⋅          ⋅       \n",
       "   ⋅          ⋅          ⋅         2.09371    0.352528  -2.55771     ⋅       \n",
       "   ⋅          ⋅          ⋅          ⋅        -4.20934    0.617289  -0.0249155\n",
       "   ⋅          ⋅          ⋅          ⋅          ⋅         3.50145    1.10127  "
      ]
     },
     "execution_count": 11,
     "metadata": {},
     "output_type": "execute_result"
    }
   ],
   "source": [
    "T3 = T1 + T2"
   ]
  },
  {
   "cell_type": "code",
   "execution_count": 12,
   "metadata": {},
   "outputs": [
    {
     "data": {
      "text/html": [
       "+(A::<b>Tridiagonal</b>, B::<b>Tridiagonal</b>) at <a href=\"https://github.com/JuliaLang/julia/tree/0d7248e2ff65bd6886ba3f003bf5aeab929edab5/base/linalg/tridiag.jl#L624\" target=\"_blank\">linalg/tridiag.jl:624</a>"
      ],
      "text/plain": [
       "+(A::Tridiagonal, B::Tridiagonal) in Base.LinAlg at linalg/tridiag.jl:624"
      ]
     },
     "execution_count": 12,
     "metadata": {},
     "output_type": "execute_result"
    }
   ],
   "source": [
    "@which T1 + T2"
   ]
  },
  {
   "cell_type": "code",
   "execution_count": 13,
   "metadata": {},
   "outputs": [
    {
     "name": "stdout",
     "output_type": "stream",
     "text": [
      "[-0.910573, -0.838507, 1.90806, 2.09371, -4.20934, 3.50145][0.312243, 0.712145, 0.951976, 0.579501, 0.352528, 0.617289, 1.10127][-1.33436, -6.9892, -7.00108, -4.98571, -2.55771, -0.0249155]\n"
     ]
    }
   ],
   "source": [
    "println(T3.dl, T3.d, T3.du) # get the diagonals"
   ]
  },
  {
   "cell_type": "code",
   "execution_count": 14,
   "metadata": {},
   "outputs": [
    {
     "data": {
      "text/plain": [
       "4×4 Tridiagonal{Complex{Float64}}:\n",
       " 2.0+0.0im  0.632029+0.823354im           ⋅                    ⋅         \n",
       " 1.0+0.0im       3.0+0.0im       0.191763+0.149114im           ⋅         \n",
       "     ⋅           2.0+0.0im        3.14159+0.0im       0.285965+0.122921im\n",
       "     ⋅               ⋅                3.0+0.0im            4.0+0.0im     "
      ]
     },
     "execution_count": 14,
     "metadata": {},
     "output_type": "execute_result"
    }
   ],
   "source": [
    "T4 = Tridiagonal([1,2,3], [2.0,3.0,pi,4.0],rand(3)+im*rand(3))"
   ]
  },
  {
   "cell_type": "code",
   "execution_count": 15,
   "metadata": {},
   "outputs": [
    {
     "data": {
      "text/plain": [
       "(4, 4)"
      ]
     },
     "execution_count": 15,
     "metadata": {},
     "output_type": "execute_result"
    }
   ],
   "source": [
    "# can use size() and full()\n",
    "size(T4)"
   ]
  },
  {
   "cell_type": "code",
   "execution_count": 16,
   "metadata": {},
   "outputs": [
    {
     "data": {
      "text/plain": [
       "4×4 Array{Complex{Float64},2}:\n",
       " 2.0+0.0im  0.632029+0.823354im       0.0+0.0im            0.0+0.0im     \n",
       " 1.0+0.0im       3.0+0.0im       0.191763+0.149114im       0.0+0.0im     \n",
       " 0.0+0.0im       2.0+0.0im        3.14159+0.0im       0.285965+0.122921im\n",
       " 0.0+0.0im       0.0+0.0im            3.0+0.0im            4.0+0.0im     "
      ]
     },
     "execution_count": 16,
     "metadata": {},
     "output_type": "execute_result"
    }
   ],
   "source": [
    "T4 = full(T4)"
   ]
  },
  {
   "cell_type": "markdown",
   "metadata": {},
   "source": [
    "Exploiting structured matrices can lead to more efficient programs as we can store only a collection of nonzero entries."
   ]
  },
  {
   "cell_type": "code",
   "execution_count": 17,
   "metadata": {},
   "outputs": [
    {
     "data": {
      "text/plain": [
       "32"
      ]
     },
     "execution_count": 17,
     "metadata": {},
     "output_type": "execute_result"
    }
   ],
   "source": [
    "sizeof(T1)"
   ]
  },
  {
   "cell_type": "code",
   "execution_count": 18,
   "metadata": {},
   "outputs": [
    {
     "data": {
      "text/plain": [
       "7×7 Array{Float64,2}:\n",
       " 0.0930483  0.665637   0.0        0.0        0.0        0.0       0.0     \n",
       " 0.0894266  0.0705192  0.0107994  0.0        0.0        0.0       0.0     \n",
       " 0.0        0.161493   0.589888   0.998918   0.0        0.0       0.0     \n",
       " 0.0        0.0        0.908057   0.418693   0.0142942  0.0       0.0     \n",
       " 0.0        0.0        0.0        0.0937068  0.171499   0.442291  0.0     \n",
       " 0.0        0.0        0.0        0.0        0.790658   0.224327  0.975084\n",
       " 0.0        0.0        0.0        0.0        0.0        0.501454  0.820116"
      ]
     },
     "execution_count": 18,
     "metadata": {},
     "output_type": "execute_result"
    }
   ],
   "source": [
    "T1_full = full(T1)"
   ]
  },
  {
   "cell_type": "code",
   "execution_count": 19,
   "metadata": {},
   "outputs": [
    {
     "data": {
      "text/plain": [
       "392"
      ]
     },
     "execution_count": 19,
     "metadata": {},
     "output_type": "execute_result"
    }
   ],
   "source": [
    "sizeof(T1_full)"
   ]
  },
  {
   "cell_type": "markdown",
   "metadata": {},
   "source": [
    "The tridiagonal method is immutable so we can change individual parts but not the whole thing."
   ]
  },
  {
   "cell_type": "code",
   "execution_count": 20,
   "metadata": {},
   "outputs": [
    {
     "name": "stdout",
     "output_type": "stream",
     "text": [
      "T5 = Tridiagonal([1, 2, 3], [2, 3, 4, 5], [-1, 1, 2]) = [2 -1 0 0; 1 3 1 0; 0 2 4 2; 0 0 3 5]\n",
      "T5 = [2 -1 0 0; 1 123 1 0; 0 2 4 2; 0 0 3 5]\n"
     ]
    },
    {
     "ename": "LoadError",
     "evalue": "\u001b[91mtype Tridiagonal is immutable\u001b[39m",
     "output_type": "error",
     "traceback": [
      "\u001b[91mtype Tridiagonal is immutable\u001b[39m",
      "",
      "Stacktrace:",
      " [1] \u001b[1minclude_string\u001b[22m\u001b[22m\u001b[1m(\u001b[22m\u001b[22m::String, ::String\u001b[1m)\u001b[22m\u001b[22m at \u001b[1m./loading.jl:522\u001b[22m\u001b[22m"
     ]
    }
   ],
   "source": [
    "@show T5 = Tridiagonal([1,2,3], [2,3,4,5], [-1,1,2])\n",
    "T5.d[2] = 123\n",
    "@show T5\n",
    "T5.dl = [-1, -1, 1]"
   ]
  },
  {
   "cell_type": "markdown",
   "metadata": {},
   "source": [
    "There is no general method for the multiplication of tridiagonal matrices so they are first converted to full matrices."
   ]
  },
  {
   "cell_type": "code",
   "execution_count": 21,
   "metadata": {},
   "outputs": [
    {
     "data": {
      "text/plain": [
       "7×7 Array{Float64,2}:\n",
       " -0.645241    0.240993  -4.65946    …   0.0        0.0         0.0      \n",
       " -0.0509174  -0.144406  -0.489724       0.0        0.0         0.0      \n",
       " -0.161493   -0.48627    0.0820586     -4.99459    0.0         0.0      \n",
       "  0.0        -0.908057   0.747489      -2.09088   -0.0428826   0.0      \n",
       "  0.0         0.0        0.0937068     -2.64894   -0.340694   -0.442291 \n",
       "  0.0         0.0        0.0        …  -0.978502   0.64143     0.0498185\n",
       "  0.0         0.0        0.0           -2.50727    2.6574     -0.270878 "
      ]
     },
     "execution_count": 21,
     "metadata": {},
     "output_type": "execute_result"
    }
   ],
   "source": [
    "T1*T2"
   ]
  },
  {
   "cell_type": "code",
   "execution_count": 22,
   "metadata": {},
   "outputs": [
    {
     "data": {
      "text/html": [
       "*(A::<b>Union{Bidiagonal, SymTridiagonal, Tridiagonal}</b>, B::<b>Union{Bidiagonal, SymTridiagonal, Tridiagonal}</b>) at <a href=\"https://github.com/JuliaLang/julia/tree/0d7248e2ff65bd6886ba3f003bf5aeab929edab5/base/linalg/bidiag.jl#L499\" target=\"_blank\">linalg/bidiag.jl:499</a>"
      ],
      "text/plain": [
       "*(A::Union{Bidiagonal, SymTridiagonal, Tridiagonal}, B::Union{Bidiagonal, SymTridiagonal, Tridiagonal}) in Base.LinAlg at linalg/bidiag.jl:499"
      ]
     },
     "execution_count": 22,
     "metadata": {},
     "output_type": "execute_result"
    }
   ],
   "source": [
    "@which T1*T2"
   ]
  },
  {
   "cell_type": "markdown",
   "metadata": {},
   "source": [
    "### The ` \\dot ` operator"
   ]
  },
  {
   "cell_type": "code",
   "execution_count": 23,
   "metadata": {},
   "outputs": [
    {
     "name": "stdout",
     "output_type": "stream",
     "text": [
      "(x, y, z, w) = ([2, 4, 3, 4, 3], [0, -2, 0, -3, -4], [0.789798, 0.348268, 0.539671, 0.445101, 0.469635], Complex{Float64}[0.260263+0.147267im, 0.263341+0.708907im, 0.647701+0.0373171im, 0.0996191+0.981324im, 0.367495+0.0738093im])\n",
      "(a, b, c, d, e, f) = (-32, 7.7809882876164185, 7.7809882876164185, 5.01795546046626 + 7.3888377550983435im, e = 2.7182818284590..., 0.863742958437647 - 0.85479179160189im)\n"
     ]
    },
    {
     "data": {
      "text/plain": [
       "(-32, 7.7809882876164185, 7.7809882876164185, 5.01795546046626 + 7.3888377550983435im, e = 2.7182818284590..., 0.863742958437647 - 0.85479179160189im)"
      ]
     },
     "execution_count": 23,
     "metadata": {},
     "output_type": "execute_result"
    }
   ],
   "source": [
    "x = rand(1:5,5); y  = rand(-5:0,5); a = x⋅y\n",
    "z = rand(5); b = x⋅z; c = z⋅x\n",
    "w = rand(5) + im*rand(5); d = x⋅w; ee = z⋅w; f = w⋅z\n",
    "@show x, y, z, w\n",
    "@show a, b, c, d, e, f"
   ]
  },
  {
   "cell_type": "markdown",
   "metadata": {},
   "source": [
    "the command `whos()` shows the content for a package or a module."
   ]
  },
  {
   "cell_type": "code",
   "execution_count": 24,
   "metadata": {},
   "outputs": [
    {
     "name": "stdout",
     "output_type": "stream",
     "text": [
      "               @dateformat_str      0 bytes  Base.Dates.#@dateformat_str\n",
      "                           Apr      8 bytes  Int64\n",
      "                         April      8 bytes  Int64\n",
      "                           Aug      8 bytes  Int64\n",
      "                        August      8 bytes  Int64\n",
      "                          Date    112 bytes  DataType\n",
      "                    DateFormat     80 bytes  UnionAll\n",
      "                    DatePeriod     92 bytes  DataType\n",
      "                      DateTime    112 bytes  DataType\n",
      "                         Dates  20915 KB     Module\n",
      "                      Datetime      0 bytes  Base.Dates.#Datetime\n",
      "                           Day    112 bytes  DataType\n",
      "                           Dec      8 bytes  Int64\n",
      "                      December      8 bytes  Int64\n",
      "                           Feb      8 bytes  Int64\n",
      "                      February      8 bytes  Int64\n",
      "                           Fri      8 bytes  Int64\n",
      "                        Friday      8 bytes  Int64\n",
      "                          Hour    112 bytes  DataType\n",
      "                 ISODateFormat   6503 bytes  DateFormat{Symbol(\"yyyy-mm-dd\"),Tu…\n",
      "             ISODateTimeFormat   6599 bytes  DateFormat{Symbol(\"yyyy-mm-dd\\\\THH…\n",
      "                           Jan      8 bytes  Int64\n",
      "                       January      8 bytes  Int64\n",
      "                           Jul      8 bytes  Int64\n",
      "                          July      8 bytes  Int64\n",
      "                           Jun      8 bytes  Int64\n",
      "                          June      8 bytes  Int64\n",
      "                           Mar      8 bytes  Int64\n",
      "                         March      8 bytes  Int64\n",
      "                           May      8 bytes  Int64\n",
      "                   Microsecond    112 bytes  DataType\n",
      "                   Millisecond    112 bytes  DataType\n",
      "                        Minute    112 bytes  DataType\n",
      "                           Mon      8 bytes  Int64\n",
      "                        Monday      8 bytes  Int64\n",
      "                         Month    112 bytes  DataType\n",
      "                    Nanosecond    112 bytes  DataType\n",
      "                           Nov      8 bytes  Int64\n",
      "                      November      8 bytes  Int64\n",
      "                           Oct      8 bytes  Int64\n",
      "                       October      8 bytes  Int64\n",
      "                        Period     92 bytes  DataType\n",
      "                 RFC1123Format   6625 bytes  DateFormat{Symbol(\"e, dd u yyyy HH…\n",
      "                           Sat      8 bytes  Int64\n",
      "                      Saturday      8 bytes  Int64\n",
      "                        Second    112 bytes  DataType\n",
      "                           Sep      8 bytes  Int64\n",
      "                     September      8 bytes  Int64\n",
      "                           Sun      8 bytes  Int64\n",
      "                        Sunday      8 bytes  Int64\n",
      "                           Thu      8 bytes  Int64\n",
      "                      Thursday      8 bytes  Int64\n",
      "                          Time    112 bytes  DataType\n",
      "                    TimePeriod     92 bytes  DataType\n",
      "                      TimeType     92 bytes  DataType\n",
      "                      TimeZone     92 bytes  DataType\n",
      "                           Tue      8 bytes  Int64\n",
      "                       Tuesday      8 bytes  Int64\n",
      "                           UTC     92 bytes  DataType\n",
      "                           Wed      8 bytes  Int64\n",
      "                     Wednesday      8 bytes  Int64\n",
      "                          Week    112 bytes  DataType\n",
      "                          Year    112 bytes  DataType\n",
      "                        adjust      0 bytes  Base.Dates.#adjust\n",
      "                  canonicalize      0 bytes  Base.Dates.#canonicalize\n",
      "               datetime2julian      0 bytes  Base.Dates.#datetime2julian\n",
      "                 datetime2rata      0 bytes  Base.Dates.#datetime2rata\n",
      "                 datetime2unix      0 bytes  Base.Dates.#datetime2unix\n",
      "                           day      0 bytes  Base.Dates.#day\n",
      "                       dayabbr      0 bytes  Base.Dates.#dayabbr\n",
      "                       dayname      0 bytes  Base.Dates.#dayname\n",
      "                    dayofmonth      0 bytes  Base.Dates.#dayofmonth\n",
      "                  dayofquarter      0 bytes  Base.Dates.#dayofquarter\n",
      "                     dayofweek      0 bytes  Base.Dates.#dayofweek\n",
      "              dayofweekofmonth      0 bytes  Base.Dates.#dayofweekofmonth\n",
      "                     dayofyear      0 bytes  Base.Dates.#dayofyear\n",
      "                   daysinmonth      0 bytes  Base.Dates.#daysinmonth\n",
      "                    daysinyear      0 bytes  Base.Dates.#daysinyear\n",
      "             daysofweekinmonth      0 bytes  Base.Dates.#daysofweekinmonth\n",
      "               firstdayofmonth      0 bytes  Base.Dates.#firstdayofmonth\n",
      "             firstdayofquarter      0 bytes  Base.Dates.#firstdayofquarter\n",
      "                firstdayofweek      0 bytes  Base.Dates.#firstdayofweek\n",
      "                firstdayofyear      0 bytes  Base.Dates.#firstdayofyear\n",
      "                          hour      0 bytes  Base.Dates.#hour\n",
      "                    isleapyear      0 bytes  Base.Dates.#isleapyear\n",
      "               julian2datetime      0 bytes  Base.Dates.#julian2datetime\n",
      "                lastdayofmonth      0 bytes  Base.Dates.#lastdayofmonth\n",
      "              lastdayofquarter      0 bytes  Base.Dates.#lastdayofquarter\n",
      "                 lastdayofweek      0 bytes  Base.Dates.#lastdayofweek\n",
      "                 lastdayofyear      0 bytes  Base.Dates.#lastdayofyear\n",
      "                   microsecond      0 bytes  Base.Dates.#microsecond\n",
      "                   millisecond      0 bytes  Base.Dates.#millisecond\n",
      "                        minute      0 bytes  Base.Dates.#minute\n",
      "                         month      0 bytes  Base.Dates.#month\n",
      "                     monthabbr      0 bytes  Base.Dates.#monthabbr\n",
      "                      monthday      0 bytes  Base.Dates.#monthday\n",
      "                     monthname      0 bytes  Base.Dates.#monthname\n",
      "                    nanosecond      0 bytes  Base.Dates.#nanosecond\n",
      "                           now      0 bytes  Base.Dates.#now\n",
      "                 quarterofyear      0 bytes  Base.Dates.#quarterofyear\n",
      "                 rata2datetime      0 bytes  Base.Dates.#rata2datetime\n",
      "                        second      0 bytes  Base.Dates.#second\n",
      "                         today      0 bytes  Base.Dates.#today\n",
      "                       tofirst      0 bytes  Base.Dates.#tofirst\n",
      "                        tolast      0 bytes  Base.Dates.#tolast\n",
      "                        tonext      0 bytes  Base.Dates.#tonext\n",
      "                        toprev      0 bytes  Base.Dates.#toprev\n",
      "                 unix2datetime      0 bytes  Base.Dates.#unix2datetime\n",
      "                          week      0 bytes  Base.Dates.#week\n",
      "                          year      0 bytes  Base.Dates.#year\n",
      "                     yearmonth      0 bytes  Base.Dates.#yearmonth\n",
      "                  yearmonthday      0 bytes  Base.Dates.#yearmonthday\n"
     ]
    }
   ],
   "source": [
    "whos(Dates)"
   ]
  },
  {
   "cell_type": "markdown",
   "metadata": {},
   "source": [
    "## Packages"
   ]
  },
  {
   "cell_type": "code",
   "execution_count": 25,
   "metadata": {},
   "outputs": [
    {
     "ename": "LoadError",
     "evalue": "\u001b[91mUndefVarError: ? not defined\u001b[39m",
     "output_type": "error",
     "traceback": [
      "\u001b[91mUndefVarError: ? not defined\u001b[39m",
      "",
      "Stacktrace:",
      " [1] \u001b[1minclude_string\u001b[22m\u001b[22m\u001b[1m(\u001b[22m\u001b[22m::String, ::String\u001b[1m)\u001b[22m\u001b[22m at \u001b[1m./loading.jl:522\u001b[22m\u001b[22m"
     ]
    }
   ],
   "source": [
    "# can check the status of a package.\n",
    "?Pkg.status()"
   ]
  },
  {
   "cell_type": "code",
   "execution_count": 26,
   "metadata": {},
   "outputs": [
    {
     "name": "stdout",
     "output_type": "stream",
     "text": [
      "6 required packages:\n",
      " - Graphs                        0.8.0\n",
      " - IJulia                        1.6.2\n",
      " - IJuliaPortrayals              0.0.4\n",
      " - Interact                      0.6.2\n",
      " - Primes                        0.2.0\n",
      " - Winston                       0.13.1\n",
      "22 additional packages:\n",
      " - BinDeps                       0.7.0\n",
      " - Cairo                         0.3.1\n",
      " - ColorTypes                    0.6.6\n",
      " - Colors                        0.8.2\n",
      " - Compat                        0.34.0\n",
      " - Conda                         0.7.0\n",
      " - DataStructures                0.7.2\n",
      " - FixedPointNumbers             0.4.3\n",
      " - Graphics                      0.2.0\n",
      " - Homebrew                      0.6.0\n",
      " - IniFile                       0.3.1\n",
      " - JSON                          0.15.2\n",
      " - MbedTLS                       0.5.1\n",
      " - NaNMath                       0.2.6\n",
      " - Reactive                      0.6.0\n",
      " - Reexport                      0.0.3\n",
      " - SHA                           0.5.2\n",
      " - SpecialFunctions              0.3.4\n",
      " - StatsBase                     0.19.0\n",
      " - Tk                            0.5.2\n",
      " - URIParser                     0.2.0\n",
      " - ZMQ                           0.5.1\n"
     ]
    }
   ],
   "source": [
    "Pkg.status()"
   ]
  },
  {
   "cell_type": "code",
   "execution_count": 27,
   "metadata": {},
   "outputs": [
    {
     "data": {
      "text/markdown": [
       "```\n",
       "add(pkg, vers...)\n",
       "```\n",
       "\n",
       "Add a requirement entry for `pkg` to `Pkg.dir(\"REQUIRE\")` and call `Pkg.resolve()`. If `vers` are given, they must be `VersionNumber` objects and they specify acceptable version intervals for `pkg`.\n"
      ],
      "text/plain": [
       "```\n",
       "add(pkg, vers...)\n",
       "```\n",
       "\n",
       "Add a requirement entry for `pkg` to `Pkg.dir(\"REQUIRE\")` and call `Pkg.resolve()`. If `vers` are given, they must be `VersionNumber` objects and they specify acceptable version intervals for `pkg`.\n"
      ]
     },
     "execution_count": 27,
     "metadata": {},
     "output_type": "execute_result"
    }
   ],
   "source": [
    "?Pkg.add"
   ]
  },
  {
   "cell_type": "code",
   "execution_count": 28,
   "metadata": {},
   "outputs": [
    {
     "name": "stderr",
     "output_type": "stream",
     "text": [
      "WARNING: Method definition (::Type{Graphs.KeyVertex{K} where K})(Int64, K) in module Graphs at /Users/cdickens/.julia/v0.6/Graphs/src/common.jl:13 overwritten at /Users/cdickens/.julia/v0.6/Graphs/src/common.jl:17.\n",
      "WARNING: Method definition (::Type{Graphs.Edge{V} where V})(Int64, V, V) in module Graphs at /Users/cdickens/.julia/v0.6/Graphs/src/common.jl:55 overwritten at /Users/cdickens/.julia/v0.6/Graphs/src/common.jl:61.\n",
      "WARNING: Method definition (::Type{Graphs.ExEdge{V} where V})(Int64, V, V, Base.Dict{String, Any}) in module Graphs at /Users/cdickens/.julia/v0.6/Graphs/src/common.jl:73 overwritten at /Users/cdickens/.julia/v0.6/Graphs/src/common.jl:84.\n",
      "WARNING: Method definition (::Type{Graphs.TargetIterator{G, EList} where EList where G<:(Graphs.AbstractGraph{V, E} where E where V)})(G<:(Graphs.AbstractGraph{V, E} where E where V), EList) in module Graphs at /Users/cdickens/.julia/v0.6/Graphs/src/common.jl:124 overwritten at /Users/cdickens/.julia/v0.6/Graphs/src/common.jl:128.\n",
      "WARNING: Method definition (::Type{Graphs.SourceIterator{G, EList} where EList where G<:(Graphs.AbstractGraph{V, E} where E where V)})(G<:(Graphs.AbstractGraph{V, E} where E where V), EList) in module Graphs at /Users/cdickens/.julia/v0.6/Graphs/src/common.jl:142 overwritten at /Users/cdickens/.julia/v0.6/Graphs/src/common.jl:146.\n",
      "WARNING: Method definition (::Type{Graphs.GDistanceVisitor{G, DMap} where DMap where G<:(Graphs.AbstractGraph{V, E} where E where V)})(G<:(Graphs.AbstractGraph{V, E} where E where V), DMap) in module Graphs at /Users/cdickens/.julia/v0.6/Graphs/src/breadth_first_visit.jl:107 overwritten at /Users/cdickens/.julia/v0.6/Graphs/src/breadth_first_visit.jl:111.\n"
     ]
    }
   ],
   "source": [
    "using Graphs"
   ]
  },
  {
   "cell_type": "code",
   "execution_count": 29,
   "metadata": {},
   "outputs": [
    {
     "name": "stdout",
     "output_type": "stream",
     "text": [
      "             @graph_implements      0 bytes  Graphs.#@graph_implements\n",
      "               @graph_requires      0 bytes  Graphs.#@graph_requires\n",
      "       AbstractDijkstraVisitor     92 bytes  DataType\n",
      " AbstractEdgePropertyInspector     40 bytes  UnionAll\n",
      "                 AbstractGraph     80 bytes  UnionAll\n",
      "          AbstractGraphVisitor     92 bytes  DataType\n",
      "            AbstractMASVisitor     92 bytes  DataType\n",
      "           AbstractPrimVisitor     92 bytes  DataType\n",
      "                 AdjacencyList     40 bytes  UnionAll\n",
      "                 AttributeDict    212 bytes  DataType\n",
      "AttributeEdgePropertyInspector     40 bytes  UnionAll\n",
      "             BellmanFordStates     80 bytes  UnionAll\n",
      "                  BreadthFirst     92 bytes  DataType\n",
      " ConstantEdgePropertyInspector     40 bytes  UnionAll\n",
      "                    DepthFirst     92 bytes  DataType\n",
      "                DijkstraStates    160 bytes  UnionAll\n",
      "                          Edge     40 bytes  UnionAll\n",
      "                      EdgeList     80 bytes  UnionAll\n",
      "                        ExEdge     40 bytes  UnionAll\n",
      "                      ExVertex    136 bytes  DataType\n",
      "          GenericAdjacencyList    120 bytes  UnionAll\n",
      "               GenericEdgeList    160 bytes  UnionAll\n",
      "                  GenericGraph    200 bytes  UnionAll\n",
      "          GenericIncidenceList    160 bytes  UnionAll\n",
      "                         Graph     80 bytes  UnionAll\n",
      "                        Graphs  21725 KB     Module\n",
      "                 IncidenceDict     80 bytes  UnionAll\n",
      "                 IncidenceList     80 bytes  UnionAll\n",
      "                     KeyVertex     40 bytes  UnionAll\n",
      "               LogGraphVisitor     40 bytes  UnionAll\n",
      "              MaximumAdjacency     92 bytes  DataType\n",
      "            NegativeCycleError     92 bytes  DataType\n",
      "                    PrimStates    160 bytes  UnionAll\n",
      "           SimpleAdjacencyList    172 bytes  DataType\n",
      "                   SimpleGraph    212 bytes  DataType\n",
      "           SimpleIncidenceList    180 bytes  DataType\n",
      "           TrivialGraphVisitor     92 bytes  DataType\n",
      "   VectorEdgePropertyInspector     40 bytes  UnionAll\n",
      "                  WeightedEdge     80 bytes  UnionAll\n",
      "                     add_edge!      0 bytes  Graphs.#add_edge!\n",
      "                   add_vertex!      0 bytes  Graphs.#add_vertex!\n",
      "              adjacency_matrix      0 bytes  Graphs.#adjacency_matrix\n",
      "       adjacency_matrix_sparse      0 bytes  Graphs.#adjacency_matrix_sparse\n",
      "                       adjlist      0 bytes  Graphs.#adjlist\n",
      "                    attributes      0 bytes  Graphs.#attributes\n",
      "   bellman_ford_shortest_paths      0 bytes  Graphs.#bellman_ford_shortest_paths\n",
      "  bellman_ford_shortest_paths!      0 bytes  Graphs.#bellman_ford_shortest_path…\n",
      "                 close_vertex!      0 bytes  Graphs.#close_vertex!\n",
      "                 collect_edges      0 bytes  Graphs.#collect_edges\n",
      "        collect_weighted_edges      0 bytes  Graphs.#collect_weighted_edges\n",
      "          connected_components      0 bytes  Graphs.#connected_components\n",
      "    create_bellman_ford_states      0 bytes  Graphs.#create_bellman_ford_states\n",
      "        create_dijkstra_states      0 bytes  Graphs.#create_dijkstra_states\n",
      "            create_prim_states      0 bytes  Graphs.#create_prim_states\n",
      "       dijkstra_shortest_paths      0 bytes  Graphs.#dijkstra_shortest_paths\n",
      "      dijkstra_shortest_paths!      0 bytes  Graphs.#dijkstra_shortest_paths!\n",
      "dijkstra_shortest_paths_withlog      0 bytes  Graphs.#dijkstra_shortest_paths_w…\n",
      "              discover_vertex!      0 bytes  Graphs.#discover_vertex!\n",
      "               distance_matrix      0 bytes  Graphs.#distance_matrix\n",
      "                    edge_index      0 bytes  Graphs.#edge_index\n",
      "                 edge_property      0 bytes  Graphs.#edge_property\n",
      "     edge_property_requirement      0 bytes  Graphs.#edge_property_requirement\n",
      "                     edge_type      0 bytes  Graphs.#edge_type\n",
      "                      edgelist      0 bytes  Graphs.#edgelist\n",
      "                         edges      0 bytes  Graphs.#edges\n",
      "             enumerate_indices      0 bytes  Graphs.#enumerate_indices\n",
      "               enumerate_paths      0 bytes  Graphs.#enumerate_paths\n",
      "             erdos_renyi_graph      0 bytes  Graphs.#erdos_renyi_graph\n",
      "                 examine_edge!      0 bytes  Graphs.#examine_edge!\n",
      "             examine_neighbor!      0 bytes  Graphs.#examine_neighbor!\n",
      "                floyd_warshall      0 bytes  Graphs.#floyd_warshall\n",
      "               floyd_warshall!      0 bytes  Graphs.#floyd_warshall!\n",
      "                    gdistances      0 bytes  Graphs.#gdistances\n",
      "                   gdistances!      0 bytes  Graphs.#gdistances!\n",
      "                         graph      0 bytes  Graphs.#graph\n",
      "       has_negative_edge_cycle      0 bytes  Graphs.#has_negative_edge_cycle\n",
      "     implements_adjacency_list      0 bytes  Graphs.#implements_adjacency_list\n",
      "   implements_adjacency_matrix      0 bytes  Graphs.#implements_adjacency_matrix\n",
      "implements_bidirectional_adjacency_list      0 bytes  Graphs.#implements_bidire…\n",
      "implements_bidirectional_incidence_list      0 bytes  Graphs.#implements_bidire…\n",
      "          implements_edge_list      0 bytes  Graphs.#implements_edge_list\n",
      "           implements_edge_map      0 bytes  Graphs.#implements_edge_map\n",
      "     implements_incidence_list      0 bytes  Graphs.#implements_incidence_list\n",
      "        implements_vertex_list      0 bytes  Graphs.#implements_vertex_list\n",
      "         implements_vertex_map      0 bytes  Graphs.#implements_vertex_map\n",
      "                     in_degree      0 bytes  Graphs.#in_degree\n",
      "                      in_edges      0 bytes  Graphs.#in_edges\n",
      "                  in_neighbors      0 bytes  Graphs.#in_neighbors\n",
      "                       incdict      0 bytes  Graphs.#incdict\n",
      "                       inclist      0 bytes  Graphs.#inclist\n",
      "                   is_directed      0 bytes  Graphs.#is_directed\n",
      "      kruskal_minimum_spantree      0 bytes  Graphs.#kruskal_minimum_spantree\n",
      "                kruskal_select      0 bytes  Graphs.#kruskal_select\n",
      "              laplacian_matrix      0 bytes  Graphs.#laplacian_matrix\n",
      "       laplacian_matrix_sparse      0 bytes  Graphs.#laplacian_matrix_sparse\n",
      "                     make_edge      0 bytes  Graphs.#make_edge\n",
      "                   make_vertex      0 bytes  Graphs.#make_vertex\n",
      "               maximal_cliques      0 bytes  Graphs.#maximal_cliques\n",
      "       maximum_adjacency_visit      0 bytes  Graphs.#maximum_adjacency_visit\n",
      "                       min_cut      0 bytes  Graphs.#min_cut\n",
      "          moebius_kantor_graph      0 bytes  Graphs.#moebius_kantor_graph\n",
      "                     num_edges      0 bytes  Graphs.#num_edges\n",
      "                  num_vertices      0 bytes  Graphs.#num_vertices\n",
      "                  open_vertex!      0 bytes  Graphs.#open_vertex!\n",
      "                    out_degree      0 bytes  Graphs.#out_degree\n",
      "                     out_edges      0 bytes  Graphs.#out_edges\n",
      "                 out_neighbors      0 bytes  Graphs.#out_neighbors\n",
      "                          plot      0 bytes  Graphs.#plot\n",
      "         prim_minimum_spantree      0 bytes  Graphs.#prim_minimum_spantree\n",
      "        prim_minimum_spantree!      0 bytes  Graphs.#prim_minimum_spantree!\n",
      " prim_minimum_spantree_withlog      0 bytes  Graphs.#prim_minimum_spantree_with…\n",
      "                       revedge      0 bytes  Graphs.#revedge\n",
      "                 shortest_path      0 bytes  Graphs.AStar.#shortest_path\n",
      "                simple_adjlist      0 bytes  Graphs.#simple_adjlist\n",
      "             simple_bull_graph      0 bytes  Graphs.#simple_bull_graph\n",
      "          simple_chvatal_graph      0 bytes  Graphs.#simple_chvatal_graph\n",
      "         simple_complete_graph      0 bytes  Graphs.#simple_complete_graph\n",
      "          simple_cubical_graph      0 bytes  Graphs.#simple_cubical_graph\n",
      "        simple_desargues_graph      0 bytes  Graphs.#simple_desargues_graph\n",
      "          simple_diamond_graph      0 bytes  Graphs.#simple_diamond_graph\n",
      "     simple_dodecahedral_graph      0 bytes  Graphs.#simple_dodecahedral_graph\n",
      "               simple_edgelist      0 bytes  Graphs.#simple_edgelist\n",
      "           simple_frucht_graph      0 bytes  Graphs.#simple_frucht_graph\n",
      "                  simple_graph      0 bytes  Graphs.#simple_graph\n",
      "          simple_heawood_graph      0 bytes  Graphs.#simple_heawood_graph\n",
      "            simple_house_graph      0 bytes  Graphs.#simple_house_graph\n",
      "          simple_house_x_graph      0 bytes  Graphs.#simple_house_x_graph\n",
      "      simple_icosahedral_graph      0 bytes  Graphs.#simple_icosahedral_graph\n",
      "                simple_inclist      0 bytes  Graphs.#simple_inclist\n",
      "  simple_krackhardt_kite_graph      0 bytes  Graphs.#simple_krackhardt_kite_gra…\n",
      "       simple_octahedral_graph      0 bytes  Graphs.#simple_octahedral_graph\n",
      "           simple_pappus_graph      0 bytes  Graphs.#simple_pappus_graph\n",
      "             simple_path_graph      0 bytes  Graphs.#simple_path_graph\n",
      "         simple_petersen_graph      0 bytes  Graphs.#simple_petersen_graph\n",
      "   simple_sedgewick_maze_graph      0 bytes  Graphs.#simple_sedgewick_maze_graph\n",
      "             simple_star_graph      0 bytes  Graphs.#simple_star_graph\n",
      "      simple_tetrahedral_graph      0 bytes  Graphs.#simple_tetrahedral_graph\n",
      "   simple_truncated_cube_graph      0 bytes  Graphs.#simple_truncated_cube_graph\n",
      "simple_truncated_tetrahedron_graph      0 bytes  Graphs.#simple_truncated_tetra…\n",
      "            simple_tutte_graph      0 bytes  Graphs.#simple_tutte_graph\n",
      "            simple_wheel_graph      0 bytes  Graphs.#simple_wheel_graph\n",
      "                        source      0 bytes  Graphs.#source\n",
      "          sparse2adjacencylist      0 bytes  Graphs.#sparse2adjacencylist\n"
     ]
    },
    {
     "name": "stdout",
     "output_type": "stream",
     "text": [
      " strongly_connected_components      0 bytes  Graphs.#strongly_connected_compone…\n",
      "                        target      0 bytes  Graphs.#target\n",
      "            test_cyclic_by_dfs      0 bytes  Graphs.#test_cyclic_by_dfs\n",
      "                        to_dot      0 bytes  Graphs.#to_dot\n",
      "       topological_sort_by_dfs      0 bytes  Graphs.#topological_sort_by_dfs\n",
      "                traverse_graph      0 bytes  Graphs.#traverse_graph\n",
      "        traverse_graph_withlog      0 bytes  Graphs.#traverse_graph_withlog\n",
      "                  vertex_index      0 bytes  Graphs.#vertex_index\n",
      "                   vertex_type      0 bytes  Graphs.#vertex_type\n",
      "                      vertices      0 bytes  Graphs.#vertices\n",
      "              visited_vertices      0 bytes  Graphs.#visited_vertices\n",
      "          watts_strogatz_graph      0 bytes  Graphs.#watts_strogatz_graph\n",
      "                 weight_matrix      0 bytes  Graphs.#weight_matrix\n",
      "          weight_matrix_sparse      0 bytes  Graphs.#weight_matrix_sparse\n"
     ]
    }
   ],
   "source": [
    "whos(Graphs)"
   ]
  },
  {
   "cell_type": "markdown",
   "metadata": {},
   "source": [
    "### Example\n",
    "We construct the seven bridges of Konigseberg, plot it, and then compute the number of different walks which can cross 3 bridges on the north side and the central island.\n"
   ]
  },
  {
   "cell_type": "code",
   "execution_count": 30,
   "metadata": {},
   "outputs": [
    {
     "data": {
      "text/plain": [
       "Undirected Graph (4 vertices, 0 edges)"
      ]
     },
     "execution_count": 30,
     "metadata": {},
     "output_type": "execute_result"
    }
   ],
   "source": [
    "g = simple_graph(4, is_directed=false)"
   ]
  },
  {
   "cell_type": "code",
   "execution_count": 31,
   "metadata": {},
   "outputs": [
    {
     "data": {
      "text/plain": [
       "Undirected Graph (4 vertices, 7 edges)"
      ]
     },
     "execution_count": 31,
     "metadata": {},
     "output_type": "execute_result"
    }
   ],
   "source": [
    "add_edge!(g,1,2)\n",
    "add_edge!(g,1,2)\n",
    "add_edge!(g,1,3)\n",
    "add_edge!(g,1,3)\n",
    "add_edge!(g,1,4)\n",
    "add_edge!(g,2,4)\n",
    "add_edge!(g,3,4)\n",
    "g"
   ]
  },
  {
   "cell_type": "code",
   "execution_count": 32,
   "metadata": {},
   "outputs": [
    {
     "name": "stderr",
     "output_type": "stream",
     "text": [
      "WARNING: could not import Base.writemime into IJuliaPortrayals\n"
     ]
    },
    {
     "ename": "LoadError",
     "evalue": "LoadError: \u001b[91mUndefVarError: writemime not defined\u001b[39m\nwhile loading /Users/cdickens/.julia/v0.6/IJuliaPortrayals/src/IJuliaPortrayals.jl, in expression starting on line 254",
     "output_type": "error",
     "traceback": [
      "LoadError: \u001b[91mUndefVarError: writemime not defined\u001b[39m\nwhile loading /Users/cdickens/.julia/v0.6/IJuliaPortrayals/src/IJuliaPortrayals.jl, in expression starting on line 254",
      "",
      "Stacktrace:",
      " [1] \u001b[1minclude_from_node1\u001b[22m\u001b[22m\u001b[1m(\u001b[22m\u001b[22m::String\u001b[1m)\u001b[22m\u001b[22m at \u001b[1m./loading.jl:576\u001b[22m\u001b[22m",
      " [2] \u001b[1meval\u001b[22m\u001b[22m\u001b[1m(\u001b[22m\u001b[22m::Module, ::Any\u001b[1m)\u001b[22m\u001b[22m at \u001b[1m./boot.jl:235\u001b[22m\u001b[22m",
      " [3] \u001b[1m_require\u001b[22m\u001b[22m\u001b[1m(\u001b[22m\u001b[22m::Symbol\u001b[1m)\u001b[22m\u001b[22m at \u001b[1m./loading.jl:490\u001b[22m\u001b[22m",
      " [4] \u001b[1mrequire\u001b[22m\u001b[22m\u001b[1m(\u001b[22m\u001b[22m::Symbol\u001b[1m)\u001b[22m\u001b[22m at \u001b[1m./loading.jl:405\u001b[22m\u001b[22m",
      " [5] \u001b[1minclude_string\u001b[22m\u001b[22m\u001b[1m(\u001b[22m\u001b[22m::String, ::String\u001b[1m)\u001b[22m\u001b[22m at \u001b[1m./loading.jl:522\u001b[22m\u001b[22m"
     ]
    }
   ],
   "source": [
    "using IJuliaPortrayals"
   ]
  },
  {
   "cell_type": "code",
   "execution_count": 33,
   "metadata": {},
   "outputs": [
    {
     "ename": "LoadError",
     "evalue": "\u001b[91mUndefVarError: GraphViz not defined\u001b[39m",
     "output_type": "error",
     "traceback": [
      "\u001b[91mUndefVarError: GraphViz not defined\u001b[39m",
      "",
      "Stacktrace:",
      " [1] \u001b[1minclude_string\u001b[22m\u001b[22m\u001b[1m(\u001b[22m\u001b[22m::String, ::String\u001b[1m)\u001b[22m\u001b[22m at \u001b[1m./loading.jl:522\u001b[22m\u001b[22m"
     ]
    }
   ],
   "source": [
    "GraphViz(to_dot(g),\"neato\", \"svg\")"
   ]
  },
  {
   "cell_type": "code",
   "execution_count": 34,
   "metadata": {},
   "outputs": [
    {
     "data": {
      "text/plain": [
       "4×4 Array{Bool,2}:\n",
       " false   true   true   true\n",
       "  true  false  false   true\n",
       "  true  false  false   true\n",
       "  true   true   true  false"
      ]
     },
     "execution_count": 34,
     "metadata": {},
     "output_type": "execute_result"
    }
   ],
   "source": [
    "a = adjacency_matrix(g)"
   ]
  },
  {
   "cell_type": "code",
   "execution_count": 35,
   "metadata": {},
   "outputs": [
    {
     "data": {
      "text/plain": [
       "7-element Array{Graphs.Edge{Int64},1}:\n",
       " edge [1]: 1 -- 2\n",
       " edge [2]: 1 -- 2\n",
       " edge [3]: 1 -- 3\n",
       " edge [4]: 1 -- 3\n",
       " edge [5]: 1 -- 4\n",
       " edge [6]: 2 -- 4\n",
       " edge [7]: 3 -- 4"
      ]
     },
     "execution_count": 35,
     "metadata": {},
     "output_type": "execute_result"
    }
   ],
   "source": [
    "edges(g)"
   ]
  },
  {
   "cell_type": "code",
   "execution_count": 37,
   "metadata": {},
   "outputs": [
    {
     "data": {
      "text/plain": [
       "4×4 Array{Int64,2}:\n",
       " 0  2  2  1\n",
       " 2  0  0  1\n",
       " 2  0  0  1\n",
       " 1  1  1  0"
      ]
     },
     "execution_count": 37,
     "metadata": {},
     "output_type": "execute_result"
    }
   ],
   "source": [
    "weights = [2, 2, 2, 2, 1, 1, 1]\n",
    "a = weight_matrix(g,weights)"
   ]
  },
  {
   "cell_type": "code",
   "execution_count": 38,
   "metadata": {},
   "outputs": [
    {
     "data": {
      "text/plain": [
       "22"
      ]
     },
     "execution_count": 38,
     "metadata": {},
     "output_type": "execute_result"
    }
   ],
   "source": [
    "num_walks = (a^3)[1,2]"
   ]
  },
  {
   "cell_type": "code",
   "execution_count": null,
   "metadata": {
    "collapsed": true
   },
   "outputs": [],
   "source": []
  }
 ],
 "metadata": {
  "kernelspec": {
   "display_name": "Julia 0.6.1",
   "language": "julia",
   "name": "julia-0.6"
  },
  "language_info": {
   "file_extension": ".jl",
   "mimetype": "application/julia",
   "name": "julia",
   "version": "0.6.1"
  }
 },
 "nbformat": 4,
 "nbformat_minor": 2
}
