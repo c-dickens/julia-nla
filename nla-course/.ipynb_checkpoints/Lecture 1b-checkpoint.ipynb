{
 "cells": [
  {
   "cell_type": "markdown",
   "metadata": {},
   "source": [
    "# Lecture 1b - Julia is fast"
   ]
  },
  {
   "cell_type": "markdown",
   "metadata": {},
   "source": [
    "Julia can explout just in time compilation where compilation is done during the execution of the code as opposed to beforehand.  We aim to write simple and fast programs which contain loops."
   ]
  },
  {
   "cell_type": "code",
   "execution_count": 2,
   "metadata": {},
   "outputs": [
    {
     "data": {
      "text/plain": [
       "f (generic function with 1 method)"
      ]
     },
     "execution_count": 2,
     "metadata": {},
     "output_type": "execute_result"
    }
   ],
   "source": [
    "function f(n)\n",
    "    s = 0\n",
    "    for i =1:n\n",
    "        s += i/2\n",
    "    end\n",
    "    s\n",
    "end"
   ]
  },
  {
   "cell_type": "markdown",
   "metadata": {},
   "source": [
    "the function f must first be compiled (which is automatic) when the function is first invoked."
   ]
  },
  {
   "cell_type": "code",
   "execution_count": 3,
   "metadata": {},
   "outputs": [
    {
     "data": {
      "text/markdown": [
       "```\n",
       "@time\n",
       "```\n",
       "\n",
       "A macro to execute an expression, printing the time it took to execute, the number of allocations, and the total number of bytes its execution caused to be allocated, before returning the value of the expression.\n",
       "\n",
       "See also [`@timev`](@ref), [`@timed`](@ref), [`@elapsed`](@ref), and [`@allocated`](@ref).\n",
       "\n",
       "```julia-repl\n",
       "julia> @time rand(10^6);\n",
       "  0.001525 seconds (7 allocations: 7.630 MiB)\n",
       "\n",
       "julia> @time begin\n",
       "           sleep(0.3)\n",
       "           1+1\n",
       "       end\n",
       "  0.301395 seconds (8 allocations: 336 bytes)\n",
       "```\n"
      ],
      "text/plain": [
       "```\n",
       "@time\n",
       "```\n",
       "\n",
       "A macro to execute an expression, printing the time it took to execute, the number of allocations, and the total number of bytes its execution caused to be allocated, before returning the value of the expression.\n",
       "\n",
       "See also [`@timev`](@ref), [`@timed`](@ref), [`@elapsed`](@ref), and [`@allocated`](@ref).\n",
       "\n",
       "```julia-repl\n",
       "julia> @time rand(10^6);\n",
       "  0.001525 seconds (7 allocations: 7.630 MiB)\n",
       "\n",
       "julia> @time begin\n",
       "           sleep(0.3)\n",
       "           1+1\n",
       "       end\n",
       "  0.301395 seconds (8 allocations: 336 bytes)\n",
       "```\n"
      ]
     },
     "execution_count": 3,
     "metadata": {},
     "output_type": "execute_result"
    }
   ],
   "source": [
    "?@time"
   ]
  },
  {
   "cell_type": "code",
   "execution_count": 4,
   "metadata": {},
   "outputs": [
    {
     "data": {
      "text/markdown": [
       "```\n",
       "@elapsed\n",
       "```\n",
       "\n",
       "A macro to evaluate an expression, discarding the resulting value, instead returning the number of seconds it took to execute as a floating-point number.\n",
       "\n",
       "See also [`@time`](@ref), [`@timev`](@ref), [`@timed`](@ref), and [`@allocated`](@ref).\n",
       "\n",
       "```julia-repl\n",
       "julia> @elapsed sleep(0.3)\n",
       "0.301391426\n",
       "```\n"
      ],
      "text/plain": [
       "```\n",
       "@elapsed\n",
       "```\n",
       "\n",
       "A macro to evaluate an expression, discarding the resulting value, instead returning the number of seconds it took to execute as a floating-point number.\n",
       "\n",
       "See also [`@time`](@ref), [`@timev`](@ref), [`@timed`](@ref), and [`@allocated`](@ref).\n",
       "\n",
       "```julia-repl\n",
       "julia> @elapsed sleep(0.3)\n",
       "0.301391426\n",
       "```\n"
      ]
     },
     "execution_count": 4,
     "metadata": {},
     "output_type": "execute_result"
    }
   ],
   "source": [
    "?@elapsed"
   ]
  },
  {
   "cell_type": "code",
   "execution_count": 5,
   "metadata": {},
   "outputs": [
    {
     "name": "stdout",
     "output_type": "stream",
     "text": [
      "  0.011637 seconds (1.71 k allocations: 92.550 KiB)\n"
     ]
    },
    {
     "data": {
      "text/plain": [
       "0.5"
      ]
     },
     "execution_count": 5,
     "metadata": {},
     "output_type": "execute_result"
    }
   ],
   "source": [
    "@time f(1)"
   ]
  },
  {
   "cell_type": "code",
   "execution_count": 6,
   "metadata": {},
   "outputs": [
    {
     "data": {
      "text/plain": [
       "3.27e-6"
      ]
     },
     "execution_count": 6,
     "metadata": {},
     "output_type": "execute_result"
    }
   ],
   "source": [
    "@elapsed f(1)"
   ]
  },
  {
   "cell_type": "code",
   "execution_count": 7,
   "metadata": {},
   "outputs": [
    {
     "name": "stdout",
     "output_type": "stream",
     "text": [
      "  0.000004 seconds (7 allocations: 208 bytes)\n"
     ]
    },
    {
     "data": {
      "text/plain": [
       "0.5"
      ]
     },
     "execution_count": 7,
     "metadata": {},
     "output_type": "execute_result"
    }
   ],
   "source": [
    "@time f(1)"
   ]
  },
  {
   "cell_type": "markdown",
   "metadata": {},
   "source": [
    "Note that the second runs are significantly faster as the function is already compiled."
   ]
  },
  {
   "cell_type": "code",
   "execution_count": 8,
   "metadata": {},
   "outputs": [
    {
     "name": "stdout",
     "output_type": "stream",
     "text": [
      "  0.035951 seconds (3.00 M allocations: 45.777 MiB, 23.72% gc time)\n"
     ]
    },
    {
     "data": {
      "text/plain": [
       "2.5000025e11"
      ]
     },
     "execution_count": 8,
     "metadata": {},
     "output_type": "execute_result"
    }
   ],
   "source": [
    "@time f(1000000)"
   ]
  },
  {
   "cell_type": "code",
   "execution_count": 9,
   "metadata": {},
   "outputs": [
    {
     "data": {
      "text/plain": [
       "0.031498698"
      ]
     },
     "execution_count": 9,
     "metadata": {},
     "output_type": "execute_result"
    }
   ],
   "source": [
    "@elapsed f(1000000)"
   ]
  },
  {
   "cell_type": "markdown",
   "metadata": {},
   "source": [
    "These invocations are slow due to checking the type of the input variable.  It is quicker to just use a float to avoid garbage collection."
   ]
  },
  {
   "cell_type": "code",
   "execution_count": 10,
   "metadata": {},
   "outputs": [
    {
     "data": {
      "text/plain": [
       "f1 (generic function with 1 method)"
      ]
     },
     "execution_count": 10,
     "metadata": {},
     "output_type": "execute_result"
    }
   ],
   "source": [
    "function f1(n)\n",
    "    s = 0.0\n",
    "    for i=1:n\n",
    "        s += i/2\n",
    "    end\n",
    "    s\n",
    "end"
   ]
  },
  {
   "cell_type": "code",
   "execution_count": 12,
   "metadata": {},
   "outputs": [
    {
     "name": "stdout",
     "output_type": "stream",
     "text": [
      "  0.007774 seconds (1.10 k allocations: 58.491 KiB)\n"
     ]
    },
    {
     "data": {
      "text/plain": [
       "0.5"
      ]
     },
     "execution_count": 12,
     "metadata": {},
     "output_type": "execute_result"
    }
   ],
   "source": [
    "@time f1(1)"
   ]
  },
  {
   "cell_type": "code",
   "execution_count": 13,
   "metadata": {},
   "outputs": [
    {
     "name": "stdout",
     "output_type": "stream",
     "text": [
      "  0.001931 seconds (5 allocations: 176 bytes)\n"
     ]
    },
    {
     "data": {
      "text/plain": [
       "2.5000025e11"
      ]
     },
     "execution_count": 13,
     "metadata": {},
     "output_type": "execute_result"
    }
   ],
   "source": [
    "@time(f1(1000000))"
   ]
  },
  {
   "cell_type": "markdown",
   "metadata": {},
   "source": [
    "## Example - Exponential moving average"
   ]
  },
  {
   "cell_type": "markdown",
   "metadata": {},
   "source": [
    "This method is a one-pass computation used in high-frequency online trading.  The output array $X$ is declared in advance."
   ]
  },
  {
   "cell_type": "code",
   "execution_count": 16,
   "metadata": {},
   "outputs": [
    {
     "data": {
      "text/plain": [
       "fexpma (generic function with 1 method)"
      ]
     },
     "execution_count": 16,
     "metadata": {},
     "output_type": "execute_result"
    }
   ],
   "source": [
    "function fexpma{T}( A::Vector{T}, alpha::T)\n",
    "    # fast exp moving average: X - moving average\n",
    "    # A - data, alpha - exp forgetting factor\n",
    "    n = length(A)\n",
    "    X = Array{T}(n)\n",
    "    beta = one(T) - alpha\n",
    "    X[1] = A[1]\n",
    "    for k=2:n\n",
    "        X[k] = beta*A[k] + alpha*X[k-1]\n",
    "    end\n",
    "    return X\n",
    "end"
   ]
  },
  {
   "cell_type": "code",
   "execution_count": 17,
   "metadata": {},
   "outputs": [
    {
     "data": {
      "text/plain": [
       "1-element Array{Float64,1}:\n",
       " 1.0"
      ]
     },
     "execution_count": 17,
     "metadata": {},
     "output_type": "execute_result"
    }
   ],
   "source": [
    "fexpma([1.0],0.5)"
   ]
  },
  {
   "cell_type": "code",
   "execution_count": 19,
   "metadata": {},
   "outputs": [],
   "source": [
    "A = [rand() + 0.00001*k*rand() for k=1:20_000_000] ; # big dataset "
   ]
  },
  {
   "cell_type": "code",
   "execution_count": 21,
   "metadata": {},
   "outputs": [
    {
     "name": "stdout",
     "output_type": "stream",
     "text": [
      "  0.166132 seconds (6 allocations: 152.588 MiB, 5.41% gc time)\n"
     ]
    },
    {
     "data": {
      "text/plain": [
       "20000000-element Array{Float64,1}:\n",
       "   0.639457\n",
       "   0.582505\n",
       "   0.5388  \n",
       "   0.539344\n",
       "   0.581712\n",
       "   0.532902\n",
       "   0.51557 \n",
       "   0.523951\n",
       "   0.504678\n",
       "   0.51879 \n",
       "   0.519107\n",
       "   0.476467\n",
       "   0.491497\n",
       "   ⋮       \n",
       " 119.606   \n",
       " 120.812   \n",
       " 113.121   \n",
       " 106.248   \n",
       " 103.798   \n",
       "  97.0902  \n",
       "  95.1473  \n",
       " 101.217   \n",
       " 104.188   \n",
       " 108.777   \n",
       " 106.842   \n",
       " 106.042   "
      ]
     },
     "execution_count": 21,
     "metadata": {},
     "output_type": "execute_result"
    }
   ],
   "source": [
    "@time X = fexpma(A, 0.9)"
   ]
  },
  {
   "cell_type": "markdown",
   "metadata": {},
   "source": [
    "## Improving performance by using `@inbounds`"
   ]
  },
  {
   "cell_type": "markdown",
   "metadata": {},
   "source": [
    "The `@inline` command eliminates the checking of array indices, however, one must be certain when using this as it could crash the program.  Gives 40% faster execution of above program."
   ]
  },
  {
   "cell_type": "code",
   "execution_count": 23,
   "metadata": {},
   "outputs": [
    {
     "data": {
      "text/plain": [
       "fexpma (generic function with 1 method)"
      ]
     },
     "execution_count": 23,
     "metadata": {},
     "output_type": "execute_result"
    }
   ],
   "source": [
    "function fexpma{T}( A::Vector{T}, α::T )\n",
    "# fast exponential moving average: X - moving average, \n",
    "# A - data, alpha - exponential forgetting parameter\n",
    "    n = length(A)\n",
    "    X = Array{T}(n) # Declare X\n",
    "    β = one(T)-α\n",
    "    X[1] = A[1]\n",
    "    @inbounds for k = 2:n\n",
    "        X[k] = β*A[k] + α*X[k-1]\n",
    "    end\n",
    "    return X\n",
    "end"
   ]
  },
  {
   "cell_type": "code",
   "execution_count": 26,
   "metadata": {},
   "outputs": [
    {
     "name": "stdout",
     "output_type": "stream",
     "text": [
      "  0.196240 seconds (6 allocations: 152.588 MiB, 27.08% gc time)\n"
     ]
    },
    {
     "data": {
      "text/plain": [
       "20000000-element Array{Float64,1}:\n",
       "   0.639457\n",
       "   0.582505\n",
       "   0.5388  \n",
       "   0.539344\n",
       "   0.581712\n",
       "   0.532902\n",
       "   0.51557 \n",
       "   0.523951\n",
       "   0.504678\n",
       "   0.51879 \n",
       "   0.519107\n",
       "   0.476467\n",
       "   0.491497\n",
       "   ⋮       \n",
       " 119.606   \n",
       " 120.812   \n",
       " 113.121   \n",
       " 106.248   \n",
       " 103.798   \n",
       "  97.0902  \n",
       "  95.1473  \n",
       " 101.217   \n",
       " 104.188   \n",
       " 108.777   \n",
       " 106.842   \n",
       " 106.042   "
      ]
     },
     "execution_count": 26,
     "metadata": {},
     "output_type": "execute_result"
    }
   ],
   "source": [
    "@time X=fexpma(A,0.9)"
   ]
  },
  {
   "cell_type": "markdown",
   "metadata": {},
   "source": [
    "## Plotting the moving average "
   ]
  },
  {
   "cell_type": "markdown",
   "metadata": {},
   "source": [
    "We can plot the data $A$ and its expo moving average.  The dimension of the data is too large so we can just slice through some of the data."
   ]
  },
  {
   "cell_type": "code",
   "execution_count": 30,
   "metadata": {},
   "outputs": [
    {
     "name": "stderr",
     "output_type": "stream",
     "text": [
      "\u001b[1m\u001b[36mINFO: \u001b[39m\u001b[22m\u001b[36mPrecompiling module Cairo.\n",
      "\u001b[39m\u001b[1m\u001b[36mINFO: \u001b[39m\u001b[22m\u001b[36mPrecompiling module IniFile.\n",
      "\u001b[39m\u001b[1m\u001b[36mINFO: \u001b[39m\u001b[22m\u001b[36mPrecompiling module StatsBase.\n",
      "\u001b[39m\u001b[1m\u001b[36mINFO: \u001b[39m\u001b[22m\u001b[36mPrecompiling module Interact.\n",
      "\u001b[39m"
     ]
    },
    {
     "data": {
      "text/html": [
       "<div id=\"interact-js-shim\">\n",
       "    <script charset=\"utf-8\">\n",
       "(function (IPython, $, _, MathJax) {\n",
       "    $.event.special.destroyed = {\n",
       "\tremove: function(o) {\n",
       "\t    if (o.handler) {\n",
       "\t\to.handler.apply(this, arguments)\n",
       "\t    }\n",
       "\t}\n",
       "    }\n",
       "\n",
       "    var OutputArea = IPython.version >= \"4.0.0\" ? require(\"notebook/js/outputarea\").OutputArea : IPython.OutputArea;\n",
       "\n",
       "    var redrawValue = function (container, type, val) {\n",
       "\tvar selector = $(\"<div/>\");\n",
       "\tvar oa = new OutputArea(_.extend(selector, {\n",
       "\t    selector: selector,\n",
       "\t    prompt_area: true,\n",
       "\t    events: IPython.events,\n",
       "\t    keyboard_manager: IPython.keyboard_manager\n",
       "\t})); // Hack to work with IPython 2.1.0\n",
       "\n",
       "\tswitch (type) {\n",
       "\tcase \"image/png\":\n",
       "            var _src = 'data:' + type + ';base64,' + val;\n",
       "\t    $(container).find(\"img\").attr('src', _src);\n",
       "\t    break;\n",
       "\tcase \"text/latex\":\n",
       "\t\tif (MathJax){\n",
       "\t\t\tvar math = MathJax.Hub.getAllJax(container)[0];\n",
       "\t\t\tMathJax.Hub.Queue([\"Text\", math, val.replace(/^\\${1,2}|\\${1,2}$/g, '')]);\n",
       "\t\t\tbreak;\n",
       "\t\t}\n",
       "\tdefault:\n",
       "\t    var toinsert = OutputArea.append_map[type].apply(\n",
       "\t\toa, [val, {}, selector]\n",
       "\t    );\n",
       "\t    $(container).empty().append(toinsert.contents());\n",
       "\t    selector.remove();\n",
       "\t}\n",
       "    }\n",
       "\n",
       "\n",
       "    $(document).ready(function() {\n",
       "\tfunction initComm(evt, data) {\n",
       "\t    var comm_manager = data.kernel.comm_manager;\n",
       "        //_.extend(comm_manager.targets, require(\"widgets/js/widget\"))\n",
       "\t    comm_manager.register_target(\"Signal\", function (comm) {\n",
       "            comm.on_msg(function (msg) {\n",
       "                var val = msg.content.data.value;\n",
       "                $(\".signal-\" + comm.comm_id).each(function() {\n",
       "                var type = $(this).data(\"type\");\n",
       "                if (typeof(val[type]) !== \"undefined\" && val[type] !== null) {\n",
       "                    redrawValue(this, type, val[type], type);\n",
       "                }\n",
       "                });\n",
       "                delete val;\n",
       "                delete msg.content.data.value;\n",
       "            });\n",
       "\t    });\n",
       "\n",
       "\t    // coordingate with Comm and redraw Signals\n",
       "\t    // XXX: Test using Reactive here to improve performance\n",
       "\t    $([IPython.events]).on(\n",
       "\t\t'output_appended.OutputArea', function (event, type, value, md, toinsert) {\n",
       "\t\t    if (md && md.reactive) {\n",
       "                // console.log(md.comm_id);\n",
       "                toinsert.addClass(\"signal-\" + md.comm_id);\n",
       "                toinsert.data(\"type\", type);\n",
       "                // Signal back indicating the mimetype required\n",
       "                var comm_manager = IPython.notebook.kernel.comm_manager;\n",
       "                var comm = comm_manager.comms[md.comm_id];\n",
       "                comm.then(function (c) {\n",
       "                    c.send({action: \"subscribe_mime\",\n",
       "                       mime: type});\n",
       "                    toinsert.bind(\"destroyed\", function() {\n",
       "                        c.send({action: \"unsubscribe_mime\",\n",
       "                               mime: type});\n",
       "                    });\n",
       "                })\n",
       "\t\t    }\n",
       "\t    });\n",
       "\t}\n",
       "\n",
       "\ttry {\n",
       "\t    // try to initialize right away. otherwise, wait on the status_started event.\n",
       "\t    initComm(undefined, IPython.notebook);\n",
       "\t} catch (e) {\n",
       "\t    $([IPython.events]).on('kernel_created.Kernel kernel_created.Session', initComm);\n",
       "\t}\n",
       "    });\n",
       "})(IPython, jQuery, _, MathJax);\n",
       "</script>\n",
       "    <script>\n",
       "        window.interactLoadedFlag = true\n",
       "       $(\"#interact-js-shim\").bind(\"destroyed\", function () {\n",
       "           if (window.interactLoadedFlag) {\n",
       "               console.warn(\"JavaScript required by Interact will be removed if you remove this cell or run using Interact more than once.\")\n",
       "           }\n",
       "       })\n",
       "       $([IPython.events]).on(\"kernel_starting.Kernel kernel_restarting.Kernel\", function () { window.interactLoadedFlag = false })\n",
       "   </script>\n",
       "</div>"
      ]
     },
     "metadata": {},
     "output_type": "display_data"
    },
    {
     "name": "stderr",
     "output_type": "stream",
     "text": [
      "WARNING: using Interact.select in module Main conflicts with an existing identifier.\n"
     ]
    }
   ],
   "source": [
    "using Winston\n",
    "using Interact"
   ]
  },
  {
   "cell_type": "code",
   "execution_count": 31,
   "metadata": {},
   "outputs": [
    {
     "data": {
      "application/vnd.jupyter.widget-view+json": {
       "model_id": "efbd381c-6b08-4de7-80a0-62234c9bae25",
       "version_major": 2,
       "version_minor": 0
      }
     },
     "metadata": {},
     "output_type": "display_data"
    },
    {
     "data": {
      "text/html": [],
      "text/plain": [
       "Interact.Options{:SelectionSlider,Any}(1: \"input\" = 9999001 Any , \"k\", 9999001, \"9999001\", 10000, Interact.OptionDict(DataStructures.OrderedDict{Any,Any}(\"1\"=>1,\"1001\"=>1001,\"2001\"=>2001,\"3001\"=>3001,\"4001\"=>4001,\"5001\"=>5001,\"6001\"=>6001,\"7001\"=>7001,\"8001\"=>8001,\"9001\"=>9001…), Dict{Any,Any}(Pair{Any,Any}(3454001, \"3454001\"),Pair{Any,Any}(12015001, \"12015001\"),Pair{Any,Any}(18813001, \"18813001\"),Pair{Any,Any}(447001, \"447001\"),Pair{Any,Any}(39001, \"39001\"),Pair{Any,Any}(6157001, \"6157001\"),Pair{Any,Any}(5292001, \"5292001\"),Pair{Any,Any}(3713001, \"3713001\"),Pair{Any,Any}(12507001, \"12507001\"),Pair{Any,Any}(14797001, \"14797001\")…)), Any[], Any[], true, \"horizontal\")"
      ]
     },
     "metadata": {},
     "output_type": "display_data"
    },
    {
     "data": {
      "image/png": "[encoded data removed]",
      "text/plain": [
       "Winston.FramedPlot(...)"
      ]
     },
     "execution_count": 31,
     "metadata": {
      "comm_id": "498439b6-df7c-4463-91c3-45071545a086",
      "reactive": true
     },
     "output_type": "execute_result"
    },
    {
     "name": "stderr",
     "output_type": "stream",
     "text": [
      "IOPub data rate exceeded.\n",
      "The notebook server will temporarily stop sending output\n",
      "to the client in order to avoid crashing it.\n",
      "To change this limit, set the config variable\n",
      "`--NotebookApp.iopub_data_rate_limit`.\n",
      "\n",
      "\u001b[91mBoundsError: attempt to access 20000000-element Array{Float64,1} at index [19999001:20000001]\u001b[39mFailed to push!\n",
      "    19999001\n",
      "to node\n",
      "    1: \"input\" = 19999001 Any (active)\n",
      "\n",
      "error at node: 3: \"map(input)-2\" = Winston.FramedPlot(...) Any (active)throw_boundserror(::Array{Float64,1}, ::Tuple{UnitRange{Int64}}) at ./abstractarray.jl:434\n",
      "checkbounds at ./abstractarray.jl:362 [inlined]\n",
      "getindex(::Array{Float64,1}, ::UnitRange{Int64}) at ./array.jl:560\n",
      "(::Reactive.##33#34{##37#38,Reactive.Signal{Any},Tuple{Reactive.Signal{Any}}})() at /Users/cdickens/.julia/v0.6/Reactive/src/operators.jl:39\n",
      "foreach(::Reactive.#runaction, ::Array{Function,1}) at ./abstractarray.jl:1733\n",
      "run_node(::Reactive.Signal{Any}) at /Users/cdickens/.julia/v0.6/Reactive/src/core.jl:312\n",
      "run_push(::Reactive.Signal{Any}, ::Int64, ::Reactive.#print_error, ::Bool) at /Users/cdickens/.julia/v0.6/Reactive/src/core.jl:330\n",
      "run_push(::Reactive.Signal{Any}, ::Int64, ::Function) at /Users/cdickens/.julia/v0.6/Reactive/src/core.jl:317\n",
      "run(::Int64) at /Users/cdickens/.julia/v0.6/Reactive/src/core.jl:277\n",
      "(::Reactive.##27#29)() at ./task.jl:335\n",
      "Failed to push!\n",
      "    19999001\n",
      "to node\n",
      "    1: \"input\" = 19999001 Any (active)\n",
      "\n",
      "error at node: 3: \"map(input)-2\" = Winston.FramedPlot(...) Any (active)\n",
      "\u001b[91mBoundsError: attempt to access 20000000-element Array{Float64,1} at index [19999001:20000001]\u001b[39m\n",
      "throw_boundserror(::Array{Float64,1}, ::Tuple{UnitRange{Int64}}) at ./abstractarray.jl:434\n",
      "checkbounds at ./abstractarray.jl:362 [inlined]\n",
      "getindex(::Array{Float64,1}, ::UnitRange{Int64}) at ./array.jl:560\n",
      "(::Reactive.##33#34{##37#38,Reactive.Signal{Any},Tuple{Reactive.Signal{Any}}})() at /Users/cdickens/.julia/v0.6/Reactive/src/operators.jl:39\n",
      "foreach(::Reactive.#runaction, ::Array{Function,1}) at ./abstractarray.jl:1733\n",
      "run_node(::Reactive.Signal{Any}) at /Users/cdickens/.julia/v0.6/Reactive/src/core.jl:312\n",
      "run_push(::Reactive.Signal{Any}, ::Int64, ::Reactive.#print_error, ::Bool) at /Users/cdickens/.julia/v0.6/Reactive/src/core.jl:330\n",
      "run_push(::Reactive.Signal{Any}, ::Int64, ::Function) at /Users/cdickens/.julia/v0.6/Reactive/src/core.jl:317\n",
      "run(::Int64) at /Users/cdickens/.julia/v0.6/Reactive/src/core.jl:277\n",
      "(::Reactive.##27#29)() at ./task.jl:335\n",
      "Failed to push!\n",
      "    19999001\n",
      "to node\n",
      "    1: \"input\" = 19999001 Any (active)\n",
      "\n",
      "error at node: 3: \"map(input)-2\" = Winston.FramedPlot(...) Any (active)\n",
      "\u001b[91mBoundsError: attempt to access 20000000-element Array{Float64,1} at index [19999001:20000001]\u001b[39m\n",
      "throw_boundserror(::Array{Float64,1}, ::Tuple{UnitRange{Int64}}) at ./abstractarray.jl:434\n",
      "checkbounds at ./abstractarray.jl:362 [inlined]\n",
      "getindex(::Array{Float64,1}, ::UnitRange{Int64}) at ./array.jl:560\n",
      "(::Reactive.##33#34{##37#38,Reactive.Signal{Any},Tuple{Reactive.Signal{Any}}})() at /Users/cdickens/.julia/v0.6/Reactive/src/operators.jl:39\n",
      "foreach(::Reactive.#runaction, ::Array{Function,1}) at ./abstractarray.jl:1733\n",
      "run_node(::Reactive.Signal{Any}) at /Users/cdickens/.julia/v0.6/Reactive/src/core.jl:312\n",
      "run_push(::Reactive.Signal{Any}, ::Int64, ::Reactive.#print_error, ::Bool) at /Users/cdickens/.julia/v0.6/Reactive/src/core.jl:330\n",
      "run_push(::Reactive.Signal{Any}, ::Int64, ::Function) at /Users/cdickens/.julia/v0.6/Reactive/src/core.jl:317\n",
      "run(::Int64) at /Users/cdickens/.julia/v0.6/Reactive/src/core.jl:277\n",
      "(::Reactive.##27#29)() at ./task.jl:335\n",
      "Failed to push!\n",
      "    19999001\n",
      "to node\n",
      "    1: \"input\" = 19999001 Any (active)\n",
      "\n",
      "error at node: 3: \"map(input)-2\" = Winston.FramedPlot(...) Any (active)\n",
      "\u001b[91mBoundsError: attempt to access 20000000-element Array{Float64,1} at index [19999001:20000001]\u001b[39m\n",
      "throw_boundserror(::Array{Float64,1}, ::Tuple{UnitRange{Int64}}) at ./abstractarray.jl:434\n",
      "checkbounds at ./abstractarray.jl:362 [inlined]\n",
      "getindex(::Array{Float64,1}, ::UnitRange{Int64}) at ./array.jl:560\n",
      "(::Reactive.##33#34{##37#38,Reactive.Signal{Any},Tuple{Reactive.Signal{Any}}})() at /Users/cdickens/.julia/v0.6/Reactive/src/operators.jl:39\n",
      "foreach(::Reactive.#runaction, ::Array{Function,1}) at ./abstractarray.jl:1733\n",
      "run_node(::Reactive.Signal{Any}) at /Users/cdickens/.julia/v0.6/Reactive/src/core.jl:312\n",
      "run_push(::Reactive.Signal{Any}, ::Int64, ::Reactive.#print_error, ::Bool) at /Users/cdickens/.julia/v0.6/Reactive/src/core.jl:330\n",
      "run_push(::Reactive.Signal{Any}, ::Int64, ::Function) at /Users/cdickens/.julia/v0.6/Reactive/src/core.jl:317\n",
      "run(::Int64) at /Users/cdickens/.julia/v0.6/Reactive/src/core.jl:277\n",
      "(::Reactive.##27#29)() at ./task.jl:335\n",
      "Failed to push!\n",
      "    19999001\n",
      "to node\n",
      "    1: \"input\" = 19999001 Any (active)\n",
      "\n",
      "error at node: 3: \"map(input)-2\" = Winston.FramedPlot(...) Any (active)\n",
      "\u001b[91mBoundsError: attempt to access 20000000-element Array{Float64,1} at index [19999001:20000001]\u001b[39m\n",
      "throw_boundserror(::Array{Float64,1}, ::Tuple{UnitRange{Int64}}) at ./abstractarray.jl:434\n",
      "checkbounds at ./abstractarray.jl:362 [inlined]\n",
      "getindex(::Array{Float64,1}, ::UnitRange{Int64}) at ./array.jl:560\n",
      "(::Reactive.##33#34{##37#38,Reactive.Signal{Any},Tuple{Reactive.Signal{Any}}})() at /Users/cdickens/.julia/v0.6/Reactive/src/operators.jl:39\n",
      "foreach(::Reactive.#runaction, ::Array{Function,1}) at ./abstractarray.jl:1733\n",
      "run_node(::Reactive.Signal{Any}) at /Users/cdickens/.julia/v0.6/Reactive/src/core.jl:312\n",
      "run_push(::Reactive.Signal{Any}, ::Int64, ::Reactive.#print_error, ::Bool) at /Users/cdickens/.julia/v0.6/Reactive/src/core.jl:330\n",
      "run_push(::Reactive.Signal{Any}, ::Int64, ::Function) at /Users/cdickens/.julia/v0.6/Reactive/src/core.jl:317\n",
      "run(::Int64) at /Users/cdickens/.julia/v0.6/Reactive/src/core.jl:277\n",
      "(::Reactive.##27#29)() at ./task.jl:335\n",
      "IOPub data rate exceeded.\n",
      "The notebook server will temporarily stop sending output\n",
      "to the client in order to avoid crashing it.\n",
      "To change this limit, set the config variable\n",
      "`--NotebookApp.iopub_data_rate_limit`.\n",
      "IOPub data rate exceeded.\n",
      "The notebook server will temporarily stop sending output\n",
      "to the client in order to avoid crashing it.\n",
      "To change this limit, set the config variable\n",
      "`--NotebookApp.iopub_data_rate_limit`.\n",
      "IOPub data rate exceeded.\n",
      "The notebook server will temporarily stop sending output\n",
      "to the client in order to avoid crashing it.\n",
      "To change this limit, set the config variable\n",
      "`--NotebookApp.iopub_data_rate_limit`.\n",
      "IOPub data rate exceeded.\n",
      "The notebook server will temporarily stop sending output\n",
      "to the client in order to avoid crashing it.\n",
      "To change this limit, set the config variable\n",
      "`--NotebookApp.iopub_data_rate_limit`.\n",
      "IOPub data rate exceeded.\n",
      "The notebook server will temporarily stop sending output\n",
      "to the client in order to avoid crashing it.\n",
      "To change this limit, set the config variable\n",
      "`--NotebookApp.iopub_data_rate_limit`.\n",
      "IOPub data rate exceeded.\n",
      "The notebook server will temporarily stop sending output\n",
      "to the client in order to avoid crashing it.\n",
      "To change this limit, set the config variable\n",
      "`--NotebookApp.iopub_data_rate_limit`.\n"
     ]
    }
   ],
   "source": [
    "@manipulate for k=1:1000:20000000\n",
    "    plot(collect(k:k+1000), A[k:k+1000], \"r.\",\n",
    "        collect(k:k+1000), X[k:k+1000], \"b\")\n",
    "end"
   ]
  },
  {
   "cell_type": "markdown",
   "metadata": {},
   "source": [
    "## Preallocating output"
   ]
  },
  {
   "cell_type": "markdown",
   "metadata": {},
   "source": [
    "We show two methods for computing the sum of the first $i$ integers for a large upper limit."
   ]
  },
  {
   "cell_type": "code",
   "execution_count": 36,
   "metadata": {},
   "outputs": [
    {
     "data": {
      "text/plain": [
       "loopinc_prealloc (generic function with 1 method)"
      ]
     },
     "execution_count": 36,
     "metadata": {},
     "output_type": "execute_result"
    }
   ],
   "source": [
    "function xinc(x)\n",
    "    return [x,x+1,x+2]\n",
    "end\n",
    "\n",
    "function loopinc()\n",
    "    y = 0\n",
    "    for i=1:10^7\n",
    "        ret = xinc(i)\n",
    "        y += ret[2]\n",
    "    end\n",
    "    y\n",
    "end\n",
    "\n",
    "function xinc!{T}(ret::AbstractVector{T}, x::T)\n",
    "    ret[1] = x\n",
    "    ret[2] = x+1\n",
    "    ret[3] = x+2\n",
    "    nothing\n",
    "end\n",
    "\n",
    "function loopinc_prealloc()\n",
    "    ret = Array{Int}(3)\n",
    "    y = 0\n",
    "    for i = 1:10^7\n",
    "        xinc!(ret, i)\n",
    "        y += ret[2]\n",
    "    end\n",
    "    y\n",
    "end"
   ]
  },
  {
   "cell_type": "code",
   "execution_count": 37,
   "metadata": {},
   "outputs": [
    {
     "name": "stdout",
     "output_type": "stream",
     "text": [
      "  0.646578 seconds (40.00 M allocations: 1.490 GiB, 18.57% gc time)\n"
     ]
    },
    {
     "data": {
      "text/plain": [
       "50000015000000"
      ]
     },
     "execution_count": 37,
     "metadata": {},
     "output_type": "execute_result"
    }
   ],
   "source": [
    "@time loopinc()"
   ]
  },
  {
   "cell_type": "code",
   "execution_count": 38,
   "metadata": {},
   "outputs": [
    {
     "name": "stdout",
     "output_type": "stream",
     "text": [
      "  0.038617 seconds (2.09 k allocations: 114.452 KiB)\n"
     ]
    },
    {
     "data": {
      "text/plain": [
       "50000015000000"
      ]
     },
     "execution_count": 38,
     "metadata": {},
     "output_type": "execute_result"
    }
   ],
   "source": [
    "@time loopinc_prealloc()"
   ]
  },
  {
   "cell_type": "markdown",
   "metadata": {},
   "source": [
    "Note that arrays should be written in 0.6 as `array{type}(value)`."
   ]
  },
  {
   "cell_type": "markdown",
   "metadata": {},
   "source": [
    "## Memory access "
   ]
  },
  {
   "cell_type": "markdown",
   "metadata": {},
   "source": [
    "Multidimensional arrays in Julia are stored in column-major order so are stacked one column at a time.  This is consistent with MATLAB and Fortran but contrast C and Python."
   ]
  },
  {
   "cell_type": "code",
   "execution_count": 39,
   "metadata": {},
   "outputs": [
    {
     "data": {
      "text/plain": [
       "4×3 Array{Int64,2}:\n",
       " 7  9  7\n",
       " 3  1  8\n",
       " 3  7  7\n",
       " 5  3  4"
      ]
     },
     "execution_count": 39,
     "metadata": {},
     "output_type": "execute_result"
    }
   ],
   "source": [
    "B = rand(0:9,4,3) # 4 by 3 matrix of random ints in [0,9]"
   ]
  },
  {
   "cell_type": "code",
   "execution_count": 41,
   "metadata": {},
   "outputs": [
    {
     "data": {
      "text/plain": [
       "12-element Array{Int64,1}:\n",
       " 7\n",
       " 3\n",
       " 3\n",
       " 5\n",
       " 9\n",
       " 1\n",
       " 7\n",
       " 3\n",
       " 7\n",
       " 8\n",
       " 7\n",
       " 4"
      ]
     },
     "execution_count": 41,
     "metadata": {},
     "output_type": "execute_result"
    }
   ],
   "source": [
    "B[:] # linear ordering of elements"
   ]
  },
  {
   "cell_type": "code",
   "execution_count": 42,
   "metadata": {},
   "outputs": [
    {
     "data": {
      "text/plain": [
       "12-element Array{Int64,1}:\n",
       " 7\n",
       " 3\n",
       " 3\n",
       " 5\n",
       " 9\n",
       " 1\n",
       " 7\n",
       " 3\n",
       " 7\n",
       " 8\n",
       " 7\n",
       " 4"
      ]
     },
     "execution_count": 42,
     "metadata": {},
     "output_type": "execute_result"
    }
   ],
   "source": [
    "vec(B)"
   ]
  },
  {
   "cell_type": "markdown",
   "metadata": {},
   "source": [
    "Ordering of arrays can have significant performance effects.  It is important to organise loops of entries which are close to each other in physical memory.  \n",
    "\n",
    "The following function accpets a vector and returns a square Array with the rows/cols filled with copies of input vector."
   ]
  },
  {
   "cell_type": "code",
   "execution_count": 45,
   "metadata": {},
   "outputs": [
    {
     "data": {
      "text/plain": [
       "copy_rows (generic function with 1 method)"
      ]
     },
     "execution_count": 45,
     "metadata": {},
     "output_type": "execute_result"
    }
   ],
   "source": [
    "function copy_cols{T}(x::Vector{T})\n",
    "    n = size(x,1)\n",
    "    out = Array{eltype(x)}(n,n)\n",
    "    for i=1:n\n",
    "        out[:,i] = x\n",
    "    end\n",
    "    out\n",
    "end\n",
    "\n",
    "function copy_rows{T}(x::Vector{T})\n",
    "    n = size(x,1)\n",
    "    out = Array{eltype(x)}(n,n)\n",
    "    for i=1:n\n",
    "        out[i,:] = x\n",
    "    end\n",
    "    out\n",
    "end"
   ]
  },
  {
   "cell_type": "code",
   "execution_count": 46,
   "metadata": {},
   "outputs": [
    {
     "data": {
      "text/plain": [
       "2×2 Array{Float64,2}:\n",
       " 1.0  2.0\n",
       " 1.0  2.0"
      ]
     },
     "execution_count": 46,
     "metadata": {},
     "output_type": "execute_result"
    }
   ],
   "source": [
    "copy_cols([1.0,2])\n",
    "copy_rows([1.0,2])"
   ]
  },
  {
   "cell_type": "code",
   "execution_count": 47,
   "metadata": {},
   "outputs": [
    {
     "data": {
      "text/plain": [
       "5000-element Array{Float64,1}:\n",
       " 0.32602   \n",
       " 0.418829  \n",
       " 0.389087  \n",
       " 0.00699664\n",
       " 0.239262  \n",
       " 0.546297  \n",
       " 0.958796  \n",
       " 0.253821  \n",
       " 0.520875  \n",
       " 0.01778   \n",
       " 0.804453  \n",
       " 0.586843  \n",
       " 0.428846  \n",
       " ⋮         \n",
       " 0.85986   \n",
       " 0.914806  \n",
       " 0.897145  \n",
       " 0.606293  \n",
       " 0.329867  \n",
       " 0.31288   \n",
       " 0.0740935 \n",
       " 0.364871  \n",
       " 0.408707  \n",
       " 0.214853  \n",
       " 0.68234   \n",
       " 0.216695  "
      ]
     },
     "execution_count": 47,
     "metadata": {},
     "output_type": "execute_result"
    }
   ],
   "source": [
    "x=rand(5000) # generate a random vector"
   ]
  },
  {
   "cell_type": "code",
   "execution_count": 48,
   "metadata": {},
   "outputs": [
    {
     "name": "stdout",
     "output_type": "stream",
     "text": [
      "  0.124493 seconds (9.50 k allocations: 190.880 MiB, 6.62% gc time)\n"
     ]
    },
    {
     "data": {
      "text/plain": [
       "5000×5000 Array{Float64,2}:\n",
       " 0.32602     0.32602     0.32602     …  0.32602     0.32602     0.32602   \n",
       " 0.418829    0.418829    0.418829       0.418829    0.418829    0.418829  \n",
       " 0.389087    0.389087    0.389087       0.389087    0.389087    0.389087  \n",
       " 0.00699664  0.00699664  0.00699664     0.00699664  0.00699664  0.00699664\n",
       " 0.239262    0.239262    0.239262       0.239262    0.239262    0.239262  \n",
       " 0.546297    0.546297    0.546297    …  0.546297    0.546297    0.546297  \n",
       " 0.958796    0.958796    0.958796       0.958796    0.958796    0.958796  \n",
       " 0.253821    0.253821    0.253821       0.253821    0.253821    0.253821  \n",
       " 0.520875    0.520875    0.520875       0.520875    0.520875    0.520875  \n",
       " 0.01778     0.01778     0.01778        0.01778     0.01778     0.01778   \n",
       " 0.804453    0.804453    0.804453    …  0.804453    0.804453    0.804453  \n",
       " 0.586843    0.586843    0.586843       0.586843    0.586843    0.586843  \n",
       " 0.428846    0.428846    0.428846       0.428846    0.428846    0.428846  \n",
       " ⋮                                   ⋱                                    \n",
       " 0.85986     0.85986     0.85986        0.85986     0.85986     0.85986   \n",
       " 0.914806    0.914806    0.914806       0.914806    0.914806    0.914806  \n",
       " 0.897145    0.897145    0.897145    …  0.897145    0.897145    0.897145  \n",
       " 0.606293    0.606293    0.606293       0.606293    0.606293    0.606293  \n",
       " 0.329867    0.329867    0.329867       0.329867    0.329867    0.329867  \n",
       " 0.31288     0.31288     0.31288        0.31288     0.31288     0.31288   \n",
       " 0.0740935   0.0740935   0.0740935      0.0740935   0.0740935   0.0740935 \n",
       " 0.364871    0.364871    0.364871    …  0.364871    0.364871    0.364871  \n",
       " 0.408707    0.408707    0.408707       0.408707    0.408707    0.408707  \n",
       " 0.214853    0.214853    0.214853       0.214853    0.214853    0.214853  \n",
       " 0.68234     0.68234     0.68234        0.68234     0.68234     0.68234   \n",
       " 0.216695    0.216695    0.216695       0.216695    0.216695    0.216695  "
      ]
     },
     "execution_count": 48,
     "metadata": {},
     "output_type": "execute_result"
    }
   ],
   "source": [
    "@time C=copy_cols(x)  # We generate a large matrix"
   ]
  },
  {
   "cell_type": "code",
   "execution_count": 49,
   "metadata": {},
   "outputs": [
    {
     "name": "stdout",
     "output_type": "stream",
     "text": [
      "  0.296505 seconds (9.50 k allocations: 190.880 MiB, 2.04% gc time)\n"
     ]
    },
    {
     "data": {
      "text/plain": [
       "5000×5000 Array{Float64,2}:\n",
       " 0.32602  0.418829  0.389087  0.00699664  …  0.214853  0.68234  0.216695\n",
       " 0.32602  0.418829  0.389087  0.00699664     0.214853  0.68234  0.216695\n",
       " 0.32602  0.418829  0.389087  0.00699664     0.214853  0.68234  0.216695\n",
       " 0.32602  0.418829  0.389087  0.00699664     0.214853  0.68234  0.216695\n",
       " 0.32602  0.418829  0.389087  0.00699664     0.214853  0.68234  0.216695\n",
       " 0.32602  0.418829  0.389087  0.00699664  …  0.214853  0.68234  0.216695\n",
       " 0.32602  0.418829  0.389087  0.00699664     0.214853  0.68234  0.216695\n",
       " 0.32602  0.418829  0.389087  0.00699664     0.214853  0.68234  0.216695\n",
       " 0.32602  0.418829  0.389087  0.00699664     0.214853  0.68234  0.216695\n",
       " 0.32602  0.418829  0.389087  0.00699664     0.214853  0.68234  0.216695\n",
       " 0.32602  0.418829  0.389087  0.00699664  …  0.214853  0.68234  0.216695\n",
       " 0.32602  0.418829  0.389087  0.00699664     0.214853  0.68234  0.216695\n",
       " 0.32602  0.418829  0.389087  0.00699664     0.214853  0.68234  0.216695\n",
       " ⋮                                        ⋱                             \n",
       " 0.32602  0.418829  0.389087  0.00699664     0.214853  0.68234  0.216695\n",
       " 0.32602  0.418829  0.389087  0.00699664     0.214853  0.68234  0.216695\n",
       " 0.32602  0.418829  0.389087  0.00699664  …  0.214853  0.68234  0.216695\n",
       " 0.32602  0.418829  0.389087  0.00699664     0.214853  0.68234  0.216695\n",
       " 0.32602  0.418829  0.389087  0.00699664     0.214853  0.68234  0.216695\n",
       " 0.32602  0.418829  0.389087  0.00699664     0.214853  0.68234  0.216695\n",
       " 0.32602  0.418829  0.389087  0.00699664     0.214853  0.68234  0.216695\n",
       " 0.32602  0.418829  0.389087  0.00699664  …  0.214853  0.68234  0.216695\n",
       " 0.32602  0.418829  0.389087  0.00699664     0.214853  0.68234  0.216695\n",
       " 0.32602  0.418829  0.389087  0.00699664     0.214853  0.68234  0.216695\n",
       " 0.32602  0.418829  0.389087  0.00699664     0.214853  0.68234  0.216695\n",
       " 0.32602  0.418829  0.389087  0.00699664     0.214853  0.68234  0.216695"
      ]
     },
     "execution_count": 49,
     "metadata": {},
     "output_type": "execute_result"
    }
   ],
   "source": [
    "@time D=copy_rows(x) # This is several times slower"
   ]
  },
  {
   "cell_type": "markdown",
   "metadata": {},
   "source": [
    "Remark: there is also a built-in function, `repmat()`"
   ]
  },
  {
   "cell_type": "code",
   "execution_count": 50,
   "metadata": {},
   "outputs": [
    {
     "name": "stdout",
     "output_type": "stream",
     "text": [
      "search: \u001b[1mr\u001b[22m\u001b[1me\u001b[22m\u001b[1mp\u001b[22m\u001b[1mm\u001b[22m\u001b[1ma\u001b[22m\u001b[1mt\u001b[22m\n",
      "\n"
     ]
    },
    {
     "data": {
      "text/markdown": [
       "```\n",
       "repmat(A, m::Integer, n::Integer=1)\n",
       "```\n",
       "\n",
       "Construct a matrix by repeating the given matrix (or vector) `m` times in dimension 1 and `n` times in dimension 2.\n",
       "\n",
       "# Examples\n",
       "\n",
       "```jldoctest\n",
       "julia> repmat([1, 2, 3], 2)\n",
       "6-element Array{Int64,1}:\n",
       " 1\n",
       " 2\n",
       " 3\n",
       " 1\n",
       " 2\n",
       " 3\n",
       "\n",
       "julia> repmat([1, 2, 3], 2, 3)\n",
       "6×3 Array{Int64,2}:\n",
       " 1  1  1\n",
       " 2  2  2\n",
       " 3  3  3\n",
       " 1  1  1\n",
       " 2  2  2\n",
       " 3  3  3\n",
       "```\n"
      ],
      "text/plain": [
       "```\n",
       "repmat(A, m::Integer, n::Integer=1)\n",
       "```\n",
       "\n",
       "Construct a matrix by repeating the given matrix (or vector) `m` times in dimension 1 and `n` times in dimension 2.\n",
       "\n",
       "# Examples\n",
       "\n",
       "```jldoctest\n",
       "julia> repmat([1, 2, 3], 2)\n",
       "6-element Array{Int64,1}:\n",
       " 1\n",
       " 2\n",
       " 3\n",
       " 1\n",
       " 2\n",
       " 3\n",
       "\n",
       "julia> repmat([1, 2, 3], 2, 3)\n",
       "6×3 Array{Int64,2}:\n",
       " 1  1  1\n",
       " 2  2  2\n",
       " 3  3  3\n",
       " 1  1  1\n",
       " 2  2  2\n",
       " 3  3  3\n",
       "```\n"
      ]
     },
     "execution_count": 50,
     "metadata": {},
     "output_type": "execute_result"
    }
   ],
   "source": [
    "?repmat"
   ]
  },
  {
   "cell_type": "code",
   "execution_count": 52,
   "metadata": {},
   "outputs": [
    {
     "name": "stdout",
     "output_type": "stream",
     "text": [
      "  0.224875 seconds (31.24 k allocations: 192.106 MiB, 9.04% gc time)\n"
     ]
    },
    {
     "data": {
      "text/plain": [
       "5000×5000 Array{Float64,2}:\n",
       " 0.32602     0.32602     0.32602     …  0.32602     0.32602     0.32602   \n",
       " 0.418829    0.418829    0.418829       0.418829    0.418829    0.418829  \n",
       " 0.389087    0.389087    0.389087       0.389087    0.389087    0.389087  \n",
       " 0.00699664  0.00699664  0.00699664     0.00699664  0.00699664  0.00699664\n",
       " 0.239262    0.239262    0.239262       0.239262    0.239262    0.239262  \n",
       " 0.546297    0.546297    0.546297    …  0.546297    0.546297    0.546297  \n",
       " 0.958796    0.958796    0.958796       0.958796    0.958796    0.958796  \n",
       " 0.253821    0.253821    0.253821       0.253821    0.253821    0.253821  \n",
       " 0.520875    0.520875    0.520875       0.520875    0.520875    0.520875  \n",
       " 0.01778     0.01778     0.01778        0.01778     0.01778     0.01778   \n",
       " 0.804453    0.804453    0.804453    …  0.804453    0.804453    0.804453  \n",
       " 0.586843    0.586843    0.586843       0.586843    0.586843    0.586843  \n",
       " 0.428846    0.428846    0.428846       0.428846    0.428846    0.428846  \n",
       " ⋮                                   ⋱                                    \n",
       " 0.85986     0.85986     0.85986        0.85986     0.85986     0.85986   \n",
       " 0.914806    0.914806    0.914806       0.914806    0.914806    0.914806  \n",
       " 0.897145    0.897145    0.897145    …  0.897145    0.897145    0.897145  \n",
       " 0.606293    0.606293    0.606293       0.606293    0.606293    0.606293  \n",
       " 0.329867    0.329867    0.329867       0.329867    0.329867    0.329867  \n",
       " 0.31288     0.31288     0.31288        0.31288     0.31288     0.31288   \n",
       " 0.0740935   0.0740935   0.0740935      0.0740935   0.0740935   0.0740935 \n",
       " 0.364871    0.364871    0.364871    …  0.364871    0.364871    0.364871  \n",
       " 0.408707    0.408707    0.408707       0.408707    0.408707    0.408707  \n",
       " 0.214853    0.214853    0.214853       0.214853    0.214853    0.214853  \n",
       " 0.68234     0.68234     0.68234        0.68234     0.68234     0.68234   \n",
       " 0.216695    0.216695    0.216695       0.216695    0.216695    0.216695  "
      ]
     },
     "execution_count": 52,
     "metadata": {},
     "output_type": "execute_result"
    }
   ],
   "source": [
    "@time C1=repmat(x,1,5000)"
   ]
  },
  {
   "cell_type": "code",
   "execution_count": null,
   "metadata": {
    "collapsed": true
   },
   "outputs": [],
   "source": []
  }
 ],
 "metadata": {
  "kernelspec": {
   "display_name": "Julia 0.6.1",
   "language": "julia",
   "name": "julia-0.6"
  },
  "language_info": {
   "file_extension": ".jl",
   "mimetype": "application/julia",
   "name": "julia",
   "version": "0.6.1"
  }
 },
 "nbformat": 4,
 "nbformat_minor": 2
}
