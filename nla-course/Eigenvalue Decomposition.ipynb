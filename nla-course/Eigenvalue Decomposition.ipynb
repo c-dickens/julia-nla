{
 "cells": [
  {
   "cell_type": "code",
   "execution_count": 2,
   "metadata": {},
   "outputs": [
    {
     "name": "stderr",
     "output_type": "stream",
     "text": [
      "\u001b[1m\u001b[36mINFO: \u001b[39m\u001b[22m\u001b[36mPrecompiling module SymPy.\n",
      "\u001b[39m\u001b[1m\u001b[36mINFO: \u001b[39m\u001b[22m\u001b[36mInstalling sympy via the Conda sympy package...\n",
      "\u001b[39m"
     ]
    },
    {
     "name": "stdout",
     "output_type": "stream",
     "text": [
      "Fetching package metadata ...........\n",
      "Solving package specifications: .\n",
      "\n",
      "Package plan for installation in environment /Users/cdickens/.julia/v0.6/Conda/deps/usr:\n",
      "\n",
      "The following NEW packages will be INSTALLED:\n",
      "\n",
      "    fastcache: 1.0.2-py27hc4635c7_0\n",
      "    gmp:       6.1.2-hb37e062_1    \n",
      "    gmpy2:     2.0.8-py27h7e2fca4_1\n",
      "    mpc:       1.0.3-hc455b36_4    \n",
      "    mpfr:      3.1.5-h7fa3772_1    \n",
      "    mpmath:    0.19-py27h09cdc99_2 \n",
      "    sympy:     1.1.1-py27hce55102_0\n",
      "\n",
      "gmp-6.1.2-hb37 100% |###############################| Time: 0:00:00   7.82 MB/s\n",
      "mpfr-3.1.5-h7f 100% |###############################| Time: 0:00:00  12.75 MB/s\n",
      "mpc-1.0.3-hc45 100% |###############################| Time: 0:00:00  20.71 MB/s\n",
      "fastcache-1.0. 100% |###############################| Time: 0:00:00  14.12 MB/s\n",
      "gmpy2-2.0.8-py 100% |###############################| Time: 0:00:00  19.91 MB/s\n",
      "mpmath-0.19-py 100% |###############################| Time: 0:00:00  14.72 MB/s\n",
      "sympy-1.1.1-py 100% |###############################| Time: 0:00:00  19.33 MB/s  17.23 MB/s | Time: 0:00:00  19.09 MB/s\n"
     ]
    }
   ],
   "source": [
    "using SymPy"
   ]
  },
  {
   "cell_type": "code",
   "execution_count": 11,
   "metadata": {},
   "outputs": [
    {
     "data": {
      "text/plain": [
       "3×3 Array{Int64,2}:\n",
       " -3    7  -1\n",
       "  6    8  -2\n",
       " 72  -28  19"
      ]
     },
     "execution_count": 11,
     "metadata": {},
     "output_type": "execute_result"
    }
   ],
   "source": [
    "A=[-3 7 -1; 6 8 -2; 72 -28 19]"
   ]
  },
  {
   "cell_type": "code",
   "execution_count": 12,
   "metadata": {},
   "outputs": [
    {
     "data": {
      "text/plain": [
       "(x,)"
      ]
     },
     "execution_count": 12,
     "metadata": {},
     "output_type": "execute_result"
    }
   ],
   "source": [
    "@vars x"
   ]
  },
  {
   "cell_type": "code",
   "execution_count": 13,
   "metadata": {},
   "outputs": [
    {
     "data": {
      "text/latex": [
       "\\begin{bmatrix}- x - 3&7&-1\\\\6&- x + 8&-2\\\\72&-28&- x + 19\\end{bmatrix}"
      ],
      "text/plain": [
       "3×3 Array{SymPy.Sym,2}:\n",
       " -x - 3       7       -1\n",
       "      6  -x + 8       -2\n",
       "     72     -28  -x + 19"
      ]
     },
     "execution_count": 13,
     "metadata": {},
     "output_type": "execute_result"
    }
   ],
   "source": [
    "A - x*I"
   ]
  },
  {
   "cell_type": "code",
   "execution_count": 14,
   "metadata": {},
   "outputs": [
    {
     "data": {
      "text/latex": [
       "$$- \\left(x - 15\\right)^{2} \\left(x + 6\\right)$$"
      ],
      "text/plain": [
       "         2        \n",
       "-(x - 15) *(x + 6)"
      ]
     },
     "execution_count": 14,
     "metadata": {},
     "output_type": "execute_result"
    }
   ],
   "source": [
    "# Characteristic polynomial\n",
    "p(x) = factor(det(A - x*I))\n",
    "p(x)"
   ]
  },
  {
   "cell_type": "code",
   "execution_count": 15,
   "metadata": {},
   "outputs": [
    {
     "data": {
      "text/latex": [
       "\\begin{bmatrix}-6\\\\15\\end{bmatrix}"
      ],
      "text/plain": [
       "2-element Array{SymPy.Sym,1}:\n",
       " -6\n",
       " 15"
      ]
     },
     "execution_count": 15,
     "metadata": {},
     "output_type": "execute_result"
    }
   ],
   "source": [
    "lambda = solve(p(x),x)"
   ]
  },
  {
   "cell_type": "code",
   "execution_count": 17,
   "metadata": {},
   "outputs": [
    {
     "data": {
      "text/plain": [
       "1-element Array{Array{SymPy.Sym,1},1}:\n",
       " SymPy.Sym[-1/4, 1/4, 1]"
      ]
     },
     "execution_count": 17,
     "metadata": {},
     "output_type": "execute_result"
    }
   ],
   "source": [
    "g = nullspace(A - lambda[1]*I)\n",
    "g"
   ]
  },
  {
   "cell_type": "code",
   "execution_count": 18,
   "metadata": {},
   "outputs": [
    {
     "data": {
      "text/plain": [
       "1-element Array{Array{SymPy.Sym,1},1}:\n",
       " SymPy.Sym[-1/4, -1/2, 1]"
      ]
     },
     "execution_count": 18,
     "metadata": {},
     "output_type": "execute_result"
    }
   ],
   "source": [
    "h = nullspace(A - lambda[2]*I)"
   ]
  },
  {
   "cell_type": "code",
   "execution_count": 21,
   "metadata": {},
   "outputs": [
    {
     "data": {
      "text/plain": [
       "(24, 24)"
      ]
     },
     "execution_count": 21,
     "metadata": {},
     "output_type": "execute_result"
    }
   ],
   "source": [
    "trace(A), lambda[1]+lambda[2]+lambda[2]"
   ]
  },
  {
   "cell_type": "code",
   "execution_count": 22,
   "metadata": {},
   "outputs": [
    {
     "data": {
      "text/plain": [
       "(-1350.0000000000002, -1350)"
      ]
     },
     "execution_count": 22,
     "metadata": {},
     "output_type": "execute_result"
    }
   ],
   "source": [
    "det(A), lambda[1]*lambda[2]*lambda[2]"
   ]
  },
  {
   "cell_type": "code",
   "execution_count": 23,
   "metadata": {},
   "outputs": [
    {
     "data": {
      "text/plain": [
       "Base.LinAlg"
      ]
     },
     "execution_count": 23,
     "metadata": {},
     "output_type": "execute_result"
    }
   ],
   "source": [
    "@which schur"
   ]
  },
  {
   "cell_type": "code",
   "execution_count": 24,
   "metadata": {},
   "outputs": [
    {
     "data": {
      "text/plain": [
       "Base.LinAlg.Schur{Float64,Array{Float64,2}} with factors T and Z:\n",
       "[-6.0 25.4662 -72.2009; 0.0 15.0 -12.0208; 0.0 1.48587e-15 15.0]\n",
       "[-0.235702 -0.0571662 -0.970143; 0.235702 -0.971825 -5.90663e-16; 0.942809 0.228665 -0.242536]\n",
       "and values:\n",
       "Complex{Float64}[-6.0+0.0im, 15.0+1.33647e-7im, 15.0-1.33647e-7im]"
      ]
     },
     "execution_count": 24,
     "metadata": {},
     "output_type": "execute_result"
    }
   ],
   "source": [
    "F = schurfact(A)"
   ]
  },
  {
   "cell_type": "code",
   "execution_count": 26,
   "metadata": {},
   "outputs": [
    {
     "data": {
      "text/plain": [
       "3-element Array{Symbol,1}:\n",
       " :T     \n",
       " :Z     \n",
       " :values"
      ]
     },
     "execution_count": 26,
     "metadata": {},
     "output_type": "execute_result"
    }
   ],
   "source": [
    "fieldnames(F)"
   ]
  },
  {
   "cell_type": "code",
   "execution_count": 25,
   "metadata": {},
   "outputs": [
    {
     "data": {
      "text/plain": [
       "3×3 Array{Float64,2}:\n",
       " -0.235702  -0.0571662  -0.970143   \n",
       "  0.235702  -0.971825   -5.90663e-16\n",
       "  0.942809   0.228665   -0.242536   "
      ]
     },
     "execution_count": 25,
     "metadata": {},
     "output_type": "execute_result"
    }
   ],
   "source": [
    "F.Z"
   ]
  },
  {
   "cell_type": "code",
   "execution_count": 27,
   "metadata": {},
   "outputs": [
    {
     "data": {
      "text/plain": [
       "3×3 Array{Float64,2}:\n",
       " -0.235702  -0.0571662  -0.970143   \n",
       "  0.235702  -0.971825   -5.90663e-16\n",
       "  0.942809   0.228665   -0.242536   "
      ]
     },
     "execution_count": 27,
     "metadata": {},
     "output_type": "execute_result"
    }
   ],
   "source": [
    "F[:Z]"
   ]
  },
  {
   "cell_type": "code",
   "execution_count": 29,
   "metadata": {},
   "outputs": [
    {
     "name": "stdout",
     "output_type": "stream",
     "text": [
      "[-6.0, 15.0, 15.0]\n"
     ]
    }
   ],
   "source": [
    "println(diag(F.T))"
   ]
  },
  {
   "cell_type": "code",
   "execution_count": 30,
   "metadata": {},
   "outputs": [
    {
     "data": {
      "text/plain": [
       "3×3 Array{Int64,2}:\n",
       "   57  -21   21\n",
       "  -14   22   -7\n",
       " -140   70  -55"
      ]
     },
     "execution_count": 30,
     "metadata": {},
     "output_type": "execute_result"
    }
   ],
   "source": [
    "# Example\n",
    "A=[57 -21 21; -14 22 -7; -140 70 -55] # nondefective diagonlizable matrix"
   ]
  },
  {
   "cell_type": "code",
   "execution_count": 31,
   "metadata": {},
   "outputs": [
    {
     "data": {
      "text/latex": [
       "$$- \\left(x - 15\\right)^{2} \\left(x + 6\\right)$$"
      ],
      "text/plain": [
       "         2        \n",
       "-(x - 15) *(x + 6)"
      ]
     },
     "execution_count": 31,
     "metadata": {},
     "output_type": "execute_result"
    }
   ],
   "source": [
    "p(x) = factor(det(A - x*I))\n",
    "p(x)"
   ]
  },
  {
   "cell_type": "code",
   "execution_count": 32,
   "metadata": {},
   "outputs": [
    {
     "data": {
      "text/latex": [
       "\\begin{bmatrix}-6\\\\15\\end{bmatrix}"
      ],
      "text/plain": [
       "2-element Array{SymPy.Sym,1}:\n",
       " -6\n",
       " 15"
      ]
     },
     "execution_count": 32,
     "metadata": {},
     "output_type": "execute_result"
    }
   ],
   "source": [
    "\n",
    "λ=solve(p(x),x)"
   ]
  },
  {
   "cell_type": "code",
   "execution_count": 33,
   "metadata": {},
   "outputs": [
    {
     "data": {
      "text/plain": [
       "2-element Array{Array{SymPy.Sym,1},1}:\n",
       " SymPy.Sym[1/2, 1, 0] \n",
       " SymPy.Sym[-1/2, 0, 1]"
      ]
     },
     "execution_count": 33,
     "metadata": {},
     "output_type": "execute_result"
    }
   ],
   "source": [
    "h=nullspace(A-λ[2]*I)"
   ]
  },
  {
   "cell_type": "markdown",
   "metadata": {},
   "source": [
    "## Perturbation\n"
   ]
  },
  {
   "cell_type": "code",
   "execution_count": 34,
   "metadata": {},
   "outputs": [
    {
     "data": {
      "text/plain": [
       "5-element Array{Int64,1}:\n",
       " -4\n",
       " -1\n",
       "  2\n",
       "  1\n",
       " -1"
      ]
     },
     "execution_count": 34,
     "metadata": {},
     "output_type": "execute_result"
    }
   ],
   "source": [
    "x = rand(-4:4,5)"
   ]
  },
  {
   "cell_type": "code",
   "execution_count": 35,
   "metadata": {},
   "outputs": [
    {
     "data": {
      "text/plain": [
       "(9.0, 4.795831523312719, 4.0)"
      ]
     },
     "execution_count": 35,
     "metadata": {},
     "output_type": "execute_result"
    }
   ],
   "source": [
    "norm(x,1), norm(x,2), norm(x, Inf)"
   ]
  },
  {
   "cell_type": "code",
   "execution_count": 36,
   "metadata": {},
   "outputs": [
    {
     "data": {
      "text/plain": [
       "7×5 Array{Int64,2}:\n",
       " -3   1   4   4   2\n",
       "  0  -2   1  -4   2\n",
       "  0   2   1   1  -4\n",
       "  3   4  -3  -3  -3\n",
       "  1   1  -2   3   2\n",
       " -4  -4  -4  -3   1\n",
       " -4  -3  -4  -2   1"
      ]
     },
     "execution_count": 36,
     "metadata": {},
     "output_type": "execute_result"
    }
   ],
   "source": [
    "A = rand(-4:4, 7,5)"
   ]
  },
  {
   "cell_type": "code",
   "execution_count": 37,
   "metadata": {},
   "outputs": [
    {
     "data": {
      "text/plain": [
       "(20.0, 11.216857889434168, 11.216857889434168, 16.0, 16.3707055437449)"
      ]
     },
     "execution_count": 37,
     "metadata": {},
     "output_type": "execute_result"
    }
   ],
   "source": [
    "norm(A,1), norm(A), norm(A,2), norm(A, Inf), vecnorm(A)"
   ]
  },
  {
   "cell_type": "code",
   "execution_count": 38,
   "metadata": {},
   "outputs": [
    {
     "data": {
      "text/plain": [
       "16.3707055437449"
      ]
     },
     "execution_count": 38,
     "metadata": {},
     "output_type": "execute_result"
    }
   ],
   "source": [
    "norm(vec(A))"
   ]
  },
  {
   "cell_type": "markdown",
   "metadata": {},
   "source": [
    "## Examples"
   ]
  },
  {
   "cell_type": "code",
   "execution_count": null,
   "metadata": {
    "collapsed": true
   },
   "outputs": [],
   "source": []
  }
 ],
 "metadata": {
  "kernelspec": {
   "display_name": "Julia 0.6.1",
   "language": "julia",
   "name": "julia-0.6"
  },
  "language_info": {
   "file_extension": ".jl",
   "mimetype": "application/julia",
   "name": "julia",
   "version": "0.6.1"
  }
 },
 "nbformat": 4,
 "nbformat_minor": 2
}
